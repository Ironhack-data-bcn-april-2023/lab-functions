{
 "cells": [
  {
   "cell_type": "markdown",
   "metadata": {},
   "source": [
    "# Functions"
   ]
  },
  {
   "cell_type": "markdown",
   "metadata": {},
   "source": [
    "On this lab we will put to practice some of the concepts we have learned on this past few days.\n",
    "\n",
    "`NOTE: On this lab you should try to write all the functions yourself using only the most basic of python syntax and without functions such as len, count, sum, max, min, in, etc. Give it a try. 🧑🏻‍💻👩🏻‍💻`\n",
    "\n",
    "The cell after each exercise contains a few tests to check if your function works as expected."
   ]
  },
  {
   "cell_type": "code",
   "execution_count": 1,
   "metadata": {},
   "outputs": [],
   "source": [
    "from mod.testing import *\n",
    "import unittest"
   ]
  },
  {
   "cell_type": "markdown",
   "metadata": {},
   "source": [
    "## 1. Write a function that returns the greater of two numbers"
   ]
  },
  {
   "cell_type": "code",
   "execution_count": 2,
   "metadata": {},
   "outputs": [],
   "source": [
    "def greater(a,b):\n",
    "    if a>b:\n",
    "        return(a)\n",
    "    else:\n",
    "        return(b)\n",
    "    "
   ]
  },
  {
   "cell_type": "code",
   "execution_count": 3,
   "metadata": {},
   "outputs": [
    {
     "name": "stderr",
     "output_type": "stream",
     "text": [
      "....................................................................................................\n",
      "----------------------------------------------------------------------\n",
      "Ran 100 tests in 0.029s\n",
      "\n",
      "OK\n"
     ]
    }
   ],
   "source": [
    "# This will test your function \n",
    "test_greater(greater)"
   ]
  },
  {
   "cell_type": "markdown",
   "metadata": {},
   "source": [
    "## 2. Now write a function that returns the largest element on a list"
   ]
  },
  {
   "cell_type": "code",
   "execution_count": 4,
   "metadata": {},
   "outputs": [],
   "source": [
    "def greatest(arr):\n",
    "    \"\"\" This function checks if each element in the list is bigger that the previous biggest on\n",
    "    one and returns the largest one. \n",
    "    arr=list\n",
    "    returns: the largest number\"\"\"       \n",
    "    largest = 0 \n",
    "    for i in arr:\n",
    "        if i > largest:\n",
    "            largest = i\n",
    "    return largest\n",
    "\n"
   ]
  },
  {
   "cell_type": "code",
   "execution_count": 5,
   "metadata": {},
   "outputs": [
    {
     "name": "stderr",
     "output_type": "stream",
     "text": [
      "....................................................................................................\n",
      "----------------------------------------------------------------------\n",
      "Ran 100 tests in 0.028s\n",
      "\n",
      "OK\n"
     ]
    }
   ],
   "source": [
    "# This will test your function \n",
    "test_greatest(greatest)"
   ]
  },
  {
   "cell_type": "markdown",
   "metadata": {},
   "source": [
    "## 3. Write a function that sums all the elements on a list"
   ]
  },
  {
   "cell_type": "code",
   "execution_count": 6,
   "metadata": {},
   "outputs": [],
   "source": [
    "def sum_all(arr):\n",
    "    \"\"\" This function sums all the elements in a list\n",
    "    arr=list\n",
    "    returns: the sum\"\"\"  \n",
    "    total=0\n",
    "    for i in arr: \n",
    "        total+=i\n",
    "    return(total)"
   ]
  },
  {
   "cell_type": "code",
   "execution_count": 7,
   "metadata": {},
   "outputs": [
    {
     "name": "stderr",
     "output_type": "stream",
     "text": [
      "....................................................................................................\n",
      "----------------------------------------------------------------------\n",
      "Ran 100 tests in 0.027s\n",
      "\n",
      "OK\n"
     ]
    }
   ],
   "source": [
    "# This will test your function \n",
    "test_sum(sum_all)"
   ]
  },
  {
   "cell_type": "markdown",
   "metadata": {},
   "source": [
    "## 4. Write another function that multiplies all the elements on a list"
   ]
  },
  {
   "cell_type": "code",
   "execution_count": 8,
   "metadata": {},
   "outputs": [],
   "source": [
    "arr=[1,2,3]\n",
    "def mult_all(arr):\n",
    "    \"\"\" This function multiplies all the elements in a list\n",
    "    arr=list\n",
    "    returns: the multiplication\"\"\"  \n",
    "    total=1\n",
    "    for i in arr: \n",
    "        total*=i\n",
    "    return(total)\n"
   ]
  },
  {
   "cell_type": "code",
   "execution_count": 9,
   "metadata": {},
   "outputs": [
    {
     "name": "stderr",
     "output_type": "stream",
     "text": [
      "....................................................................................................\n",
      "----------------------------------------------------------------------\n",
      "Ran 100 tests in 0.027s\n",
      "\n",
      "OK\n"
     ]
    }
   ],
   "source": [
    "# This will test your function \n",
    "test_mult(mult_all)"
   ]
  },
  {
   "cell_type": "markdown",
   "metadata": {},
   "source": [
    "## 5. Now combine those two ideas and write a function that receives a list and either \"+\" or \"*\" and outputs acordingly"
   ]
  },
  {
   "cell_type": "code",
   "execution_count": 10,
   "metadata": {},
   "outputs": [],
   "source": [
    "def oper_all(arr, oper):\n",
    "    \"\"\" This fsums or multiplies depending on the oper input.\n",
    "    arr=list, oper= * or +\n",
    "    returns: either a multiplication or addition\"\"\"\n",
    "    if oper == \"+\":\n",
    "        return sum_all(arr)\n",
    "    elif oper == \"*\":\n",
    "        return mult_all(arr)"
   ]
  },
  {
   "cell_type": "code",
   "execution_count": 11,
   "metadata": {},
   "outputs": [
    {
     "name": "stderr",
     "output_type": "stream",
     "text": [
      "....................................................................................................\n",
      "----------------------------------------------------------------------\n",
      "Ran 100 tests in 0.027s\n",
      "\n",
      "OK\n"
     ]
    }
   ],
   "source": [
    "# This will test your function \n",
    "test_operations(oper_all)"
   ]
  },
  {
   "cell_type": "markdown",
   "metadata": {},
   "source": [
    "## 6. Write a function that returns the factorial of a number."
   ]
  },
  {
   "cell_type": "code",
   "execution_count": 12,
   "metadata": {},
   "outputs": [
    {
     "name": "stdout",
     "output_type": "stream",
     "text": [
      "6\n"
     ]
    }
   ],
   "source": [
    "def factorial(n):\n",
    "    \"\"\" This multiplies all the elements in the range 1 to n until it gets to n. \n",
    "    aka: factorial \n",
    "    n=int\n",
    "    return: factorial of a number n\"\"\"\n",
    "    total=1\n",
    "    for i in range(1,(n+1)): \n",
    "        total*=i\n",
    "    return(total)\n",
    "\n",
    "\n",
    "print(factorial(3))"
   ]
  },
  {
   "cell_type": "code",
   "execution_count": 13,
   "metadata": {},
   "outputs": [
    {
     "name": "stderr",
     "output_type": "stream",
     "text": [
      "....................................................................................................\n",
      "----------------------------------------------------------------------\n",
      "Ran 100 tests in 0.059s\n",
      "\n",
      "OK\n"
     ]
    }
   ],
   "source": [
    "# This will test your function \n",
    "test_factorial(factorial)"
   ]
  },
  {
   "cell_type": "markdown",
   "metadata": {},
   "source": [
    "## 7. Write a function that takes a list and returns a list of the unique values.\n",
    "\n",
    "`NOTE: You cannot use set. 🤔`"
   ]
  },
  {
   "cell_type": "code",
   "execution_count": 66,
   "metadata": {},
   "outputs": [],
   "source": [
    "def unique(arr):\n",
    "    \"\"\" This function takes a list and returns a list of the unique values. \n",
    "    arr:list\n",
    "    return: list of unique values\"\"\"\n",
    "    list_unique=[]\n",
    "    for i in arr:\n",
    "        if i not in list_unique:\n",
    "            list_unique.append(i)\n",
    "    return list_unique\n",
    "    "
   ]
  },
  {
   "cell_type": "code",
   "execution_count": 67,
   "metadata": {},
   "outputs": [
    {
     "name": "stderr",
     "output_type": "stream",
     "text": [
      "....................................................................................................\n",
      "----------------------------------------------------------------------\n",
      "Ran 100 tests in 0.139s\n",
      "\n",
      "OK\n"
     ]
    }
   ],
   "source": [
    "# This will test your function \n",
    "test_unique(unique)"
   ]
  },
  {
   "cell_type": "markdown",
   "metadata": {},
   "source": [
    "## 8. Write a function that calculates the standard deviation of a list.\n",
    "`NOTE: Do not use any libraries or already built functions. 😉`"
   ]
  },
  {
   "cell_type": "code",
   "execution_count": 16,
   "metadata": {},
   "outputs": [],
   "source": [
    "def st_dev(arr):\n",
    "    \n",
    "    \"\"\" This function calculates the standard deviation of a list\n",
    "    arr:list\n",
    "    return: standard deviation\"\"\"\n",
    "    \n",
    "    mean=sum_all(arr)/(len(arr))\n",
    "    n=len(arr)-1\n",
    "    total_sum=0\n",
    "    \n",
    "    for i in arr:\n",
    "        total_sum+=(i-mean)**2\n",
    "    result=(total_sum/n)**0.5\n",
    "    return (result)"
   ]
  },
  {
   "cell_type": "code",
   "execution_count": 17,
   "metadata": {},
   "outputs": [
    {
     "name": "stdout",
     "output_type": "stream",
     "text": [
      "1.707825127659933\n"
     ]
    }
   ],
   "source": [
    "print (st_dev([4,6,7,8]))"
   ]
  },
  {
   "cell_type": "code",
   "execution_count": 18,
   "metadata": {},
   "outputs": [],
   "source": [
    "# This will test your function\n",
    "#test_stdev(st_dev)\n",
    "\n",
    "# Our tests need to be improved, so for this exercise, we care about the code itself. You may check if you get\n",
    "# similar results by checking with:\n",
    "\n",
    "from statistics import stdev"
   ]
  },
  {
   "cell_type": "markdown",
   "metadata": {},
   "source": [
    "## 9. Write a function to check if a string is a pangram, i.e.: if it contains all the letters of the alphabet at least once. Mind that the strings may contain characters that are not letters."
   ]
  },
  {
   "cell_type": "code",
   "execution_count": 19,
   "metadata": {},
   "outputs": [],
   "source": [
    "def pangram(string):\n",
    "    alphabet= \"abcdefghijklmnopqrstuvwxyz\"\n",
    "    for i in alphabet:\n",
    "        if i not in string.lower():\n",
    "            return False\n",
    "    return True"
   ]
  },
  {
   "cell_type": "code",
   "execution_count": 20,
   "metadata": {},
   "outputs": [
    {
     "name": "stderr",
     "output_type": "stream",
     "text": [
      "..............................\n",
      "----------------------------------------------------------------------\n",
      "Ran 30 tests in 0.012s\n",
      "\n",
      "OK\n"
     ]
    }
   ],
   "source": [
    "# This will test your function \n",
    "test_pangram(pangram)"
   ]
  },
  {
   "cell_type": "markdown",
   "metadata": {},
   "source": [
    "## 10. Write a function to check if a given password is strong (at least 8 characters, at least one lower case, at least one upper case, at least one number and at least one special character). It should output True if strong and False if not.\n",
    "`Valid special characters: # @ ! $ % & ( ) ^ * [ ] { }`"
   ]
  },
  {
   "cell_type": "code",
   "execution_count": 68,
   "metadata": {},
   "outputs": [],
   "source": [
    "def check_pass(string):\n",
    "    \"\"\" This function checks if each character of the string introduced is in any of the\n",
    "    defined lists. If it is there, it addds 1 to the counter and checks if all character types\n",
    "    are included\n",
    "    string: password\n",
    "    return: true or false\"\"\"\n",
    "    lower_case= \"abcdefghijklmnopqrstuvwxyz\"\n",
    "    upper_case= \"ABCDEFGHIJKLMNOPQRSTUWXYZ\"\n",
    "    number= \"1234567890\"\n",
    "    special_character= \"#@!$%&()^*[]{}\"\n",
    "    count_lower=0\n",
    "    count_upper=0\n",
    "    count_number=0\n",
    "    count_special=0\n",
    "    \n",
    "    if len(string) < 8:\n",
    "        return False\n",
    "    \n",
    "    # Here I am counting the characters\n",
    "    for i in string:\n",
    "        if i in lower_case:\n",
    "            count_lower += 1\n",
    "        elif i in upper_case:\n",
    "            count_upper += 1\n",
    "        elif i in number:\n",
    "            count_number += 1\n",
    "        elif i in special_character:\n",
    "            count_special += 1\n",
    "    \n",
    "    # Check if all character types are present\n",
    "    if all([count_lower >= 1, count_upper >= 1, count_number >= 1, count_special >= 1]):\n",
    "        return True\n",
    "    else:\n",
    "        return False\n"
   ]
  },
  {
   "cell_type": "code",
   "execution_count": 62,
   "metadata": {},
   "outputs": [
    {
     "data": {
      "text/plain": [
       "True"
      ]
     },
     "execution_count": 62,
     "metadata": {},
     "output_type": "execute_result"
    }
   ],
   "source": [
    "check_pass(\"abcA2121!\")"
   ]
  },
  {
   "cell_type": "markdown",
   "metadata": {},
   "source": [
    "## BONUS"
   ]
  },
  {
   "cell_type": "markdown",
   "metadata": {},
   "source": [
    "## 11. Write a function that returns the mode of a list, i.e.: the element that appears the most times.\n",
    "`NOTE: You should not use count... 🧐`"
   ]
  },
  {
   "cell_type": "code",
   "execution_count": 65,
   "metadata": {},
   "outputs": [],
   "source": [
    "def mode_counter(arr):\n",
    "    \"\"\"\" this function creates a list of the frequency for each element of the original list,\n",
    "    and iterates though it to find the one with highest frequency.\n",
    "    arr=list\n",
    "    return: mode \"\"\"\n",
    "    frequency = {}\n",
    "    for i in arr:\n",
    "        if i in frequency:\n",
    "            frequency[i]+=1\n",
    "        else:\n",
    "            frequency[i]= 1\n",
    "    max_freq=0\n",
    "    for i in frequency:\n",
    "        if frequency[i]>max_freq:\n",
    "            mode=i\n",
    "            max_freq= frequency[i]\n",
    "    return mode\n",
    "        "
   ]
  },
  {
   "cell_type": "code",
   "execution_count": 64,
   "metadata": {},
   "outputs": [
    {
     "name": "stderr",
     "output_type": "stream",
     "text": [
      "....................................................................................................\n",
      "----------------------------------------------------------------------\n",
      "Ran 100 tests in 0.049s\n",
      "\n",
      "OK\n"
     ]
    }
   ],
   "source": [
    "# This will test your function \n",
    "test_mode(mode_counter)"
   ]
  },
  {
   "cell_type": "markdown",
   "metadata": {},
   "source": [
    "## 12. Write a function that receives a string of comma separated words and returns a string of comma separated words sorted alphabetically.\n",
    "\n",
    "`NOTE: You may use sorted but not split and definitely no join! 🤪`"
   ]
  },
  {
   "cell_type": "code",
   "execution_count": 87,
   "metadata": {},
   "outputs": [],
   "source": [
    "def sort_alpha(string):\n",
    "    \"\"\" this function creates a list with the comma separeted words and sorts it, \n",
    "    to later on change it back to a sorted comma separeted string.\n",
    "    string: words separeted by a comma\n",
    "    return: same words sorted alphabetically\"\"\"\n",
    "    list_sorted=[]\n",
    "    current_word= \"\"\n",
    "    for i in string:\n",
    "        if i==\",\":\n",
    "            list_sorted.append(current_word)\n",
    "            current_word=\"\"\n",
    "        else:\n",
    "            current_word+=i\n",
    "    list_sorted.append(current_word)\n",
    "    list_sorted.sort()\n",
    "    #converting the sorted list to a comma separeted string\n",
    "    sorted_str = \"\"\n",
    "    for i in range(len(list_sorted)):\n",
    "        sorted_str += list_sorted[i]\n",
    "        if i < (len(list_sorted) - 1):\n",
    "            sorted_str += \",\"\n",
    "    \n",
    "    return sorted_str\n",
    "    \n",
    "    \n",
    "    "
   ]
  },
  {
   "cell_type": "code",
   "execution_count": 88,
   "metadata": {},
   "outputs": [
    {
     "name": "stderr",
     "output_type": "stream",
     "text": [
      "....................................................................................................\n",
      "----------------------------------------------------------------------\n",
      "Ran 100 tests in 0.038s\n",
      "\n",
      "OK\n"
     ]
    }
   ],
   "source": [
    "# This will test your function \n",
    "test_alpha(sort_alpha)"
   ]
  },
  {
   "cell_type": "code",
   "execution_count": null,
   "metadata": {},
   "outputs": [],
   "source": []
  },
  {
   "cell_type": "code",
   "execution_count": null,
   "metadata": {},
   "outputs": [],
   "source": []
  },
  {
   "cell_type": "code",
   "execution_count": null,
   "metadata": {},
   "outputs": [],
   "source": []
  }
 ],
 "metadata": {
  "kernelspec": {
   "display_name": "Python 3 (ipykernel)",
   "language": "python",
   "name": "python3"
  },
  "language_info": {
   "codemirror_mode": {
    "name": "ipython",
    "version": 3
   },
   "file_extension": ".py",
   "mimetype": "text/x-python",
   "name": "python",
   "nbconvert_exporter": "python",
   "pygments_lexer": "ipython3",
   "version": "3.9.13"
  },
  "toc": {
   "base_numbering": 1,
   "nav_menu": {},
   "number_sections": true,
   "sideBar": true,
   "skip_h1_title": false,
   "title_cell": "Table of Contents",
   "title_sidebar": "Contents",
   "toc_cell": false,
   "toc_position": {},
   "toc_section_display": true,
   "toc_window_display": false
  }
 },
 "nbformat": 4,
 "nbformat_minor": 4
}
