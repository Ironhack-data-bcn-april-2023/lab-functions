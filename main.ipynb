{
 "cells": [
  {
   "cell_type": "markdown",
   "metadata": {},
   "source": [
    "# Functions"
   ]
  },
  {
   "cell_type": "markdown",
   "metadata": {},
   "source": [
    "On this lab we will put to practice some of the concepts we have learned on this past few days.\n",
    "\n",
    "`NOTE: On this lab you should try to write all the functions yourself using only the most basic of python syntax and without functions such as len, count, sum, max, min, in, etc. Give it a try. 🧑🏻‍💻👩🏻‍💻`\n",
    "\n",
    "The cell after each exercise contains a few tests to check if your function works as expected."
   ]
  },
  {
   "cell_type": "code",
   "execution_count": 1,
   "metadata": {},
   "outputs": [],
   "source": [
    "from mod.testing import *\n",
    "import unittest"
   ]
  },
  {
   "cell_type": "markdown",
   "metadata": {},
   "source": [
    "## 1. Write a function that returns the greater of two numbers"
   ]
  },
  {
   "cell_type": "code",
   "execution_count": 2,
   "metadata": {},
   "outputs": [],
   "source": [
    "def greater(a,b):\n",
    "    if a>b:\n",
    "        return a\n",
    "    else:\n",
    "        return b "
   ]
  },
  {
   "cell_type": "code",
   "execution_count": 3,
   "metadata": {},
   "outputs": [
    {
     "name": "stderr",
     "output_type": "stream",
     "text": [
      "....................................................................................................\n",
      "----------------------------------------------------------------------\n",
      "Ran 100 tests in 0.102s\n",
      "\n",
      "OK\n"
     ]
    }
   ],
   "source": [
    "test_greater(greater)\n"
   ]
  },
  {
   "cell_type": "code",
   "execution_count": 4,
   "metadata": {},
   "outputs": [
    {
     "data": {
      "text/plain": [
       "5"
      ]
     },
     "execution_count": 4,
     "metadata": {},
     "output_type": "execute_result"
    }
   ],
   "source": [
    "greater(4,5)"
   ]
  },
  {
   "cell_type": "markdown",
   "metadata": {},
   "source": [
    "## 2. Now write a function that returns the largest element on a list"
   ]
  },
  {
   "cell_type": "code",
   "execution_count": 4,
   "metadata": {},
   "outputs": [],
   "source": [
    "def greatest(items):\n",
    "    largest = 0\n",
    "    for num in items:\n",
    "        if num > largest:\n",
    "            largest=num\n",
    "    return largest\n",
    "#1st option"
   ]
  },
  {
   "cell_type": "code",
   "execution_count": 5,
   "metadata": {},
   "outputs": [],
   "source": [
    "def greatest(items):\n",
    "    largest = items[0]\n",
    "    for num in items:\n",
    "        if num > largest:\n",
    "            largest=num\n",
    "    return largest\n",
    "#2nd option"
   ]
  },
  {
   "cell_type": "code",
   "execution_count": 6,
   "metadata": {},
   "outputs": [
    {
     "name": "stderr",
     "output_type": "stream",
     "text": [
      "....................................................................................................\n",
      "----------------------------------------------------------------------\n",
      "Ran 100 tests in 0.094s\n",
      "\n",
      "OK\n"
     ]
    }
   ],
   "source": [
    "test_greatest(greatest)"
   ]
  },
  {
   "cell_type": "code",
   "execution_count": 8,
   "metadata": {},
   "outputs": [
    {
     "data": {
      "text/plain": [
       "8"
      ]
     },
     "execution_count": 8,
     "metadata": {},
     "output_type": "execute_result"
    }
   ],
   "source": [
    "items=(4,7,8,5,6)\n",
    "greatest(items)"
   ]
  },
  {
   "cell_type": "markdown",
   "metadata": {},
   "source": [
    "## 3. Write a function that sums all the elements on a list"
   ]
  },
  {
   "cell_type": "code",
   "execution_count": 9,
   "metadata": {},
   "outputs": [],
   "source": [
    "def sum_all(numbers_list):\n",
    "    counter=0\n",
    "    for item in numbers_list:\n",
    "        counter+=item\n",
    "    return counter"
   ]
  },
  {
   "cell_type": "code",
   "execution_count": 10,
   "metadata": {},
   "outputs": [
    {
     "name": "stderr",
     "output_type": "stream",
     "text": [
      "....................................................................................................\n",
      "----------------------------------------------------------------------\n",
      "Ran 100 tests in 0.095s\n",
      "\n",
      "OK\n"
     ]
    }
   ],
   "source": [
    "# This will test your function \n",
    "test_sum(sum_all)"
   ]
  },
  {
   "cell_type": "markdown",
   "metadata": {},
   "source": [
    "## 4. Write another function that multiplies all the elements on a list"
   ]
  },
  {
   "cell_type": "code",
   "execution_count": 11,
   "metadata": {},
   "outputs": [],
   "source": [
    "def mult_all(arr):\n",
    "    counters=1\n",
    "    for items in arr:\n",
    "        counters*=items\n",
    "    return counters"
   ]
  },
  {
   "cell_type": "code",
   "execution_count": 12,
   "metadata": {},
   "outputs": [
    {
     "name": "stderr",
     "output_type": "stream",
     "text": [
      "....................................................................................................\n",
      "----------------------------------------------------------------------\n",
      "Ran 100 tests in 0.105s\n",
      "\n",
      "OK\n"
     ]
    }
   ],
   "source": [
    "# This will test your function \n",
    "test_mult(mult_all)"
   ]
  },
  {
   "cell_type": "code",
   "execution_count": 13,
   "metadata": {},
   "outputs": [
    {
     "data": {
      "text/plain": [
       "300"
      ]
     },
     "execution_count": 13,
     "metadata": {},
     "output_type": "execute_result"
    }
   ],
   "source": [
    "arr=(5,4,5,3)\n",
    "mult_all(arr)"
   ]
  },
  {
   "cell_type": "markdown",
   "metadata": {},
   "source": [
    "## 5. Now combine those two ideas and write a function that receives a list and either \"+\" or \"*\" and outputs acordingly"
   ]
  },
  {
   "cell_type": "code",
   "execution_count": 14,
   "metadata": {},
   "outputs": [],
   "source": [
    "def oper_all(arr, oper):\n",
    "    if oper == \"*\":\n",
    "        return mult_all(arr)\n",
    "    if oper == \"+\":\n",
    "        return sum_all(arr)"
   ]
  },
  {
   "cell_type": "code",
   "execution_count": 15,
   "metadata": {},
   "outputs": [
    {
     "name": "stderr",
     "output_type": "stream",
     "text": [
      "....................................................................................................\n",
      "----------------------------------------------------------------------\n",
      "Ran 100 tests in 0.090s\n",
      "\n",
      "OK\n"
     ]
    }
   ],
   "source": [
    "# This will test your function \n",
    "test_operations(oper_all)"
   ]
  },
  {
   "cell_type": "code",
   "execution_count": 16,
   "metadata": {},
   "outputs": [
    {
     "data": {
      "text/plain": [
       "240"
      ]
     },
     "execution_count": 16,
     "metadata": {},
     "output_type": "execute_result"
    }
   ],
   "source": [
    "oper_all([2,4,5,3,2],\"*\")"
   ]
  },
  {
   "cell_type": "markdown",
   "metadata": {},
   "source": [
    "## 6. Write a function that returns the factorial of a number."
   ]
  },
  {
   "cell_type": "code",
   "execution_count": 17,
   "metadata": {},
   "outputs": [],
   "source": [
    "def factorial(n):\n",
    "    if n==0:\n",
    "        return 1\n",
    "    else:\n",
    "        return n*factorial(n-1)"
   ]
  },
  {
   "cell_type": "code",
   "execution_count": 18,
   "metadata": {},
   "outputs": [
    {
     "name": "stderr",
     "output_type": "stream",
     "text": [
      "....................................................................................................\n",
      "----------------------------------------------------------------------\n",
      "Ran 100 tests in 0.088s\n",
      "\n",
      "OK\n"
     ]
    }
   ],
   "source": [
    "# This will test your function \n",
    "test_factorial(factorial)"
   ]
  },
  {
   "cell_type": "markdown",
   "metadata": {},
   "source": [
    "## 7. Write a function that takes a list and returns a list of the unique values.\n",
    "\n",
    "`NOTE: You cannot use set. 🤔`"
   ]
  },
  {
   "cell_type": "code",
   "execution_count": 19,
   "metadata": {},
   "outputs": [],
   "source": [
    "def unique(arr):\n",
    "    newlist=[]\n",
    "    for item in arr:\n",
    "        if item not in newlist:\n",
    "            newlist.append(item)\n",
    "    return newlist"
   ]
  },
  {
   "cell_type": "code",
   "execution_count": 20,
   "metadata": {},
   "outputs": [
    {
     "name": "stderr",
     "output_type": "stream",
     "text": [
      "....................................................................................................\n",
      "----------------------------------------------------------------------\n",
      "Ran 100 tests in 0.305s\n",
      "\n",
      "OK\n"
     ]
    }
   ],
   "source": [
    "# This will test your function \n",
    "test_unique(unique)"
   ]
  },
  {
   "cell_type": "markdown",
   "metadata": {},
   "source": [
    "## 8. Write a function that calculates the standard deviation of a list.\n",
    "`NOTE: Do not use any libraries or already built functions. 😉`"
   ]
  },
  {
   "cell_type": "code",
   "execution_count": 21,
   "metadata": {},
   "outputs": [],
   "source": [
    "arr=[2, 30, 98, 2]\n",
    "def st_dev(arr):\n",
    "    large=0\n",
    "    suma=0\n",
    "    sq=0\n",
    "    for i in arr:\n",
    "        large+=1\n",
    "        suma+=i\n",
    "    totalmean=suma/large\n",
    "    for i in arr:\n",
    "        sq+=(i-totalmean)**2\n",
    "    sq_2=sq/(large-1)\n",
    "    sq_2=sq_2**0.5\n",
    "    return sq_2"
   ]
  },
  {
   "cell_type": "code",
   "execution_count": 22,
   "metadata": {},
   "outputs": [
    {
     "name": "stdout",
     "output_type": "stream",
     "text": [
      "45.2990066116245\n",
      "45.2990066116245\n"
     ]
    }
   ],
   "source": [
    "print(st_dev(arr))\n",
    "print(stdev(arr))"
   ]
  },
  {
   "cell_type": "code",
   "execution_count": 23,
   "metadata": {},
   "outputs": [],
   "source": [
    "# This will test your function\n",
    "#test_stdev(st_dev)\n",
    "\n",
    "# Our tests need to be improved, so for this exercise, we care about the code itself. You may check if you get\n",
    "# similar results by checking with:\n",
    "\n",
    "from statistics import stdev"
   ]
  },
  {
   "cell_type": "code",
   "execution_count": 24,
   "metadata": {},
   "outputs": [],
   "source": [
    "arr=[2, 30, 98, 2]"
   ]
  },
  {
   "cell_type": "code",
   "execution_count": 25,
   "metadata": {},
   "outputs": [
    {
     "data": {
      "text/plain": [
       "45.2990066116245"
      ]
     },
     "execution_count": 25,
     "metadata": {},
     "output_type": "execute_result"
    }
   ],
   "source": [
    "stdev(arr)"
   ]
  },
  {
   "cell_type": "markdown",
   "metadata": {},
   "source": [
    "## 9. Write a function to check if a string is a pangram, i.e.: if it contains all the letters of the alphabet at least once. Mind that the strings may contain characters that are not letters."
   ]
  },
  {
   "cell_type": "code",
   "execution_count": 26,
   "metadata": {},
   "outputs": [],
   "source": [
    "#option 1\n",
    "def pangram(string): \n",
    "    alphabet = 'abcdefghijklmnopqrstuvwxyz'\n",
    "    for i in alphabet: \n",
    "        if i not in string.lower(): \n",
    "            return False\n",
    "    return True"
   ]
  },
  {
   "cell_type": "code",
   "execution_count": 27,
   "metadata": {},
   "outputs": [],
   "source": [
    "#option 2 instead of writting all letters - but it's longer at the end... but with no risk of missing to write any letter into the variable \"alphabet\"\n",
    "def pangram(string):\n",
    "    newlist0=[]\n",
    "    count_lett=0\n",
    "    for i in string:\n",
    "        if i.isalpha():\n",
    "            if i.lower() not in newlist0:\n",
    "                newlist0.append(i.lower())\n",
    "                count_lett+=1\n",
    "        if count_lett==26: #british alphabet 26 letters\n",
    "            return True\n",
    "    return False"
   ]
  },
  {
   "cell_type": "code",
   "execution_count": 28,
   "metadata": {},
   "outputs": [
    {
     "name": "stderr",
     "output_type": "stream",
     "text": [
      "..............................\n",
      "----------------------------------------------------------------------\n",
      "Ran 30 tests in 0.054s\n",
      "\n",
      "OK\n"
     ]
    }
   ],
   "source": [
    "# This will test your function \n",
    "test_pangram(pangram)"
   ]
  },
  {
   "cell_type": "code",
   "execution_count": 29,
   "metadata": {},
   "outputs": [
    {
     "data": {
      "text/plain": [
       "False"
      ]
     },
     "execution_count": 29,
     "metadata": {},
     "output_type": "execute_result"
    }
   ],
   "source": [
    "string=\"jsdj89\"\n",
    "pangram(string)"
   ]
  },
  {
   "cell_type": "code",
   "execution_count": 30,
   "metadata": {},
   "outputs": [
    {
     "data": {
      "text/plain": [
       "True"
      ]
     },
     "execution_count": 30,
     "metadata": {},
     "output_type": "execute_result"
    }
   ],
   "source": [
    "string=\"abcdefghijklmnopqrstuvwxyz\"\n",
    "pangram(string)"
   ]
  },
  {
   "cell_type": "code",
   "execution_count": 31,
   "metadata": {},
   "outputs": [
    {
     "data": {
      "text/plain": [
       "True"
      ]
     },
     "execution_count": 31,
     "metadata": {},
     "output_type": "execute_result"
    }
   ],
   "source": [
    "string=\"abcdefghijklmnopqrstuvwxyz98\"\n",
    "pangram(string)"
   ]
  },
  {
   "cell_type": "markdown",
   "metadata": {},
   "source": [
    "## 10. Write a function to check if a given password is strong (at least 8 characters, at least one lower case, at least one upper case, at least one number and at least one special character). It should output True if strong and False if not.\n",
    "`Valid special characters: # @ ! $ % & ( ) ^ * [ ] { }`"
   ]
  },
  {
   "cell_type": "code",
   "execution_count": 17,
   "metadata": {},
   "outputs": [],
   "source": [
    "#option1\n",
    "def check_pass(password):\n",
    "    length_counter = 0\n",
    "    ok_upper = False\n",
    "    ok_lower = False\n",
    "    ok_number = False\n",
    "    ok_special = False\n",
    "    \n",
    "    for i in password:\n",
    "        if i.isupper():\n",
    "            ok_upper = True\n",
    "        if i.islower():\n",
    "            ok_lower = True\n",
    "        if i.isdigit():\n",
    "            ok_number = True\n",
    "        if not i.isalnum():\n",
    "            ok_special = True\n",
    "        length_counter += 1\n",
    "    \n",
    "    if length_counter >= 8 and ok_upper and ok_lower and ok_number and ok_special:\n",
    "        return True\n",
    "    else:\n",
    "        return False"
   ]
  },
  {
   "cell_type": "code",
   "execution_count": 18,
   "metadata": {},
   "outputs": [],
   "source": [
    "#option2\n",
    "def check_pass(password):\n",
    "    length_counter = 0\n",
    "    ok_upper = False\n",
    "    ok_lower = False\n",
    "    ok_number = False\n",
    "    ok_special = False\n",
    "    password_ok=[ok_upper,ok_lower,ok_number,ok_special]\n",
    "    \n",
    "    for i in password:\n",
    "        if i.isupper():\n",
    "            password_ok[0] = True\n",
    "        if i.islower():\n",
    "            password_ok[1] = True\n",
    "        if i.isdigit():\n",
    "            password_ok[2] = True\n",
    "        if not i.isalnum():\n",
    "            password_ok[3] = True\n",
    "        length_counter += 1\n",
    "    \n",
    "    if length_counter >= 8 and all(password_ok):\n",
    "        return True\n",
    "    else:\n",
    "        return False"
   ]
  },
  {
   "cell_type": "code",
   "execution_count": 19,
   "metadata": {},
   "outputs": [
    {
     "name": "stderr",
     "output_type": "stream",
     "text": [
      "....................................................................................................\n",
      "----------------------------------------------------------------------\n",
      "Ran 100 tests in 0.093s\n",
      "\n",
      "OK\n"
     ]
    }
   ],
   "source": [
    "# This will test your function \n",
    "test_pass(check_pass)"
   ]
  },
  {
   "cell_type": "code",
   "execution_count": 20,
   "metadata": {},
   "outputs": [
    {
     "data": {
      "text/plain": [
       "False"
      ]
     },
     "execution_count": 20,
     "metadata": {},
     "output_type": "execute_result"
    }
   ],
   "source": [
    "password=\"uhlu89!\"\n",
    "check_pass(password)"
   ]
  },
  {
   "cell_type": "code",
   "execution_count": 21,
   "metadata": {},
   "outputs": [
    {
     "data": {
      "text/plain": [
       "True"
      ]
     },
     "execution_count": 21,
     "metadata": {},
     "output_type": "execute_result"
    }
   ],
   "source": [
    "password=\"uhlu89R!\"\n",
    "check_pass(password)"
   ]
  },
  {
   "cell_type": "markdown",
   "metadata": {},
   "source": [
    "## BONUS"
   ]
  },
  {
   "cell_type": "markdown",
   "metadata": {},
   "source": [
    "## 11. Write a function that returns the mode of a list, i.e.: the element that appears the most times.\n",
    "`NOTE: You should not use count... 🧐`"
   ]
  },
  {
   "cell_type": "code",
   "execution_count": 22,
   "metadata": {},
   "outputs": [],
   "source": [
    "def mode_counter(arr):\n",
    "    frequency={}\n",
    "    for i in arr:\n",
    "        if i in frequency:\n",
    "            frequency[i]+=1\n",
    "        else:\n",
    "            frequency[i]=1\n",
    "    max_freq=0\n",
    "    mode=()\n",
    "    for x, y in frequency.items():\n",
    "        if y > max_freq:\n",
    "            max_freq=y\n",
    "            mode=x\n",
    "    return mode "
   ]
  },
  {
   "cell_type": "code",
   "execution_count": 23,
   "metadata": {},
   "outputs": [
    {
     "name": "stderr",
     "output_type": "stream",
     "text": [
      "....................................................................................................\n",
      "----------------------------------------------------------------------\n",
      "Ran 100 tests in 0.105s\n",
      "\n",
      "OK\n"
     ]
    }
   ],
   "source": [
    "# This will test your function \n",
    "test_mode(mode_counter)"
   ]
  },
  {
   "cell_type": "code",
   "execution_count": 24,
   "metadata": {},
   "outputs": [
    {
     "data": {
      "text/plain": [
       "5"
      ]
     },
     "execution_count": 24,
     "metadata": {},
     "output_type": "execute_result"
    }
   ],
   "source": [
    "numeros=[1,3,5,5,6,7,9]\n",
    "mode_counter(numeros)"
   ]
  },
  {
   "cell_type": "markdown",
   "metadata": {},
   "source": [
    "## 12. Write a function that receives a string of comma separated words and returns a string of comma separated words sorted alphabetically.\n",
    "\n",
    "`NOTE: You may use sorted but not split and definitely no join! 🤪`"
   ]
  },
  {
   "cell_type": "code",
   "execution_count": 44,
   "metadata": {},
   "outputs": [],
   "source": [
    "def sort_alpha(string):\n",
    "    sorted_string = sorted(string)\n",
    "    result = \"\"\n",
    "    for i in range(len(sorted_string)):\n",
    "        result += sorted_string[i]\n",
    "        if i < len(sorted_string) - 1:\n",
    "            result += \",\"\n",
    "    return result"
   ]
  },
  {
   "cell_type": "code",
   "execution_count": 54,
   "metadata": {},
   "outputs": [
    {
     "data": {
      "text/plain": [
       "'are,hi,ok,you'"
      ]
     },
     "execution_count": 54,
     "metadata": {},
     "output_type": "execute_result"
    }
   ],
   "source": [
    "lista=[\"hi\",\"are\",\"you\",\"ok\"]\n",
    "sort_alpha(lista)  #I don't understand why the test is not correct... it returns the list sorted alphabetically comma separated "
   ]
  },
  {
   "cell_type": "code",
   "execution_count": 42,
   "metadata": {},
   "outputs": [
    {
     "name": "stderr",
     "output_type": "stream",
     "text": [
      "FFFFFFFFFFFFFFFFFFFFFFFFFFFFFFFFFFFFFFFFFFFFFFFFFFFFFFFFFFFFFFFFFFFFFFFFFFFFFFFFFFFFFFFFFFFFFFFFFFFF\n",
      "======================================================================\n",
      "FAIL: runTest (mod.testing.test_alpha.<locals>.TestKnown)\n",
      "----------------------------------------------------------------------\n",
      "Traceback (most recent call last):\n",
      "  File \"C:\\Users\\Leticia Martinez\\Desktop\\IRONHACK\\Labs\\lab-functions\\mod\\testing.py\", line 187, in runTest\n",
      "    self.assertEqual(fn(self.input), self.output, f\"Should be {self.output}\")\n",
      "AssertionError: ',,,,,,,,,,,,,,,,,,,,,,,,,,,,,,,,,,a,a,b,b[236 chars],z,z' != 'clpxf,clso,fkhf,gdcs,gisbytu,jdmdi,kkwwop[96 chars]drxm'\n",
      "- ,,,,,,,,,,,,,,,,,,,,,,,,,,,,,,,,,,a,a,b,b,c,c,c,c,c,c,c,d,d,d,d,d,d,d,d,e,e,e,e,e,e,e,f,f,f,f,f,g,g,h,h,h,i,i,i,i,i,i,j,j,j,j,k,k,k,k,l,l,l,l,l,m,m,m,m,n,n,o,o,o,o,o,o,p,p,p,p,q,q,q,q,q,q,q,q,q,r,r,r,r,r,r,r,s,s,s,s,t,t,t,t,u,u,u,u,u,u,u,u,v,w,w,w,w,w,x,x,x,x,y,y,y,y,y,y,y,y,z,z,z\n",
      "+ clpxf,clso,fkhf,gdcs,gisbytu,jdmdi,kkwwopc,muwqe,nllrnairjh,quujeio,qwmcvrqxdd,rzqpef,tyeshqidyo,uuajloz,yqptkufqbr,yquwoeer,yyidctxyce,zdrxm\n",
      " : Should be clpxf,clso,fkhf,gdcs,gisbytu,jdmdi,kkwwopc,muwqe,nllrnairjh,quujeio,qwmcvrqxdd,rzqpef,tyeshqidyo,uuajloz,yqptkufqbr,yquwoeer,yyidctxyce,zdrxm\n",
      "\n",
      "======================================================================\n",
      "FAIL: runTest (mod.testing.test_alpha.<locals>.TestKnown)\n",
      "----------------------------------------------------------------------\n",
      "Traceback (most recent call last):\n",
      "  File \"C:\\Users\\Leticia Martinez\\Desktop\\IRONHACK\\Labs\\lab-functions\\mod\\testing.py\", line 187, in runTest\n",
      "    self.assertEqual(fn(self.input), self.output, f\"Should be {self.output}\")\n",
      "AssertionError: ',,,,,,,,,,,,,,,,,,,,,,,,,,,,,,a,a,a,a,a,a[210 chars],z,z' != 'bqfa,cbnaxpvwo,fwrtngdn,gdkuuzn,hoefwuba,[83 chars]oxov'\n",
      "- ,,,,,,,,,,,,,,,,,,,,,,,,,,,,,,a,a,a,a,a,a,a,a,a,b,b,b,b,b,b,c,c,c,c,d,d,d,d,d,e,e,e,e,f,f,f,f,f,f,g,g,g,h,h,i,j,j,j,k,k,k,k,l,m,n,n,n,n,n,n,n,n,n,n,o,o,o,o,o,o,p,p,p,q,q,q,q,q,q,r,r,r,s,s,t,t,t,t,u,u,u,u,u,u,u,v,v,v,v,w,w,w,w,x,x,x,x,x,x,x,x,y,y,z,z,z,z,z\n",
      "+ bqfa,cbnaxpvwo,fwrtngdn,gdkuuzn,hoefwuba,ixqxdqat,kcwjjazzy,knsz,nfhqpbeuq,nptkzluja,nxmv,orxeedf,qnubxgaca,rsaxno,tfvcd,ubyoxov\n",
      " : Should be bqfa,cbnaxpvwo,fwrtngdn,gdkuuzn,hoefwuba,ixqxdqat,kcwjjazzy,knsz,nfhqpbeuq,nptkzluja,nxmv,orxeedf,qnubxgaca,rsaxno,tfvcd,ubyoxov\n",
      "\n",
      "======================================================================\n",
      "FAIL: runTest (mod.testing.test_alpha.<locals>.TestKnown)\n",
      "----------------------------------------------------------------------\n",
      "Traceback (most recent call last):\n",
      "  File \"C:\\Users\\Leticia Martinez\\Desktop\\IRONHACK\\Labs\\lab-functions\\mod\\testing.py\", line 187, in runTest\n",
      "    self.assertEqual(fn(self.input), self.output, f\"Should be {self.output}\")\n",
      "AssertionError: ',,,,,,,,,,,,,,,,,,,,,,,,,,,,,,,,,,,,,,,,,[362 chars],z,z' != 'apkqga,bunzjcoyc,ccuqrvadlm,celbksmwe,csu[159 chars]dlrr'\n",
      "- ,,,,,,,,,,,,,,,,,,,,,,,,,,,,,,,,,,,,,,,,,,,,,,a,a,a,a,a,a,a,a,a,a,b,b,b,b,b,b,b,b,c,c,c,c,c,c,c,c,c,c,c,d,d,d,d,d,d,d,e,e,e,e,e,f,f,f,f,f,f,f,g,g,g,g,g,g,g,h,h,h,h,i,i,i,j,j,j,j,j,j,j,j,k,k,k,k,k,k,l,l,l,l,l,m,m,m,m,m,m,m,m,m,m,n,n,n,n,n,n,n,n,n,o,o,o,o,o,o,o,o,p,p,p,p,p,q,q,q,q,q,q,q,q,q,r,r,r,r,r,s,s,s,s,s,s,s,s,s,t,t,t,t,t,t,t,t,u,u,u,u,u,u,u,u,v,v,v,v,v,v,v,v,v,w,w,w,x,y,y,y,y,y,y,z,z,z,z,z,z,z,z,z,z\n",
      "+ apkqga,bunzjcoyc,ccuqrvadlm,celbksmwe,csuzm,dpkghvbtv,fomazucnhm,fosivc,gtjos,hgqqzm,icxyjnamn,jandpp,juguajndk,lojvznf,oidsfgrsr,ojbobq,qskypetq,qszmbbvt,tcmklqvh,ttug,ufsve,vayznzya,wctbefayzd,zmnwfdlrr\n",
      " : Should be apkqga,bunzjcoyc,ccuqrvadlm,celbksmwe,csuzm,dpkghvbtv,fomazucnhm,fosivc,gtjos,hgqqzm,icxyjnamn,jandpp,juguajndk,lojvznf,oidsfgrsr,ojbobq,qskypetq,qszmbbvt,tcmklqvh,ttug,ufsve,vayznzya,wctbefayzd,zmnwfdlrr\n",
      "\n",
      "======================================================================\n",
      "FAIL: runTest (mod.testing.test_alpha.<locals>.TestKnown)\n",
      "----------------------------------------------------------------------\n",
      "Traceback (most recent call last):\n",
      "  File \"C:\\Users\\Leticia Martinez\\Desktop\\IRONHACK\\Labs\\lab-functions\\mod\\testing.py\", line 187, in runTest\n",
      "    self.assertEqual(fn(self.input), self.output, f\"Should be {self.output}\")\n",
      "AssertionError: ',,,,,,,,,,,,,,,,,,,,,,,,,,,,,,,,,,,,,,,,,[354 chars],z,z' != 'ablvxshhax,aimwryigje,burnym,cmlxa,dcbpje[155 chars]mofc'\n",
      "- ,,,,,,,,,,,,,,,,,,,,,,,,,,,,,,,,,,,,,,,,,,,,,,a,a,a,a,a,a,a,a,b,b,b,b,b,b,c,c,c,c,c,c,c,c,c,c,c,c,c,d,d,d,d,d,d,d,d,e,e,e,e,e,e,e,e,f,f,f,f,f,g,g,g,g,g,g,h,h,h,h,h,h,h,i,i,i,i,i,i,i,j,j,j,j,j,j,j,j,j,k,k,k,l,l,l,l,l,l,l,l,l,m,m,m,m,m,m,m,n,n,n,n,n,n,n,o,o,o,o,o,p,p,p,p,p,q,q,q,r,r,r,r,r,r,r,s,s,s,s,s,t,t,t,t,t,u,u,u,u,u,u,v,v,v,v,v,v,v,v,v,w,w,w,w,x,x,x,x,x,x,x,x,y,y,y,y,y,y,y,y,y,y,y,y,z,z,z,z,z\n",
      "+ ablvxshhax,aimwryigje,burnym,cmlxa,dcbpjet,dnrytzyux,edxipyif,ejzcvlc,fnlvtydnz,gacyax,ghke,gzyutklls,icjpmcvau,idmybva,jyenvqeu,jzhwwsup,klcms,lsce,nltqg,qpgchxvb,rcjnroojoh,ryxwdvrbi,vdfdo,yjfhcmofc\n",
      " : Should be ablvxshhax,aimwryigje,burnym,cmlxa,dcbpjet,dnrytzyux,edxipyif,ejzcvlc,fnlvtydnz,gacyax,ghke,gzyutklls,icjpmcvau,idmybva,jyenvqeu,jzhwwsup,klcms,lsce,nltqg,qpgchxvb,rcjnroojoh,ryxwdvrbi,vdfdo,yjfhcmofc\n",
      "\n",
      "======================================================================\n",
      "FAIL: runTest (mod.testing.test_alpha.<locals>.TestKnown)\n",
      "----------------------------------------------------------------------\n",
      "Traceback (most recent call last):\n",
      "  File \"C:\\Users\\Leticia Martinez\\Desktop\\IRONHACK\\Labs\\lab-functions\\mod\\testing.py\", line 187, in runTest\n",
      "    self.assertEqual(fn(self.input), self.output, f\"Should be {self.output}\")\n",
      "AssertionError: ',,,,,,,,,,,,,,,,,,a,a,b,b,c,c,c,c,d,d,d,e[106 chars],z,z' != 'cieksvs,drmc,dtbqscke,izpmkabnm,nfcudx,ro[31 chars]tqwm'\n",
      "- ,,,,,,,,,,,,,,,,,,a,a,b,b,c,c,c,c,d,d,d,e,e,f,f,f,h,h,i,i,i,k,k,k,k,k,l,m,m,m,m,m,n,n,o,p,p,p,q,q,r,r,r,r,s,s,s,s,t,t,u,u,u,v,v,v,w,w,w,w,x,x,y,y,z,z,z\n",
      "+ cieksvs,drmc,dtbqscke,izpmkabnm,nfcudx,rouyhwh,vfslwpp,xrzmfi,yrakuk,zwvtqwm\n",
      " : Should be cieksvs,drmc,dtbqscke,izpmkabnm,nfcudx,rouyhwh,vfslwpp,xrzmfi,yrakuk,zwvtqwm\n",
      "\n",
      "======================================================================\n",
      "FAIL: runTest (mod.testing.test_alpha.<locals>.TestKnown)\n",
      "----------------------------------------------------------------------\n",
      "Traceback (most recent call last):\n",
      "  File \"C:\\Users\\Leticia Martinez\\Desktop\\IRONHACK\\Labs\\lab-functions\\mod\\testing.py\", line 187, in runTest\n",
      "    self.assertEqual(fn(self.input), self.output, f\"Should be {self.output}\")\n",
      "AssertionError: ',,,,,,,,,,,,,,b,b,b,c,c,c,d,d,d,d,e,e,e,f[90 chars],y,z' != 'clnct,eeoblthppg,kekgb,kqjkdjrbgy,qdcwqis[23 chars]dogp'\n",
      "- ,,,,,,,,,,,,,,b,b,b,c,c,c,d,d,d,d,e,e,e,f,g,g,g,g,h,h,i,i,i,j,j,j,k,k,k,k,l,l,n,n,n,o,o,o,p,p,p,p,q,q,q,q,q,q,r,s,s,t,t,v,w,w,x,x,y,y,z\n",
      "+ clnct,eeoblthppg,kekgb,kqjkdjrbgy,qdcwqisfxq,qwdjn,qxyipsio,vnzhdogp\n",
      " : Should be clnct,eeoblthppg,kekgb,kqjkdjrbgy,qdcwqisfxq,qwdjn,qxyipsio,vnzhdogp\n",
      "\n",
      "======================================================================\n",
      "FAIL: runTest (mod.testing.test_alpha.<locals>.TestKnown)\n",
      "----------------------------------------------------------------------\n",
      "Traceback (most recent call last):\n",
      "  File \"C:\\Users\\Leticia Martinez\\Desktop\\IRONHACK\\Labs\\lab-functions\\mod\\testing.py\", line 187, in runTest\n",
      "    self.assertEqual(fn(self.input), self.output, f\"Should be {self.output}\")\n",
      "AssertionError: ',,,,,,,,a,b,c,d,e,e,e,f,g,g,h,i,i,i,j,j,j[50 chars],z,z' != 'qmxzjxlgwb,xuieyvuqfi,yhujdtey,zjnakjxie,zrcgmvq'\n",
      "- ,,,,,,,,a,b,c,d,e,e,e,f,g,g,h,i,i,i,j,j,j,j,k,l,m,m,n,q,q,q,r,t,u,u,u,v,v,w,x,x,x,x,y,y,y,z,z,z\n",
      "+ qmxzjxlgwb,xuieyvuqfi,yhujdtey,zjnakjxie,zrcgmvq\n",
      " : Should be qmxzjxlgwb,xuieyvuqfi,yhujdtey,zjnakjxie,zrcgmvq\n",
      "\n",
      "======================================================================\n",
      "FAIL: runTest (mod.testing.test_alpha.<locals>.TestKnown)\n",
      "----------------------------------------------------------------------\n",
      "Traceback (most recent call last):\n",
      "  File \"C:\\Users\\Leticia Martinez\\Desktop\\IRONHACK\\Labs\\lab-functions\\mod\\testing.py\", line 187, in runTest\n",
      "    self.assertEqual(fn(self.input), self.output, f\"Should be {self.output}\")\n",
      "AssertionError: ',,,,,,,,,,,,,,,,,,a,a,a,a,b,b,b,c,e,e,e,e[96 chars],z,z' != 'ayynkzn,eawyo,frupbepr,ioba,ixem,jlynymee[26 chars]vptm'\n",
      "- ,,,,,,,,,,,,,,,,,,a,a,a,a,b,b,b,c,e,e,e,e,e,e,f,g,h,h,i,i,j,k,k,l,m,m,m,m,n,n,n,n,o,o,o,o,p,p,p,p,q,r,r,r,r,s,t,u,u,v,v,w,w,w,x,y,y,y,y,y,z,z\n",
      "+ ayynkzn,eawyo,frupbepr,ioba,ixem,jlynymee,orhgcueh,rkamw,vpozb,wqsnvptm\n",
      " : Should be ayynkzn,eawyo,frupbepr,ioba,ixem,jlynymee,orhgcueh,rkamw,vpozb,wqsnvptm\n",
      "\n"
     ]
    },
    {
     "name": "stderr",
     "output_type": "stream",
     "text": [
      "======================================================================\n",
      "FAIL: runTest (mod.testing.test_alpha.<locals>.TestKnown)\n",
      "----------------------------------------------------------------------\n",
      "Traceback (most recent call last):\n",
      "  File \"C:\\Users\\Leticia Martinez\\Desktop\\IRONHACK\\Labs\\lab-functions\\mod\\testing.py\", line 187, in runTest\n",
      "    self.assertEqual(fn(self.input), self.output, f\"Should be {self.output}\")\n",
      "AssertionError: ',,,,,,,,,,,,,,,,a,a,a,a,b,b,b,c,c,c,d,e,e[96 chars],z,z' != 'cvkxjypla,gbpz,gfvxkwpsa,gsrtrrbo,qshmeho[26 chars]yovc'\n",
      "- ,,,,,,,,,,,,,,,,a,a,a,a,b,b,b,c,c,c,d,e,e,f,g,g,g,h,h,h,h,j,k,k,l,l,m,m,n,n,n,o,o,o,p,p,p,p,q,q,q,r,r,r,r,r,s,s,s,t,t,v,v,v,w,w,x,x,y,y,y,z,z\n",
      "+ cvkxjypla,gbpz,gfvxkwpsa,gsrtrrbo,qshmeho,ramyhwnb,rdpcnqahqn,tzel,yovc\n",
      " : Should be cvkxjypla,gbpz,gfvxkwpsa,gsrtrrbo,qshmeho,ramyhwnb,rdpcnqahqn,tzel,yovc\n",
      "\n",
      "======================================================================\n",
      "FAIL: runTest (mod.testing.test_alpha.<locals>.TestKnown)\n",
      "----------------------------------------------------------------------\n",
      "Traceback (most recent call last):\n",
      "  File \"C:\\Users\\Leticia Martinez\\Desktop\\IRONHACK\\Labs\\lab-functions\\mod\\testing.py\", line 187, in runTest\n",
      "    self.assertEqual(fn(self.input), self.output, f\"Should be {self.output}\")\n",
      "AssertionError: ',,,,,,,,,,,,,,a,a,b,b,c,c,c,c,d,d,d,d,e,f[86 chars],z,z' != 'cbqjv,epdq,gffyocpw,lkxaxcar,mhzunmwzgq,u[21 chars]mkdd'\n",
      "- ,,,,,,,,,,,,,,a,a,b,b,c,c,c,c,d,d,d,d,e,f,f,f,g,g,h,h,j,j,k,k,l,l,m,m,m,m,n,n,o,o,p,p,p,q,q,q,r,s,t,u,u,v,v,v,w,w,w,w,w,x,x,y,z,z,z\n",
      "+ cbqjv,epdq,gffyocpw,lkxaxcar,mhzunmwzgq,uhcsfwml,wtnvbwp,zdvjomkdd\n",
      " : Should be cbqjv,epdq,gffyocpw,lkxaxcar,mhzunmwzgq,uhcsfwml,wtnvbwp,zdvjomkdd\n",
      "\n",
      "======================================================================\n",
      "FAIL: runTest (mod.testing.test_alpha.<locals>.TestKnown)\n",
      "----------------------------------------------------------------------\n",
      "Traceback (most recent call last):\n",
      "  File \"C:\\Users\\Leticia Martinez\\Desktop\\IRONHACK\\Labs\\lab-functions\\mod\\testing.py\", line 187, in runTest\n",
      "    self.assertEqual(fn(self.input), self.output, f\"Should be {self.output}\")\n",
      "AssertionError: ',,,,,,,,,,,,,,,,a,a,a,b,b,b,b,b,b,c,c,c,d[106 chars],z,z' != 'bbnbgibkus,cwgk,dnben,eeylmflhv,fxdyaun,t[31 chars]vnlb'\n",
      "- ,,,,,,,,,,,,,,,,a,a,a,b,b,b,b,b,b,c,c,c,d,d,d,d,e,e,e,f,f,f,f,g,g,g,g,h,h,i,i,i,j,k,k,l,l,l,l,l,l,m,m,n,n,n,n,n,n,n,o,s,t,u,u,v,v,v,v,w,w,w,x,y,y,y,z,z\n",
      "+ bbnbgibkus,cwgk,dnben,eeylmflhv,fxdyaun,tgcmivh,wjgvawzadl,ydnffl,zliocnvnlb\n",
      " : Should be bbnbgibkus,cwgk,dnben,eeylmflhv,fxdyaun,tgcmivh,wjgvawzadl,ydnffl,zliocnvnlb\n",
      "\n",
      "======================================================================\n",
      "FAIL: runTest (mod.testing.test_alpha.<locals>.TestKnown)\n",
      "----------------------------------------------------------------------\n",
      "Traceback (most recent call last):\n",
      "  File \"C:\\Users\\Leticia Martinez\\Desktop\\IRONHACK\\Labs\\lab-functions\\mod\\testing.py\", line 187, in runTest\n",
      "    self.assertEqual(fn(self.input), self.output, f\"Should be {self.output}\")\n",
      "AssertionError: ',,,,,,,,,,,,a,a,a,b,b,c,d,d,d,e,f,f,f,f,g[74 chars],y,y' != 'aqyclbmpfg,fuxlud,maphntmpy,quqjtkf,rafei[15 chars]qrhy'\n",
      "- ,,,,,,,,,,,,a,a,a,b,b,c,d,d,d,e,f,f,f,f,g,h,h,i,i,j,k,l,l,m,m,m,n,o,o,p,p,p,p,p,q,q,q,q,r,r,r,s,s,t,t,u,u,u,u,x,y,y,y,y\n",
      "+ aqyclbmpfg,fuxlud,maphntmpy,quqjtkf,rafeioddpy,srbpio,usqrhy\n",
      " : Should be aqyclbmpfg,fuxlud,maphntmpy,quqjtkf,rafeioddpy,srbpio,usqrhy\n",
      "\n",
      "======================================================================\n",
      "FAIL: runTest (mod.testing.test_alpha.<locals>.TestKnown)\n",
      "----------------------------------------------------------------------\n",
      "Traceback (most recent call last):\n",
      "  File \"C:\\Users\\Leticia Martinez\\Desktop\\IRONHACK\\Labs\\lab-functions\\mod\\testing.py\", line 187, in runTest\n",
      "    self.assertEqual(fn(self.input), self.output, f\"Should be {self.output}\")\n",
      "AssertionError: ',,,,,,,,,,,,,,,,,,a,a,a,a,a,a,b,c,c,d,d,d[116 chars],y,z' != 'aqhwqpprad,cjpqzexrjf,dnauwedjp,ifhj,lvsa[36 chars]yesb'\n",
      "- ,,,,,,,,,,,,,,,,,,a,a,a,a,a,a,b,c,c,d,d,d,e,e,e,e,e,e,f,f,g,h,h,i,i,j,j,j,j,j,l,m,m,m,n,n,o,o,o,p,p,p,p,q,q,q,q,q,q,r,r,r,s,s,s,s,t,t,t,u,u,u,v,v,w,w,w,x,x,y,y,z\n",
      "+ aqhwqpprad,cjpqzexrjf,dnauwedjp,ifhj,lvsaaic,mowatm,mujt,qgovu,sqsyoqxen,tereyesb\n",
      " : Should be aqhwqpprad,cjpqzexrjf,dnauwedjp,ifhj,lvsaaic,mowatm,mujt,qgovu,sqsyoqxen,tereyesb\n",
      "\n",
      "======================================================================\n",
      "FAIL: runTest (mod.testing.test_alpha.<locals>.TestKnown)\n",
      "----------------------------------------------------------------------\n",
      "Traceback (most recent call last):\n",
      "  File \"C:\\Users\\Leticia Martinez\\Desktop\\IRONHACK\\Labs\\lab-functions\\mod\\testing.py\", line 187, in runTest\n",
      "    self.assertEqual(fn(self.input), self.output, f\"Should be {self.output}\")\n",
      "AssertionError: ',,,,,,,,,,,,,,,,,,a,a,a,a,c,d,e,f,f,g,g,g[112 chars],z,z' != 'aoyhcq,aqif,kqwyshpzh,lpyogpa,ojknmgwv,pz[34 chars]nidw'\n",
      "- ,,,,,,,,,,,,,,,,,,a,a,a,a,c,d,e,f,f,g,g,g,g,h,h,h,h,i,i,i,j,j,j,k,k,k,l,l,l,m,m,n,n,o,o,o,o,o,o,p,p,p,p,p,p,q,q,q,q,r,r,s,s,u,v,v,v,v,w,w,w,w,x,y,y,y,y,z,z,z\n",
      "+ aoyhcq,aqif,kqwyshpzh,lpyogpa,ojknmgwv,pzejkaj,uoqom,vghrpsp,wxliofzlg,yrvvnidw\n",
      " : Should be aoyhcq,aqif,kqwyshpzh,lpyogpa,ojknmgwv,pzejkaj,uoqom,vghrpsp,wxliofzlg,yrvvnidw\n",
      "\n",
      "======================================================================\n",
      "FAIL: runTest (mod.testing.test_alpha.<locals>.TestKnown)\n",
      "----------------------------------------------------------------------\n",
      "Traceback (most recent call last):\n",
      "  File \"C:\\Users\\Leticia Martinez\\Desktop\\IRONHACK\\Labs\\lab-functions\\mod\\testing.py\", line 187, in runTest\n",
      "    self.assertEqual(fn(self.input), self.output, f\"Should be {self.output}\")\n",
      "AssertionError: ',,,,,,,,,,,,,,,,,,,,,,,,,,,,,,,,,,,,a,a,a[240 chars],y,z' != 'abhjphjc,cioqw,gymk,ivqhhwixi,lflfda,mhar[98 chars]sluf'\n",
      "- ,,,,,,,,,,,,,,,,,,,,,,,,,,,,,,,,,,,,a,a,a,a,a,b,b,b,b,b,c,c,c,c,d,d,d,d,d,e,f,f,f,f,g,g,g,g,g,h,h,h,h,h,h,h,h,h,i,i,i,i,i,i,i,j,j,j,j,k,k,l,l,l,l,m,m,m,m,m,m,m,n,n,n,o,o,o,o,o,p,p,p,q,q,q,q,q,q,q,r,r,r,r,r,s,s,s,s,s,s,t,t,t,t,t,t,t,u,u,u,u,u,u,v,v,v,v,w,w,w,w,w,w,w,w,w,x,x,y,y,y,y,y,z\n",
      "+ abhjphjc,cioqw,gymk,ivqhhwixi,lflfda,mharnoyaor,mhzbywgi,qjyd,qmhoyn,rlpwiq,ssqfkv,sucbtgw,tbtunh,tmxrtgmj,tschop,twmrb,uuqa,wdvdisdw,wuevgsluf\n",
      " : Should be abhjphjc,cioqw,gymk,ivqhhwixi,lflfda,mharnoyaor,mhzbywgi,qjyd,qmhoyn,rlpwiq,ssqfkv,sucbtgw,tbtunh,tmxrtgmj,tschop,twmrb,uuqa,wdvdisdw,wuevgsluf\n",
      "\n",
      "======================================================================\n",
      "FAIL: runTest (mod.testing.test_alpha.<locals>.TestKnown)\n",
      "----------------------------------------------------------------------\n",
      "Traceback (most recent call last):\n",
      "  File \"C:\\Users\\Leticia Martinez\\Desktop\\IRONHACK\\Labs\\lab-functions\\mod\\testing.py\", line 187, in runTest\n",
      "    self.assertEqual(fn(self.input), self.output, f\"Should be {self.output}\")\n",
      "AssertionError: ',,,,,,,,,,,,,,,,,,,,,,,,,,,,,,,,,,,,,,,,,[314 chars],z,z' != 'aoptzjvgk,apupdu,crnxfkoah,cvxgsdoyab,dfs[135 chars]uqqr'\n",
      "- ,,,,,,,,,,,,,,,,,,,,,,,,,,,,,,,,,,,,,,,,,,,,a,a,a,a,a,a,a,b,b,b,b,b,c,c,c,d,d,d,d,d,d,d,e,e,e,f,f,f,f,g,g,g,g,g,g,g,h,h,h,h,h,h,h,i,i,j,j,j,j,j,j,j,j,k,k,k,k,k,l,l,l,l,l,l,l,m,m,m,n,n,n,n,n,n,n,n,o,o,o,o,o,o,o,o,o,p,p,p,p,p,p,p,p,q,q,q,q,q,q,q,q,r,r,r,r,r,r,r,r,s,s,s,s,s,s,t,t,t,t,u,u,u,u,u,u,v,v,v,v,v,v,w,x,x,x,x,x,x,x,x,x,x,y,y,y,y,y,y,y,y,z,z,z,z,z,z,z,z\n",
      "+ aoptzjvgk,apupdu,crnxfkoah,cvxgsdoyab,dfsxlrq,dzzjrg,fzjzdbyqze,gtpqxeeoj,hhwcxsxyy,jkljzlljy,mprzn,mrgf,nkmhokxij,ouuh,palnxy,pshvpddgn,qbvyv,rlnv,rysnqq,shil,uoatb,xatn,xoogbuqqr\n",
      " : Should be aoptzjvgk,apupdu,crnxfkoah,cvxgsdoyab,dfsxlrq,dzzjrg,fzjzdbyqze,gtpqxeeoj,hhwcxsxyy,jkljzlljy,mprzn,mrgf,nkmhokxij,ouuh,palnxy,pshvpddgn,qbvyv,rlnv,rysnqq,shil,uoatb,xatn,xoogbuqqr\n",
      "\n",
      "======================================================================\n",
      "FAIL: runTest (mod.testing.test_alpha.<locals>.TestKnown)\n",
      "----------------------------------------------------------------------\n",
      "Traceback (most recent call last):\n",
      "  File \"C:\\Users\\Leticia Martinez\\Desktop\\IRONHACK\\Labs\\lab-functions\\mod\\testing.py\", line 187, in runTest\n",
      "    self.assertEqual(fn(self.input), self.output, f\"Should be {self.output}\")\n",
      "AssertionError: ',,,,,,,,,,,,,,,,,,,,,,,,a,a,a,a,b,b,b,c,d[124 chars],z,z' != 'bumk,daxz,dgoap,dpekb,fysbrj,jomg,kcea,mw[40 chars]ffwp'\n",
      "- ,,,,,,,,,,,,,,,,,,,,,,,,a,a,a,a,b,b,b,c,d,d,d,e,e,e,e,f,f,f,g,g,h,i,i,j,j,j,k,k,k,k,l,m,m,m,m,m,n,n,n,n,n,n,n,n,o,o,o,o,o,p,p,p,p,q,r,r,r,s,s,s,t,u,u,u,v,w,w,x,x,y,y,z,z\n",
      "+ bumk,daxz,dgoap,dpekb,fysbrj,jomg,kcea,mwqenok,nurxr,omehsz,sapvy,tninnnnjni,umolffwp\n",
      " : Should be bumk,daxz,dgoap,dpekb,fysbrj,jomg,kcea,mwqenok,nurxr,omehsz,sapvy,tninnnnjni,umolffwp\n",
      "\n"
     ]
    },
    {
     "name": "stderr",
     "output_type": "stream",
     "text": [
      "======================================================================\n",
      "FAIL: runTest (mod.testing.test_alpha.<locals>.TestKnown)\n",
      "----------------------------------------------------------------------\n",
      "Traceback (most recent call last):\n",
      "  File \"C:\\Users\\Leticia Martinez\\Desktop\\IRONHACK\\Labs\\lab-functions\\mod\\testing.py\", line 187, in runTest\n",
      "    self.assertEqual(fn(self.input), self.output, f\"Should be {self.output}\")\n",
      "AssertionError: ',,,,,,,,,,,,b,b,b,c,c,c,c,c,d,d,d,d,f,f,g[62 chars],z,z' != 'cnui,gwbdf,jxgdd,pcsbxcc,pjgcxug,xjutxwgwnn,zzswvfhdob'\n",
      "- ,,,,,,,,,,,,b,b,b,c,c,c,c,c,d,d,d,d,f,f,g,g,g,g,g,h,i,j,j,j,n,n,n,o,p,p,s,s,t,u,u,u,v,w,w,w,w,x,x,x,x,x,z,z\n",
      "+ cnui,gwbdf,jxgdd,pcsbxcc,pjgcxug,xjutxwgwnn,zzswvfhdob\n",
      " : Should be cnui,gwbdf,jxgdd,pcsbxcc,pjgcxug,xjutxwgwnn,zzswvfhdob\n",
      "\n",
      "======================================================================\n",
      "FAIL: runTest (mod.testing.test_alpha.<locals>.TestKnown)\n",
      "----------------------------------------------------------------------\n",
      "Traceback (most recent call last):\n",
      "  File \"C:\\Users\\Leticia Martinez\\Desktop\\IRONHACK\\Labs\\lab-functions\\mod\\testing.py\", line 187, in runTest\n",
      "    self.assertEqual(fn(self.input), self.output, f\"Should be {self.output}\")\n",
      "AssertionError: ',,,,,,,,,,,,,,,,,,,,,,,,,,,,a,a,a,a,a,a,b[202 chars],z,z' != 'dakaizilmy,dilulxpad,eglwha,fcvanddzyd,fg[79 chars]yhgz'\n",
      "- ,,,,,,,,,,,,,,,,,,,,,,,,,,,,a,a,a,a,a,a,b,b,c,c,c,d,d,d,d,d,d,d,d,d,d,e,e,e,e,e,e,e,f,f,f,f,f,g,g,g,g,g,g,h,h,h,h,i,i,i,i,i,i,j,j,j,j,j,j,k,k,k,k,l,l,l,l,l,l,l,l,l,m,m,n,n,n,o,p,p,q,q,q,r,r,r,t,t,t,u,u,u,u,u,v,v,w,w,w,x,x,x,x,x,y,y,y,y,z,z,z,z,z,z\n",
      "+ dakaizilmy,dilulxpad,eglwha,fcvanddzyd,fgzxhvefh,ilqizenr,jbjtgd,layekk,lqzlcrt,pwdjmb,qgcfx,rtjjdndi,ugekful,xewxuuejo,yhgz\n",
      " : Should be dakaizilmy,dilulxpad,eglwha,fcvanddzyd,fgzxhvefh,ilqizenr,jbjtgd,layekk,lqzlcrt,pwdjmb,qgcfx,rtjjdndi,ugekful,xewxuuejo,yhgz\n",
      "\n",
      "======================================================================\n",
      "FAIL: runTest (mod.testing.test_alpha.<locals>.TestKnown)\n",
      "----------------------------------------------------------------------\n",
      "Traceback (most recent call last):\n",
      "  File \"C:\\Users\\Leticia Martinez\\Desktop\\IRONHACK\\Labs\\lab-functions\\mod\\testing.py\", line 187, in runTest\n",
      "    self.assertEqual(fn(self.input), self.output, f\"Should be {self.output}\")\n",
      "AssertionError: ',,,,,,,,,,a,b,b,b,b,c,c,d,e,g,g,h,h,i,i,i[56 chars],w,x' != 'bwmttpvni,cwoommadej,ijsp,nkglgmiwht,obbvqsxb,vchwv'\n",
      "- ,,,,,,,,,,a,b,b,b,b,c,c,d,e,g,g,h,h,i,i,i,j,j,k,l,m,m,m,m,n,n,o,o,o,p,p,q,s,s,t,t,t,v,v,v,v,w,w,w,w,x\n",
      "+ bwmttpvni,cwoommadej,ijsp,nkglgmiwht,obbvqsxb,vchwv\n",
      " : Should be bwmttpvni,cwoommadej,ijsp,nkglgmiwht,obbvqsxb,vchwv\n",
      "\n",
      "======================================================================\n",
      "FAIL: runTest (mod.testing.test_alpha.<locals>.TestKnown)\n",
      "----------------------------------------------------------------------\n",
      "Traceback (most recent call last):\n",
      "  File \"C:\\Users\\Leticia Martinez\\Desktop\\IRONHACK\\Labs\\lab-functions\\mod\\testing.py\", line 187, in runTest\n",
      "    self.assertEqual(fn(self.input), self.output, f\"Should be {self.output}\")\n",
      "AssertionError: ',,,,,,,,,,,,,,,,,,,,,,,,,,,,,,,,,,,,,,,,,[356 chars],z,z' != 'apofbe,axtz,bmpq,bylvrl,clbka,cybfju,eztw[156 chars]ilxv'\n",
      "- ,,,,,,,,,,,,,,,,,,,,,,,,,,,,,,,,,,,,,,,,,,,,,,,,a,a,a,a,a,a,a,a,a,b,b,b,b,b,b,b,b,b,b,c,c,c,c,c,d,d,d,d,d,d,e,e,e,e,e,e,e,e,e,f,f,f,f,f,g,g,g,h,h,h,h,i,i,i,i,i,j,j,j,j,j,j,k,k,k,k,k,k,l,l,l,l,l,l,l,l,l,l,m,m,m,n,n,n,n,n,n,o,o,o,o,o,o,p,p,p,p,p,p,p,p,p,q,q,q,q,q,q,q,r,r,r,r,r,r,r,r,r,r,r,s,s,s,s,s,s,s,t,t,t,t,t,t,t,t,t,t,u,u,u,v,v,v,v,v,v,v,v,w,w,w,w,w,w,w,x,x,x,x,x,x,x,y,y,y,y,z,z,z,z,z,z,z,z,z,z,z\n",
      "+ apofbe,axtz,bmpq,bylvrl,clbka,cybfju,eztwxtzq,fztslnzrs,gsblo,iwperpe,izntjtwg,jralyxb,lvvsaokb,ooxhzjdv,pzysradwx,qffuzdhwr,qqhimobwzn,qscjv,rtapdnbkqn,rveauk,rwpclnl,tddxej,teaeims,thgpkprvkr,zecilxv\n",
      " : Should be apofbe,axtz,bmpq,bylvrl,clbka,cybfju,eztwxtzq,fztslnzrs,gsblo,iwperpe,izntjtwg,jralyxb,lvvsaokb,ooxhzjdv,pzysradwx,qffuzdhwr,qqhimobwzn,qscjv,rtapdnbkqn,rveauk,rwpclnl,tddxej,teaeims,thgpkprvkr,zecilxv\n",
      "\n",
      "======================================================================\n",
      "FAIL: runTest (mod.testing.test_alpha.<locals>.TestKnown)\n",
      "----------------------------------------------------------------------\n",
      "Traceback (most recent call last):\n",
      "  File \"C:\\Users\\Leticia Martinez\\Desktop\\IRONHACK\\Labs\\lab-functions\\mod\\testing.py\", line 187, in runTest\n",
      "    self.assertEqual(fn(self.input), self.output, f\"Should be {self.output}\")\n",
      "AssertionError: ',,,,,,,,,,,,,,,,,,,,,,,,,,,,,,,,,,,,,,,,,[330 chars],z,z' != 'acmg,aljnwwh,bfuv,dzfbhgmtt,fdccid,hqwhnb[143 chars]gyps'\n",
      "- ,,,,,,,,,,,,,,,,,,,,,,,,,,,,,,,,,,,,,,,,,,,,,,a,a,a,a,a,a,b,b,b,b,b,b,b,b,c,c,c,c,c,c,d,d,d,d,d,d,d,d,d,e,e,e,f,f,f,f,f,g,g,g,g,g,h,h,h,h,h,h,h,h,i,i,i,i,i,i,i,j,j,j,j,j,k,k,k,l,l,l,l,l,l,l,l,m,m,m,m,m,m,m,n,n,n,n,n,o,o,o,o,o,o,o,o,p,p,p,p,p,p,q,q,q,q,r,r,r,r,r,r,r,r,r,r,r,s,s,s,s,s,s,s,t,t,t,t,t,t,t,u,u,u,u,u,u,u,u,v,v,v,v,v,w,w,w,w,w,w,x,x,x,x,y,y,y,y,y,z,z,z,z,z,z,z,z,z\n",
      "+ acmg,aljnwwh,bfuv,dzfbhgmtt,fdccid,hqwhnb,iirurvoslu,kiikyvrrh,mzrsc,nmlpzwn,oqcjqsac,orrvwjbg,othdl,pebr,pltmdyejyb,qflelh,rzdwsniz,soba,txdbihd,xaujt,xldzrfz,yroupuvmst,zmoguu,zopxkagyps\n",
      " : Should be acmg,aljnwwh,bfuv,dzfbhgmtt,fdccid,hqwhnb,iirurvoslu,kiikyvrrh,mzrsc,nmlpzwn,oqcjqsac,orrvwjbg,othdl,pebr,pltmdyejyb,qflelh,rzdwsniz,soba,txdbihd,xaujt,xldzrfz,yroupuvmst,zmoguu,zopxkagyps\n",
      "\n",
      "======================================================================\n",
      "FAIL: runTest (mod.testing.test_alpha.<locals>.TestKnown)\n",
      "----------------------------------------------------------------------\n",
      "Traceback (most recent call last):\n",
      "  File \"C:\\Users\\Leticia Martinez\\Desktop\\IRONHACK\\Labs\\lab-functions\\mod\\testing.py\", line 187, in runTest\n",
      "    self.assertEqual(fn(self.input), self.output, f\"Should be {self.output}\")\n",
      "AssertionError: ',,,,,,c,d,d,d,i,i,j,l,l,n,n,p,p,r,r,r,s,s,s,t,u,v,y' != 'ilcnsprsj,lndd,pduvs,ryrti'\n",
      "- ,,,,,,c,d,d,d,i,i,j,l,l,n,n,p,p,r,r,r,s,s,s,t,u,v,y\n",
      "+ ilcnsprsj,lndd,pduvs,ryrti\n",
      " : Should be ilcnsprsj,lndd,pduvs,ryrti\n",
      "\n",
      "======================================================================\n",
      "FAIL: runTest (mod.testing.test_alpha.<locals>.TestKnown)\n",
      "----------------------------------------------------------------------\n",
      "Traceback (most recent call last):\n",
      "  File \"C:\\Users\\Leticia Martinez\\Desktop\\IRONHACK\\Labs\\lab-functions\\mod\\testing.py\", line 187, in runTest\n",
      "    self.assertEqual(fn(self.input), self.output, f\"Should be {self.output}\")\n",
      "AssertionError: ',,,,,,,,,,,,,,,,,,,,,,,,,,,,,,,,,,,,a,a,a[268 chars],z,z' != 'atgjx,blifd,cqcqkiibox,drqfhntqfq,iwppcbm[112 chars]wmna'\n",
      "- ,,,,,,,,,,,,,,,,,,,,,,,,,,,,,,,,,,,,a,a,a,a,b,b,b,b,b,b,c,c,c,c,c,d,d,d,d,d,d,d,d,e,e,e,f,f,f,f,f,g,g,g,g,g,h,h,h,h,h,i,i,i,i,i,i,i,i,j,j,j,j,j,j,k,k,k,k,k,k,k,l,l,l,l,m,m,m,m,m,m,m,m,n,n,n,n,o,o,o,o,o,o,p,p,p,p,q,q,q,q,q,q,q,q,q,q,q,r,r,s,s,s,t,t,t,t,t,t,u,u,u,v,v,v,v,v,v,w,w,w,w,x,x,x,x,x,x,x,x,y,y,y,y,y,z,z,z\n",
      "+ atgjx,blifd,cqcqkiibox,drqfhntqfq,iwppcbm,johwtdjcbl,jxvnkkj,mmoo,ngox,pdiqdsyxy,qbtgqiyi,rsujqxtek,sgevlqhk,tdqkmyvp,ugzdmexmb,vdahcz,vffikxvu,yhlwa,zmowmna\n",
      " : Should be atgjx,blifd,cqcqkiibox,drqfhntqfq,iwppcbm,johwtdjcbl,jxvnkkj,mmoo,ngox,pdiqdsyxy,qbtgqiyi,rsujqxtek,sgevlqhk,tdqkmyvp,ugzdmexmb,vdahcz,vffikxvu,yhlwa,zmowmna\n",
      "\n",
      "======================================================================\n",
      "FAIL: runTest (mod.testing.test_alpha.<locals>.TestKnown)\n",
      "----------------------------------------------------------------------\n",
      "Traceback (most recent call last):\n",
      "  File \"C:\\Users\\Leticia Martinez\\Desktop\\IRONHACK\\Labs\\lab-functions\\mod\\testing.py\", line 187, in runTest\n",
      "    self.assertEqual(fn(self.input), self.output, f\"Should be {self.output}\")\n",
      "AssertionError: ',,,,,,,,,,,,,,a,b,b,c,c,d,d,d,e,f,f,g,g,h[82 chars],z,z' != 'enwdci,glywcwhqk,haitub,idim,khszgpsv,nkl[19 chars]ysfy'\n",
      "- ,,,,,,,,,,,,,,a,b,b,c,c,d,d,d,e,f,f,g,g,h,h,h,h,i,i,i,i,i,j,k,k,k,l,l,l,m,m,n,n,n,n,p,q,q,q,s,s,s,s,t,u,v,v,v,w,w,w,w,y,y,y,z,z\n",
      "+ enwdci,glywcwhqk,haitub,idim,khszgpsv,nkljbfwnzd,qhmsnl,qvviysfy\n",
      " : Should be enwdci,glywcwhqk,haitub,idim,khszgpsv,nkljbfwnzd,qhmsnl,qvviysfy\n",
      "\n",
      "======================================================================\n",
      "FAIL: runTest (mod.testing.test_alpha.<locals>.TestKnown)\n",
      "----------------------------------------------------------------------\n",
      "Traceback (most recent call last):\n",
      "  File \"C:\\Users\\Leticia Martinez\\Desktop\\IRONHACK\\Labs\\lab-functions\\mod\\testing.py\", line 187, in runTest\n",
      "    self.assertEqual(fn(self.input), self.output, f\"Should be {self.output}\")\n",
      "AssertionError: ',,,,,,,,,,,,,,,,,,,,,,,,,,,,,,,,,,,,,,,,a[316 chars],z,z' != 'bjmkms,czuccxytwp,dzgxziunj,fvtcj,isub,je[136 chars]mjts'\n",
      "- ,,,,,,,,,,,,,,,,,,,,,,,,,,,,,,,,,,,,,,,,a,a,a,a,b,b,b,b,c,c,c,c,c,c,c,c,d,d,d,d,d,e,e,e,e,f,f,f,f,f,f,g,g,g,h,h,i,i,i,i,i,i,i,i,i,j,j,j,j,j,j,j,j,j,j,k,k,k,k,k,k,l,l,l,l,l,l,m,m,m,m,m,m,m,n,n,n,n,n,n,n,n,n,n,n,n,o,o,o,o,o,p,p,p,p,p,p,p,q,q,q,r,r,r,r,r,r,r,s,s,s,s,t,t,t,t,t,t,u,u,u,u,u,u,u,u,u,u,u,v,v,v,v,v,v,w,w,w,w,w,w,w,w,x,x,x,x,x,x,x,x,y,y,y,z,z,z,z,z,z,z\n",
      "+ bjmkms,czuccxytwp,dzgxziunj,fvtcj,isub,jeudofiguz,jjlung,jkrwfkcnis,lcdxmbxnth,ltwpnvn,nlqffcwb,npcnu,ojmxkr,otaoaerzpq,rmaiukua,wlvjrzufi,wozpumlrk,wvnyhpnedr,xpxqe,xviwnvi,ydimjts\n",
      " : Should be bjmkms,czuccxytwp,dzgxziunj,fvtcj,isub,jeudofiguz,jjlung,jkrwfkcnis,lcdxmbxnth,ltwpnvn,nlqffcwb,npcnu,ojmxkr,otaoaerzpq,rmaiukua,wlvjrzufi,wozpumlrk,wvnyhpnedr,xpxqe,xviwnvi,ydimjts\n",
      "\n"
     ]
    },
    {
     "name": "stderr",
     "output_type": "stream",
     "text": [
      "======================================================================\n",
      "FAIL: runTest (mod.testing.test_alpha.<locals>.TestKnown)\n",
      "----------------------------------------------------------------------\n",
      "Traceback (most recent call last):\n",
      "  File \"C:\\Users\\Leticia Martinez\\Desktop\\IRONHACK\\Labs\\lab-functions\\mod\\testing.py\", line 187, in runTest\n",
      "    self.assertEqual(fn(self.input), self.output, f\"Should be {self.output}\")\n",
      "AssertionError: ',,,,,,,,,,,,,,,,,,,,,,,,,,,,,,a,a,a,b,b,b[210 chars],z,z' != 'czxmyfjcf,ekohda,fqcvbhp,gmcghqskjw,kezti[83 chars]clak'\n",
      "- ,,,,,,,,,,,,,,,,,,,,,,,,,,,,,,a,a,a,b,b,b,b,c,c,c,c,c,c,c,d,d,e,e,e,e,e,f,f,f,f,f,f,g,g,g,g,g,h,h,h,h,h,i,i,i,j,j,j,j,j,j,j,k,k,k,k,k,k,l,l,l,l,m,m,n,o,o,o,o,o,o,o,p,p,p,q,q,q,q,q,q,q,r,r,s,s,s,s,t,t,t,t,t,u,v,v,v,v,v,w,w,w,w,x,x,x,x,y,y,y,y,y,y,y,y,z,z,z\n",
      "+ czxmyfjcf,ekohda,fqcvbhp,gmcghqskjw,keztivwywv,lthgxb,qetoyt,qgoyjqyf,rcqoi,sayx,segcr,vkwkuljbt,vozsbl,xhfoipjnd,yfjjeqp,yoclak\n",
      " : Should be czxmyfjcf,ekohda,fqcvbhp,gmcghqskjw,keztivwywv,lthgxb,qetoyt,qgoyjqyf,rcqoi,sayx,segcr,vkwkuljbt,vozsbl,xhfoipjnd,yfjjeqp,yoclak\n",
      "\n",
      "======================================================================\n",
      "FAIL: runTest (mod.testing.test_alpha.<locals>.TestKnown)\n",
      "----------------------------------------------------------------------\n",
      "Traceback (most recent call last):\n",
      "  File \"C:\\Users\\Leticia Martinez\\Desktop\\IRONHACK\\Labs\\lab-functions\\mod\\testing.py\", line 187, in runTest\n",
      "    self.assertEqual(fn(self.input), self.output, f\"Should be {self.output}\")\n",
      "AssertionError: ',,,,,,,,,,,,,,,,,,a,a,b,b,b,c,c,c,d,d,d,d[100 chars],y,z' != 'cxyadkgbry,dttx,fwbswdvs,ggpt,kbjsg,ltnkl[28 chars]easy'\n",
      "- ,,,,,,,,,,,,,,,,,,a,a,b,b,b,c,c,c,d,d,d,d,e,e,f,f,g,g,g,g,g,h,i,j,j,j,j,k,k,k,k,l,l,l,m,m,n,o,p,p,q,r,r,s,s,s,s,t,t,t,t,v,v,w,w,x,x,x,y,y,y,y,y,z\n",
      "+ cxyadkgbry,dttx,fwbswdvs,ggpt,kbjsg,ltnklr,mzjj,pkdol,xchefqvc,ygymjieasy\n",
      " : Should be cxyadkgbry,dttx,fwbswdvs,ggpt,kbjsg,ltnklr,mzjj,pkdol,xchefqvc,ygymjieasy\n",
      "\n",
      "======================================================================\n",
      "FAIL: runTest (mod.testing.test_alpha.<locals>.TestKnown)\n",
      "----------------------------------------------------------------------\n",
      "Traceback (most recent call last):\n",
      "  File \"C:\\Users\\Leticia Martinez\\Desktop\\IRONHACK\\Labs\\lab-functions\\mod\\testing.py\", line 187, in runTest\n",
      "    self.assertEqual(fn(self.input), self.output, f\"Should be {self.output}\")\n",
      "AssertionError: ',,,,,,,,,,,,,,,,,,,,,,,,,,,,,,,,,,,,,,,,,[336 chars],z,z' != 'dpuu,dyevhexpi,ezfc,fjwjjnpn,ggjareqrh,hh[146 chars]qgbp'\n",
      "- ,,,,,,,,,,,,,,,,,,,,,,,,,,,,,,,,,,,,,,,,,,,,a,a,a,a,a,b,b,b,c,c,c,c,c,d,d,d,d,d,d,d,d,e,e,e,e,e,e,e,e,f,f,f,f,f,f,f,f,g,g,g,g,g,g,h,h,h,h,h,h,i,i,i,i,i,i,i,i,j,j,j,j,j,j,j,j,j,k,k,k,k,k,k,k,l,l,l,l,l,m,m,n,n,n,o,o,o,o,o,o,p,p,p,p,p,p,p,p,p,p,p,p,q,q,q,q,q,q,q,q,r,r,r,r,r,s,s,s,s,t,t,t,t,t,t,t,t,t,t,t,u,u,u,u,u,u,u,u,v,v,v,v,v,v,v,v,v,v,v,w,w,w,w,x,x,x,x,x,x,x,y,y,y,y,z,z,z,z,z,z\n",
      "+ dpuu,dyevhexpi,ezfc,fjwjjnpn,ggjareqrh,hhtfjzdyxj,ivsloltnzp,jvae,kfdmof,kuaythka,luljv,ppccpds,tsgkriihk,ttkvgfvd,ueoxvviq,uerzoqvg,utdpfpabd,wtjvqimqpl,wtqyouc,wvrqoxf,xpezzi,xsktic,xtbqgbp\n",
      " : Should be dpuu,dyevhexpi,ezfc,fjwjjnpn,ggjareqrh,hhtfjzdyxj,ivsloltnzp,jvae,kfdmof,kuaythka,luljv,ppccpds,tsgkriihk,ttkvgfvd,ueoxvviq,uerzoqvg,utdpfpabd,wtjvqimqpl,wtqyouc,wvrqoxf,xpezzi,xsktic,xtbqgbp\n",
      "\n",
      "======================================================================\n",
      "FAIL: runTest (mod.testing.test_alpha.<locals>.TestKnown)\n",
      "----------------------------------------------------------------------\n",
      "Traceback (most recent call last):\n",
      "  File \"C:\\Users\\Leticia Martinez\\Desktop\\IRONHACK\\Labs\\lab-functions\\mod\\testing.py\", line 187, in runTest\n",
      "    self.assertEqual(fn(self.input), self.output, f\"Should be {self.output}\")\n",
      "AssertionError: ',,,,,,,,,,,,,,,,,,,,,,,,,,,,a,a,a,b,b,c,d[196 chars],z,z' != 'doryluvcej,dzwjokm,hiviblonhw,ifisd,ipbal[76 chars]ghll'\n",
      "- ,,,,,,,,,,,,,,,,,,,,,,,,,,,,a,a,a,b,b,c,d,d,d,d,d,d,e,e,e,f,f,g,g,h,h,h,h,h,h,i,i,i,i,i,i,j,j,j,j,k,k,k,k,l,l,l,l,l,l,l,m,m,m,m,m,n,n,n,o,o,o,o,o,o,o,o,p,p,p,p,q,q,r,r,r,r,r,s,s,s,t,t,u,u,u,u,v,v,v,v,w,w,w,w,w,w,w,x,x,x,x,x,x,y,y,y,y,z,z,z,z\n",
      "+ doryluvcej,dzwjokm,hiviblonhw,ifisd,ipbalox,kalwqnmhkz,ofyxvmrt,pysozuu,qsxzm,rexdpdx,rgtonehvx,uodk,whwjrw,wimal,ypjghll\n",
      " : Should be doryluvcej,dzwjokm,hiviblonhw,ifisd,ipbalox,kalwqnmhkz,ofyxvmrt,pysozuu,qsxzm,rexdpdx,rgtonehvx,uodk,whwjrw,wimal,ypjghll\n",
      "\n",
      "======================================================================\n",
      "FAIL: runTest (mod.testing.test_alpha.<locals>.TestKnown)\n",
      "----------------------------------------------------------------------\n",
      "Traceback (most recent call last):\n",
      "  File \"C:\\Users\\Leticia Martinez\\Desktop\\IRONHACK\\Labs\\lab-functions\\mod\\testing.py\", line 187, in runTest\n",
      "    self.assertEqual(fn(self.input), self.output, f\"Should be {self.output}\")\n",
      "AssertionError: ',,,,,,,,,,a,a,b,b,c,c,c,d,e,e,e,f,g,h,i,i[52 chars],z,z' != 'ccixbnjnh,ezitnov,tmrcalrja,tvegsdp,zfmpyb,zmilez'\n",
      "- ,,,,,,,,,,a,a,b,b,c,c,c,d,e,e,e,f,g,h,i,i,i,j,j,l,l,m,m,m,n,n,n,o,p,p,r,r,s,t,t,t,v,v,x,y,z,z,z,z\n",
      "+ ccixbnjnh,ezitnov,tmrcalrja,tvegsdp,zfmpyb,zmilez\n",
      " : Should be ccixbnjnh,ezitnov,tmrcalrja,tvegsdp,zfmpyb,zmilez\n",
      "\n",
      "======================================================================\n",
      "FAIL: runTest (mod.testing.test_alpha.<locals>.TestKnown)\n",
      "----------------------------------------------------------------------\n",
      "Traceback (most recent call last):\n",
      "  File \"C:\\Users\\Leticia Martinez\\Desktop\\IRONHACK\\Labs\\lab-functions\\mod\\testing.py\", line 187, in runTest\n",
      "    self.assertEqual(fn(self.input), self.output, f\"Should be {self.output}\")\n",
      "AssertionError: ',,,,,,,,,,,,,,,,,,a,a,b,b,b,b,c,c,c,c,c,c[102 chars],y,y' != 'eybkvhf,ienqloti,kbrjixcq,khfhypb,oykenw,[29 chars]yllc'\n",
      "- ,,,,,,,,,,,,,,,,,,a,a,b,b,b,b,c,c,c,c,c,c,e,e,e,e,f,f,h,h,h,h,i,i,i,i,i,j,k,k,k,k,l,l,l,n,n,n,o,o,o,p,p,q,q,q,r,r,r,s,t,u,v,w,w,w,x,x,y,y,y,y,y,y,y\n",
      "+ eybkvhf,ienqloti,kbrjixcq,khfhypb,oykenw,rpwi,sraea,uhcco,wbcycny,yqxiyllc\n",
      " : Should be eybkvhf,ienqloti,kbrjixcq,khfhypb,oykenw,rpwi,sraea,uhcco,wbcycny,yqxiyllc\n",
      "\n",
      "======================================================================\n",
      "FAIL: runTest (mod.testing.test_alpha.<locals>.TestKnown)\n",
      "----------------------------------------------------------------------\n",
      "Traceback (most recent call last):\n",
      "  File \"C:\\Users\\Leticia Martinez\\Desktop\\IRONHACK\\Labs\\lab-functions\\mod\\testing.py\", line 187, in runTest\n",
      "    self.assertEqual(fn(self.input), self.output, f\"Should be {self.output}\")\n",
      "AssertionError: ',,,,,,,,,,,,,,,,a,b,b,b,c,c,c,c,c,c,c,d,d[108 chars],z,z' != 'cejfc,cxuxfwkgbw,ebwopwekx,ejcxm,fhdewxqq[32 chars]tcqp'\n",
      "- ,,,,,,,,,,,,,,,,a,b,b,b,c,c,c,c,c,c,c,d,d,e,e,e,e,e,f,f,f,f,g,h,h,j,j,k,k,l,l,m,n,o,o,p,p,p,q,q,q,q,r,r,r,r,s,s,t,t,u,u,v,w,w,w,w,w,w,x,x,x,x,x,y,y,z,z,z\n",
      "+ cejfc,cxuxfwkgbw,ebwopwekx,ejcxm,fhdewxqql,ocbvrr,sznchpdyl,ufyqraszr,zwttcqp\n",
      " : Should be cejfc,cxuxfwkgbw,ebwopwekx,ejcxm,fhdewxqql,ocbvrr,sznchpdyl,ufyqraszr,zwttcqp\n",
      "\n",
      "======================================================================\n",
      "FAIL: runTest (mod.testing.test_alpha.<locals>.TestKnown)\n",
      "----------------------------------------------------------------------\n",
      "Traceback (most recent call last):\n",
      "  File \"C:\\Users\\Leticia Martinez\\Desktop\\IRONHACK\\Labs\\lab-functions\\mod\\testing.py\", line 187, in runTest\n",
      "    self.assertEqual(fn(self.input), self.output, f\"Should be {self.output}\")\n",
      "AssertionError: ',,,,,,,,,,,,,,,,,,,,,,,,,,,,,,,,,,a,a,a,b[244 chars],z,z' != 'aceqnib,dwthmnqy,foasuypme,fockcjzxr,gusl[100 chars]perg'\n",
      "- ,,,,,,,,,,,,,,,,,,,,,,,,,,,,,,,,,,a,a,a,b,b,b,b,b,c,c,c,c,c,c,c,c,d,d,d,d,e,e,e,f,f,f,f,g,g,g,g,g,h,h,h,h,h,i,i,i,j,j,j,j,j,k,k,k,k,l,l,l,l,m,m,m,m,m,m,m,n,n,n,n,n,n,n,n,o,o,o,o,o,o,o,o,o,o,o,o,o,o,o,p,p,p,p,p,q,q,q,q,q,r,r,r,r,s,s,s,s,s,t,t,t,t,u,u,u,u,u,u,u,u,v,v,w,w,w,w,x,x,y,y,y,z,z,z\n",
      "+ aceqnib,dwthmnqy,foasuypme,fockcjzxr,guslm,hfgpwl,jxob,kqddskodi,mlsomnow,njop,ontqohn,pocuoh,qfngjobmn,rbrvbuuu,ucolh,ugcawtkccs,zjmtyoiv,zoperg\n",
      " : Should be aceqnib,dwthmnqy,foasuypme,fockcjzxr,guslm,hfgpwl,jxob,kqddskodi,mlsomnow,njop,ontqohn,pocuoh,qfngjobmn,rbrvbuuu,ucolh,ugcawtkccs,zjmtyoiv,zoperg\n",
      "\n",
      "======================================================================\n",
      "FAIL: runTest (mod.testing.test_alpha.<locals>.TestKnown)\n",
      "----------------------------------------------------------------------\n",
      "Traceback (most recent call last):\n",
      "  File \"C:\\Users\\Leticia Martinez\\Desktop\\IRONHACK\\Labs\\lab-functions\\mod\\testing.py\", line 187, in runTest\n",
      "    self.assertEqual(fn(self.input), self.output, f\"Should be {self.output}\")\n",
      "AssertionError: ',,,,,,,,,,a,b,b,b,c,c,c,d,d,e,e,g,h,h,h,h[40 chars],x,z' != 'acuxngrs,ehdlc,pmwvb,thhucbqh,vdqwlbr,zutwe'\n",
      "- ,,,,,,,,,,a,b,b,b,c,c,c,d,d,e,e,g,h,h,h,h,l,l,m,n,p,q,q,r,r,s,t,t,u,u,u,v,v,w,w,w,x,z\n",
      "+ acuxngrs,ehdlc,pmwvb,thhucbqh,vdqwlbr,zutwe\n",
      " : Should be acuxngrs,ehdlc,pmwvb,thhucbqh,vdqwlbr,zutwe\n",
      "\n"
     ]
    },
    {
     "name": "stderr",
     "output_type": "stream",
     "text": [
      "======================================================================\n",
      "FAIL: runTest (mod.testing.test_alpha.<locals>.TestKnown)\n",
      "----------------------------------------------------------------------\n",
      "Traceback (most recent call last):\n",
      "  File \"C:\\Users\\Leticia Martinez\\Desktop\\IRONHACK\\Labs\\lab-functions\\mod\\testing.py\", line 187, in runTest\n",
      "    self.assertEqual(fn(self.input), self.output, f\"Should be {self.output}\")\n",
      "AssertionError: ',,,,,,,,,,,,,,,,,,,,a,a,b,b,b,b,b,c,c,c,c[136 chars],z,z' != 'gppkl,gzutb,mylqqwax,nubctqc,oklsshf,ooxo[46 chars]ecdk'\n",
      "- ,,,,,,,,,,,,,,,,,,,,a,a,b,b,b,b,b,c,c,c,c,c,c,d,d,e,f,f,g,g,g,g,g,h,h,i,j,j,j,j,k,k,k,l,l,l,l,m,m,m,n,n,o,o,o,o,o,p,p,p,q,q,q,q,q,q,r,s,s,s,t,t,t,t,t,t,t,t,u,u,u,w,w,x,x,x,x,y,y,z,z\n",
      "+ gppkl,gzutb,mylqqwax,nubctqc,oklsshf,ooxobztg,phnx,rmycbqot,tgqfjctxlq,ttbgcajdm,uwjisjecdk\n",
      " : Should be gppkl,gzutb,mylqqwax,nubctqc,oklsshf,ooxobztg,phnx,rmycbqot,tgqfjctxlq,ttbgcajdm,uwjisjecdk\n",
      "\n",
      "======================================================================\n",
      "FAIL: runTest (mod.testing.test_alpha.<locals>.TestKnown)\n",
      "----------------------------------------------------------------------\n",
      "Traceback (most recent call last):\n",
      "  File \"C:\\Users\\Leticia Martinez\\Desktop\\IRONHACK\\Labs\\lab-functions\\mod\\testing.py\", line 187, in runTest\n",
      "    self.assertEqual(fn(self.input), self.output, f\"Should be {self.output}\")\n",
      "AssertionError: ',,,,,,,,,,,,,,,,,,,,,,,,a,a,a,b,b,c,c,c,d[168 chars],z,z' != 'dvjurot,fhxhoothme,gforkkf,gozsbxey,oqhke[62 chars]uxth'\n",
      "- ,,,,,,,,,,,,,,,,,,,,,,,,a,a,a,b,b,c,c,c,d,e,e,e,e,f,f,f,f,f,g,g,g,h,h,h,h,h,i,i,j,j,j,j,j,k,k,k,k,k,k,k,l,m,m,m,n,n,n,n,o,o,o,o,o,o,p,q,q,q,r,r,r,r,r,s,t,t,t,t,t,u,u,u,v,v,v,v,v,w,w,w,x,x,x,x,y,y,y,y,y,y,z,z,z,z,z\n",
      "+ dvjurot,fhxhoothme,gforkkf,gozsbxey,oqhkejmftk,qjpvnl,qkigzz,tcyz,uzjivxnve,wfkmcknvr,wjyn,ycwrbyaara,yuxth\n",
      " : Should be dvjurot,fhxhoothme,gforkkf,gozsbxey,oqhkejmftk,qjpvnl,qkigzz,tcyz,uzjivxnve,wfkmcknvr,wjyn,ycwrbyaara,yuxth\n",
      "\n",
      "======================================================================\n",
      "FAIL: runTest (mod.testing.test_alpha.<locals>.TestKnown)\n",
      "----------------------------------------------------------------------\n",
      "Traceback (most recent call last):\n",
      "  File \"C:\\Users\\Leticia Martinez\\Desktop\\IRONHACK\\Labs\\lab-functions\\mod\\testing.py\", line 187, in runTest\n",
      "    self.assertEqual(fn(self.input), self.output, f\"Should be {self.output}\")\n",
      "AssertionError: ',,,,,,,,,,,,,,,,,,,,,,,,,,,,,,,,,,,,,,,,,[332 chars],z,z' != 'actli,bktwusv,doiahlm,etcbj,gadzq,gkxqe,g[144 chars]thgk'\n",
      "- ,,,,,,,,,,,,,,,,,,,,,,,,,,,,,,,,,,,,,,,,,,,,a,a,a,a,a,a,a,b,b,b,b,b,b,b,b,b,b,b,c,c,c,c,c,c,c,c,c,c,d,d,d,d,e,e,e,e,e,e,e,e,f,f,f,f,f,g,g,g,g,g,g,g,g,g,g,g,h,h,h,h,h,h,h,h,h,h,i,i,i,i,i,i,i,j,j,j,j,j,j,j,k,k,k,k,k,l,l,l,l,l,l,m,m,m,m,m,m,m,m,m,n,n,n,n,n,n,o,o,o,o,p,p,p,p,p,p,q,q,q,r,r,r,s,s,s,s,s,t,t,t,t,t,t,t,t,u,u,u,u,u,u,v,v,v,v,v,v,v,w,w,w,w,w,w,w,x,x,x,x,y,y,y,y,z,z,z,z\n",
      "+ actli,bktwusv,doiahlm,etcbj,gadzq,gkxqe,glspwn,gvabvteh,gxggjwjnee,hfcyplxaiu,hjjcsim,hkbzvctro,icuhztydpp,ifnzlbnybh,irmysf,jpccccmmb,lbhmdqbgtr,megwa,saofumekn,uwpe,vbhmboxvjg,vfun,wwthgk\n",
      " : Should be actli,bktwusv,doiahlm,etcbj,gadzq,gkxqe,glspwn,gvabvteh,gxggjwjnee,hfcyplxaiu,hjjcsim,hkbzvctro,icuhztydpp,ifnzlbnybh,irmysf,jpccccmmb,lbhmdqbgtr,megwa,saofumekn,uwpe,vbhmboxvjg,vfun,wwthgk\n",
      "\n",
      "======================================================================\n",
      "FAIL: runTest (mod.testing.test_alpha.<locals>.TestKnown)\n",
      "----------------------------------------------------------------------\n",
      "Traceback (most recent call last):\n",
      "  File \"C:\\Users\\Leticia Martinez\\Desktop\\IRONHACK\\Labs\\lab-functions\\mod\\testing.py\", line 187, in runTest\n",
      "    self.assertEqual(fn(self.input), self.output, f\"Should be {self.output}\")\n",
      "AssertionError: ',,,,,,,,,,,,,,,,,,,,,,,,a,a,a,a,b,b,c,c,d[170 chars],z,z' != 'drouwew,echpangtdh,egowfrfv,entlp,ijgvydw[63 chars]byis'\n",
      "- ,,,,,,,,,,,,,,,,,,,,,,,,a,a,a,a,b,b,c,c,d,d,d,d,e,e,e,e,e,e,e,e,f,f,f,f,g,g,g,g,g,h,h,h,i,i,i,i,i,j,j,k,k,l,l,l,m,m,m,n,n,n,o,o,o,o,o,o,p,p,p,p,p,p,p,q,r,r,s,s,s,s,t,t,t,t,t,u,v,v,v,v,w,w,w,w,w,x,x,x,y,y,y,y,y,z,z,z\n",
      "+ drouwew,echpangtdh,egowfrfv,entlp,ijgvydwxpg,ispnyev,mleihwexcz,ofzaeki,pttxfdmab,spqvzgao,tmslj,ykpo,yobyis\n",
      " : Should be drouwew,echpangtdh,egowfrfv,entlp,ijgvydwxpg,ispnyev,mleihwexcz,ofzaeki,pttxfdmab,spqvzgao,tmslj,ykpo,yobyis\n",
      "\n",
      "======================================================================\n",
      "FAIL: runTest (mod.testing.test_alpha.<locals>.TestKnown)\n",
      "----------------------------------------------------------------------\n",
      "Traceback (most recent call last):\n",
      "  File \"C:\\Users\\Leticia Martinez\\Desktop\\IRONHACK\\Labs\\lab-functions\\mod\\testing.py\", line 187, in runTest\n",
      "    self.assertEqual(fn(self.input), self.output, f\"Should be {self.output}\")\n",
      "AssertionError: ',,,,,,,,,,,,,,a,b,b,b,c,d,d,e,e,e,g,g,g,g[90 chars],z,z' != 'gkiexwut,hpekuyani,jbzmsxdgv,nqznq,prprwx[23 chars]higl'\n",
      "- ,,,,,,,,,,,,,,a,b,b,b,c,d,d,e,e,e,g,g,g,g,g,h,h,i,i,i,j,j,k,k,l,m,n,n,n,n,p,p,p,p,p,q,q,r,r,s,s,t,u,u,u,u,u,v,w,w,w,x,x,x,x,x,y,y,z,z,z\n",
      "+ gkiexwut,hpekuyani,jbzmsxdgv,nqznq,prprwx,wuxbujndx,ygscpbpuge,zhigl\n",
      " : Should be gkiexwut,hpekuyani,jbzmsxdgv,nqznq,prprwx,wuxbujndx,ygscpbpuge,zhigl\n",
      "\n",
      "======================================================================\n",
      "FAIL: runTest (mod.testing.test_alpha.<locals>.TestKnown)\n",
      "----------------------------------------------------------------------\n",
      "Traceback (most recent call last):\n",
      "  File \"C:\\Users\\Leticia Martinez\\Desktop\\IRONHACK\\Labs\\lab-functions\\mod\\testing.py\", line 187, in runTest\n",
      "    self.assertEqual(fn(self.input), self.output, f\"Should be {self.output}\")\n",
      "AssertionError: ',,,,,,,,,,,,,,,,,,,,,,,,a,a,a,b,b,b,c,d,d[168 chars],z,z' != 'fvnbimcgj,hkvlvybr,iylnmnn,jjtunzfqmf,kaq[62 chars]xsrx'\n",
      "- ,,,,,,,,,,,,,,,,,,,,,,,,a,a,a,b,b,b,c,d,d,f,f,f,f,f,g,g,g,g,h,h,h,i,i,i,i,i,i,j,j,j,j,j,j,j,j,k,k,k,l,l,l,m,m,m,m,m,m,m,m,m,n,n,n,n,n,n,n,o,o,p,q,q,q,q,q,r,r,r,r,r,r,s,s,t,u,u,u,u,v,v,v,w,w,x,x,x,x,x,x,y,y,z,z,z,z\n",
      "+ fvnbimcgj,hkvlvybr,iylnmnn,jjtunzfqmf,kaqxoniz,miqrm,mjggsn,olmprfrjuu,ujmhadi,wrhd,xqgqaf,xwjkixmbj,zzxsrx\n",
      " : Should be fvnbimcgj,hkvlvybr,iylnmnn,jjtunzfqmf,kaqxoniz,miqrm,mjggsn,olmprfrjuu,ujmhadi,wrhd,xqgqaf,xwjkixmbj,zzxsrx\n",
      "\n",
      "======================================================================\n",
      "FAIL: runTest (mod.testing.test_alpha.<locals>.TestKnown)\n",
      "----------------------------------------------------------------------\n",
      "Traceback (most recent call last):\n",
      "  File \"C:\\Users\\Leticia Martinez\\Desktop\\IRONHACK\\Labs\\lab-functions\\mod\\testing.py\", line 187, in runTest\n",
      "    self.assertEqual(fn(self.input), self.output, f\"Should be {self.output}\")\n",
      "AssertionError: ',,,,,,,,,,,,,,,,a,b,b,b,b,b,b,c,d,e,f,f,g[68 chars],x,y' != 'bhvvp,bxbry,fdgwbh,leqn,lwbnfo,mulva,wxvjqc,xksvqbx,xqjog'\n",
      "- ,,,,,,,,,,,,,,,,a,b,b,b,b,b,b,c,d,e,f,f,g,g,h,h,j,j,k,l,l,l,m,n,n,o,o,p,q,q,q,q,r,s,u,v,v,v,v,v,w,w,w,x,x,x,x,x,y\n",
      "+ bhvvp,bxbry,fdgwbh,leqn,lwbnfo,mulva,wxvjqc,xksvqbx,xqjog\n",
      " : Should be bhvvp,bxbry,fdgwbh,leqn,lwbnfo,mulva,wxvjqc,xksvqbx,xqjog\n",
      "\n",
      "======================================================================\n",
      "FAIL: runTest (mod.testing.test_alpha.<locals>.TestKnown)\n",
      "----------------------------------------------------------------------\n",
      "Traceback (most recent call last):\n",
      "  File \"C:\\Users\\Leticia Martinez\\Desktop\\IRONHACK\\Labs\\lab-functions\\mod\\testing.py\", line 187, in runTest\n",
      "    self.assertEqual(fn(self.input), self.output, f\"Should be {self.output}\")\n",
      "AssertionError: ',,,,,,,,,,,,,,,,,,,,,,,,,,,,,,,,,,a,a,b,b[226 chars],z,z' != 'dvsqvyu,fwcnk,gfojbtl,heftxeiaqq,hlzc,hms[91 chars]fyht'\n",
      "- ,,,,,,,,,,,,,,,,,,,,,,,,,,,,,,,,,,a,a,b,b,b,b,c,c,c,d,d,d,d,d,e,e,e,e,f,f,f,f,f,f,f,g,g,g,h,h,h,h,h,h,h,h,i,i,i,i,j,j,j,j,j,k,k,k,k,k,l,l,l,l,m,m,m,m,m,n,n,n,n,n,o,p,p,p,q,q,q,q,q,q,r,r,r,r,r,r,r,s,s,s,s,s,t,t,t,t,t,u,u,u,u,v,v,v,v,v,v,v,v,v,w,w,w,w,x,x,x,x,x,y,y,y,y,z,z\n",
      "+ dvsqvyu,fwcnk,gfojbtl,heftxeiaqq,hlzc,hmsdkh,hvjrwr,iiuyrt,kbdwqp,mcvlt,nfws,pzgrgns,qfpnhirvbj,rvddvfx,uxemnb,vjjuxah,vlkmqm,yreksxfyht\n",
      " : Should be dvsqvyu,fwcnk,gfojbtl,heftxeiaqq,hlzc,hmsdkh,hvjrwr,iiuyrt,kbdwqp,mcvlt,nfws,pzgrgns,qfpnhirvbj,rvddvfx,uxemnb,vjjuxah,vlkmqm,yreksxfyht\n",
      "\n",
      "======================================================================\n",
      "FAIL: runTest (mod.testing.test_alpha.<locals>.TestKnown)\n",
      "----------------------------------------------------------------------\n",
      "Traceback (most recent call last):\n",
      "  File \"C:\\Users\\Leticia Martinez\\Desktop\\IRONHACK\\Labs\\lab-functions\\mod\\testing.py\", line 187, in runTest\n",
      "    self.assertEqual(fn(self.input), self.output, f\"Should be {self.output}\")\n",
      "AssertionError: ',,,,,,a,a,a,b,b,b,b,b,c,c,d,i,j,k,l,m,o,p,p,q,q,s,s,s,t,u,u,v,w,y,y,y,y,z,z' != 'soabyqyybu,ssqjtba,vlpbiyzckb,wdzmcapu'\n",
      "- ,,,,,,a,a,a,b,b,b,b,b,c,c,d,i,j,k,l,m,o,p,p,q,q,s,s,s,t,u,u,v,w,y,y,y,y,z,z\n",
      "+ soabyqyybu,ssqjtba,vlpbiyzckb,wdzmcapu\n",
      " : Should be soabyqyybu,ssqjtba,vlpbiyzckb,wdzmcapu\n",
      "\n"
     ]
    },
    {
     "name": "stderr",
     "output_type": "stream",
     "text": [
      "======================================================================\n",
      "FAIL: runTest (mod.testing.test_alpha.<locals>.TestKnown)\n",
      "----------------------------------------------------------------------\n",
      "Traceback (most recent call last):\n",
      "  File \"C:\\Users\\Leticia Martinez\\Desktop\\IRONHACK\\Labs\\lab-functions\\mod\\testing.py\", line 187, in runTest\n",
      "    self.assertEqual(fn(self.input), self.output, f\"Should be {self.output}\")\n",
      "AssertionError: ',,,,,,,,,,,,,,,,,,,,a,a,a,b,b,c,c,c,c,d,d[138 chars],z,z' != 'cxittbcaox,doqdfev,eooubhcx,gptqjreyyp,jo[47 chars]ajzu'\n",
      "- ,,,,,,,,,,,,,,,,,,,,a,a,a,b,b,c,c,c,c,d,d,d,d,e,e,e,e,f,f,g,g,h,h,h,i,j,j,j,k,l,m,o,o,o,o,o,o,o,p,p,p,q,q,q,q,q,q,r,r,r,s,s,s,t,t,t,t,u,u,u,u,u,v,w,w,x,x,x,x,x,x,x,x,y,y,y,y,y,y,y,z,z\n",
      "+ cxittbcaox,doqdfev,eooubhcx,gptqjreyyp,jothxloh,oprq,sqgkzysde,sqmyqau,urwy,wxufxdc,xyyxajzu\n",
      " : Should be cxittbcaox,doqdfev,eooubhcx,gptqjreyyp,jothxloh,oprq,sqgkzysde,sqmyqau,urwy,wxufxdc,xyyxajzu\n",
      "\n",
      "======================================================================\n",
      "FAIL: runTest (mod.testing.test_alpha.<locals>.TestKnown)\n",
      "----------------------------------------------------------------------\n",
      "Traceback (most recent call last):\n",
      "  File \"C:\\Users\\Leticia Martinez\\Desktop\\IRONHACK\\Labs\\lab-functions\\mod\\testing.py\", line 187, in runTest\n",
      "    self.assertEqual(fn(self.input), self.output, f\"Should be {self.output}\")\n",
      "AssertionError: ',,,,,,,,,,,,,,,,,,,,,,,,,,,,,,,,,,,,,,,,,[272 chars],z,z' != 'amnwk,cvpr,cvpxrr,cyyywznfto,dqna,hsembpk[114 chars]hxru'\n",
      "- ,,,,,,,,,,,,,,,,,,,,,,,,,,,,,,,,,,,,,,,,,,a,a,a,a,b,b,b,b,c,c,c,c,c,d,d,d,d,d,e,e,f,f,f,f,f,g,g,g,g,h,h,h,h,h,h,h,h,h,h,i,i,i,i,j,j,j,j,j,k,k,k,k,k,k,k,k,k,l,l,l,l,l,m,m,m,m,m,m,n,n,n,n,o,o,o,o,o,o,o,o,p,p,p,p,p,p,p,q,q,q,r,r,r,r,r,s,s,s,s,t,t,t,t,u,u,u,u,u,u,u,v,v,v,v,v,v,v,v,v,w,w,w,w,w,w,w,x,x,x,x,x,y,y,y,y,y,z,z\n",
      "+ amnwk,cvpr,cvpxrr,cyyywznfto,dqna,hsembpk,hxksvhf,iwyc,jaofs,lbvug,lxhyigpfq,phol,pwmuo,qjck,tiumtdd,trjvkwnv,ukljbvfoh,upmkogbos,uvdhhk,vilmh,xwgkdja,zowehxru\n",
      " : Should be amnwk,cvpr,cvpxrr,cyyywznfto,dqna,hsembpk,hxksvhf,iwyc,jaofs,lbvug,lxhyigpfq,phol,pwmuo,qjck,tiumtdd,trjvkwnv,ukljbvfoh,upmkogbos,uvdhhk,vilmh,xwgkdja,zowehxru\n",
      "\n",
      "======================================================================\n",
      "FAIL: runTest (mod.testing.test_alpha.<locals>.TestKnown)\n",
      "----------------------------------------------------------------------\n",
      "Traceback (most recent call last):\n",
      "  File \"C:\\Users\\Leticia Martinez\\Desktop\\IRONHACK\\Labs\\lab-functions\\mod\\testing.py\", line 187, in runTest\n",
      "    self.assertEqual(fn(self.input), self.output, f\"Should be {self.output}\")\n",
      "AssertionError: ',,,,,,,,,,,,,,,,,,,,,,a,a,a,c,c,c,c,c,d,d[130 chars],z,z' != 'exxl,hnfkmrhq,jdfatcl,jldzonxih,jrzqkdqa,[43 chars]wqnn'\n",
      "- ,,,,,,,,,,,,,,,,,,,,,,a,a,a,c,c,c,c,c,d,d,d,e,e,f,f,f,f,g,h,h,h,h,h,h,i,j,j,j,j,j,k,k,k,l,l,l,m,m,n,n,n,n,n,n,o,o,o,o,p,q,q,q,q,q,r,r,s,t,u,u,u,w,w,w,w,w,w,x,x,x,y,y,y,z,z,z,z\n",
      "+ exxl,hnfkmrhq,jdfatcl,jldzonxih,jrzqkdqa,jwya,kqfczwyf,ngmzp,sojcu,wchnu,woyhhouce,wwqnn\n",
      " : Should be exxl,hnfkmrhq,jdfatcl,jldzonxih,jrzqkdqa,jwya,kqfczwyf,ngmzp,sojcu,wchnu,woyhhouce,wwqnn\n",
      "\n",
      "======================================================================\n",
      "FAIL: runTest (mod.testing.test_alpha.<locals>.TestKnown)\n",
      "----------------------------------------------------------------------\n",
      "Traceback (most recent call last):\n",
      "  File \"C:\\Users\\Leticia Martinez\\Desktop\\IRONHACK\\Labs\\lab-functions\\mod\\testing.py\", line 187, in runTest\n",
      "    self.assertEqual(fn(self.input), self.output, f\"Should be {self.output}\")\n",
      "AssertionError: ',,,,,,,,,,,,,,,,,,,,,,,,,,,,,,,,,,,,,,,,a[292 chars],z,z' != 'cbznmdyn,dnldboccif,dykfcz,emybymhz,giede[124 chars]ahig'\n",
      "- ,,,,,,,,,,,,,,,,,,,,,,,,,,,,,,,,,,,,,,,,a,a,a,a,a,b,b,b,b,b,b,b,c,c,c,c,c,c,c,c,c,d,d,d,d,d,d,d,d,d,e,e,e,e,f,f,f,f,f,f,f,g,g,g,h,h,h,h,h,i,i,i,i,i,i,i,i,i,j,k,k,k,k,l,l,l,m,m,m,m,m,m,m,m,m,m,m,n,n,n,n,n,n,n,o,p,p,p,p,p,p,p,p,p,p,p,p,p,q,q,q,q,r,s,s,t,t,t,t,t,t,t,t,u,u,u,u,u,v,v,v,v,v,v,v,w,w,w,w,w,w,w,w,w,w,x,x,x,y,y,y,y,y,y,z,z,z,z,z\n",
      "+ cbznmdyn,dnldboccif,dykfcz,emybymhz,giedefac,iwhlp,mdkwz,msftfnvvpw,pxunvna,qeqcf,qppp,rtbqi,tvavkswp,twmtmi,vpzy,wgbidupvup,wptbjnif,wuhmp,xmlmpdcimh,xutatck,ybwcwdahig\n",
      " : Should be cbznmdyn,dnldboccif,dykfcz,emybymhz,giedefac,iwhlp,mdkwz,msftfnvvpw,pxunvna,qeqcf,qppp,rtbqi,tvavkswp,twmtmi,vpzy,wgbidupvup,wptbjnif,wuhmp,xmlmpdcimh,xutatck,ybwcwdahig\n",
      "\n",
      "======================================================================\n",
      "FAIL: runTest (mod.testing.test_alpha.<locals>.TestKnown)\n",
      "----------------------------------------------------------------------\n",
      "Traceback (most recent call last):\n",
      "  File \"C:\\Users\\Leticia Martinez\\Desktop\\IRONHACK\\Labs\\lab-functions\\mod\\testing.py\", line 187, in runTest\n",
      "    self.assertEqual(fn(self.input), self.output, f\"Should be {self.output}\")\n",
      "AssertionError: ',,,,,,,,a,c,d,d,d,d,f,j,k,k,m,o,o,o,o,p,q,s,s,s,t,u,v,x,x,y,y,y,z' != 'jxqt,oofyysyd,udcdodmap,vksz,xsok'\n",
      "- ,,,,,,,,a,c,d,d,d,d,f,j,k,k,m,o,o,o,o,p,q,s,s,s,t,u,v,x,x,y,y,y,z\n",
      "+ jxqt,oofyysyd,udcdodmap,vksz,xsok\n",
      " : Should be jxqt,oofyysyd,udcdodmap,vksz,xsok\n",
      "\n",
      "======================================================================\n",
      "FAIL: runTest (mod.testing.test_alpha.<locals>.TestKnown)\n",
      "----------------------------------------------------------------------\n",
      "Traceback (most recent call last):\n",
      "  File \"C:\\Users\\Leticia Martinez\\Desktop\\IRONHACK\\Labs\\lab-functions\\mod\\testing.py\", line 187, in runTest\n",
      "    self.assertEqual(fn(self.input), self.output, f\"Should be {self.output}\")\n",
      "AssertionError: ',,,,,,,,,,,,,,,,a,b,c,d,d,d,e,e,e,f,f,f,h[98 chars],x,y' != 'asshknr,dshvijlp,elqv,ikrvio,jxpfhhf,ntfx[27 chars]vbrw'\n",
      "- ,,,,,,,,,,,,,,,,a,b,c,d,d,d,e,e,e,f,f,f,h,h,h,h,h,i,i,i,j,j,j,k,k,k,l,l,m,m,n,n,n,o,p,p,p,q,q,r,r,r,s,s,s,t,t,t,u,u,u,v,v,v,v,v,v,v,v,v,w,x,x,y\n",
      "+ asshknr,dshvijlp,elqv,ikrvio,jxpfhhf,ntfxthcvd,ueudntvk,vpmvmuvqj,yevbrw\n",
      " : Should be asshknr,dshvijlp,elqv,ikrvio,jxpfhhf,ntfxthcvd,ueudntvk,vpmvmuvqj,yevbrw\n",
      "\n",
      "======================================================================\n",
      "FAIL: runTest (mod.testing.test_alpha.<locals>.TestKnown)\n",
      "----------------------------------------------------------------------\n",
      "Traceback (most recent call last):\n",
      "  File \"C:\\Users\\Leticia Martinez\\Desktop\\IRONHACK\\Labs\\lab-functions\\mod\\testing.py\", line 187, in runTest\n",
      "    self.assertEqual(fn(self.input), self.output, f\"Should be {self.output}\")\n",
      "AssertionError: ',,,,,,,,,,,,,,,,,,,,,,,,,,,,,,a,a,a,a,a,a[232 chars],z,z' != 'eelsqqev,jbrukupe,jsvp,knlap,kzyizjid,lwd[94 chars]bnrv'\n",
      "- ,,,,,,,,,,,,,,,,,,,,,,,,,,,,,,a,a,a,a,a,a,b,b,b,c,c,c,d,d,d,d,e,e,e,e,e,e,e,e,f,f,f,f,g,g,g,g,g,h,h,h,h,i,i,i,j,j,j,j,j,j,k,k,k,k,k,k,l,l,l,l,l,l,m,m,m,m,m,n,n,n,n,n,o,o,o,o,o,p,p,p,p,p,q,q,q,q,q,r,r,r,s,s,s,s,s,s,t,t,t,u,u,u,u,u,u,v,v,v,v,v,w,w,w,w,w,w,x,x,y,y,y,y,y,y,z,z,z,z\n",
      "+ eelsqqev,jbrukupe,jsvp,knlap,kzyizjid,lwdwkssc,mydaezhgsc,mymloea,njqhxse,ofohtytymy,qgknkzlaac,twnffo,urelbwwu,vgfmdjggw,voaquhupi,xjpbnrv\n",
      " : Should be eelsqqev,jbrukupe,jsvp,knlap,kzyizjid,lwdwkssc,mydaezhgsc,mymloea,njqhxse,ofohtytymy,qgknkzlaac,twnffo,urelbwwu,vgfmdjggw,voaquhupi,xjpbnrv\n",
      "\n",
      "======================================================================\n",
      "FAIL: runTest (mod.testing.test_alpha.<locals>.TestKnown)\n",
      "----------------------------------------------------------------------\n",
      "Traceback (most recent call last):\n",
      "  File \"C:\\Users\\Leticia Martinez\\Desktop\\IRONHACK\\Labs\\lab-functions\\mod\\testing.py\", line 187, in runTest\n",
      "    self.assertEqual(fn(self.input), self.output, f\"Should be {self.output}\")\n",
      "AssertionError: ',,,,,,,,,,,,,,,,,,,,a,a,b,b,b,c,c,c,c,c,d[138 chars],z,z' != 'clsfcmvx,dufgc,eowyybauo,hmnwsipmtx,hyfvs[47 chars]wsnd'\n",
      "- ,,,,,,,,,,,,,,,,,,,,a,a,b,b,b,c,c,c,c,c,d,d,d,e,e,f,f,f,f,f,g,h,h,h,h,i,i,j,j,k,l,l,l,m,m,m,m,m,m,m,n,n,n,o,o,o,p,p,q,r,r,r,r,s,s,s,s,t,t,t,t,t,u,u,u,u,v,v,w,w,w,w,w,x,x,y,y,y,y,y,z,z\n",
      "+ clsfcmvx,dufgc,eowyybauo,hmnwsipmtx,hyfvshy,iuecwoyfr,jttqmbfblc,krzarwn,mlhm,mzpjtd,rtuwsnd\n",
      " : Should be clsfcmvx,dufgc,eowyybauo,hmnwsipmtx,hyfvshy,iuecwoyfr,jttqmbfblc,krzarwn,mlhm,mzpjtd,rtuwsnd\n",
      "\n",
      "======================================================================\n",
      "FAIL: runTest (mod.testing.test_alpha.<locals>.TestKnown)\n",
      "----------------------------------------------------------------------\n",
      "Traceback (most recent call last):\n",
      "  File \"C:\\Users\\Leticia Martinez\\Desktop\\IRONHACK\\Labs\\lab-functions\\mod\\testing.py\", line 187, in runTest\n",
      "    self.assertEqual(fn(self.input), self.output, f\"Should be {self.output}\")\n",
      "AssertionError: ',,,,,,,,,,,,,,,,,,,,,,,,,,,,,,,,,,,,,,,,,[290 chars],z,z' != 'aebrmop,bdfdafgll,bmmqkvyhp,cfiwdvrv,dctt[123 chars]zpdu'\n",
      "- ,,,,,,,,,,,,,,,,,,,,,,,,,,,,,,,,,,,,,,,,,,a,a,a,a,b,b,b,b,b,c,c,c,c,d,d,d,d,d,d,d,d,d,e,e,e,e,f,f,f,f,f,f,f,f,f,g,g,g,g,h,h,h,h,h,h,h,i,i,i,i,i,j,j,k,k,k,k,k,l,l,l,l,m,m,m,m,m,m,m,m,m,m,m,n,o,o,o,o,p,p,p,p,p,p,p,p,p,q,q,q,q,q,q,q,q,q,r,r,r,r,r,r,r,r,r,s,s,t,t,t,t,t,t,u,u,u,u,u,v,v,v,v,v,v,v,w,w,w,w,x,x,x,x,x,y,y,y,y,y,y,y,y,y,z,z,z,z\n",
      "+ aebrmop,bdfdafgll,bmmqkvyhp,cfiwdvrv,dcttvzyh,dhqfub,dlgc,hiopjfp,hpvk,kyrywqipx,ltmpu,moexwayrq,motebfef,mzmiwrvdkt,nxtykxyq,pirf,qrqgru,qyxc,rfjd,smmqgh,vshzmauy,zpdu\n",
      " : Should be aebrmop,bdfdafgll,bmmqkvyhp,cfiwdvrv,dcttvzyh,dhqfub,dlgc,hiopjfp,hpvk,kyrywqipx,ltmpu,moexwayrq,motebfef,mzmiwrvdkt,nxtykxyq,pirf,qrqgru,qyxc,rfjd,smmqgh,vshzmauy,zpdu\n",
      "\n"
     ]
    },
    {
     "name": "stderr",
     "output_type": "stream",
     "text": [
      "======================================================================\n",
      "FAIL: runTest (mod.testing.test_alpha.<locals>.TestKnown)\n",
      "----------------------------------------------------------------------\n",
      "Traceback (most recent call last):\n",
      "  File \"C:\\Users\\Leticia Martinez\\Desktop\\IRONHACK\\Labs\\lab-functions\\mod\\testing.py\", line 187, in runTest\n",
      "    self.assertEqual(fn(self.input), self.output, f\"Should be {self.output}\")\n",
      "AssertionError: ',,,,,,,,,,,,,,,,,,,,,,,,,,,,,,,,a,b,b,b,b[242 chars],z,z' != 'bopmvxdub,cvco,ejvrhog,glvfc,gviqrxmbv,hb[99 chars]udja'\n",
      "- ,,,,,,,,,,,,,,,,,,,,,,,,,,,,,,,,a,b,b,b,b,b,b,c,c,c,c,c,c,c,d,d,d,d,e,e,e,e,e,e,f,f,g,g,g,g,g,g,g,g,h,h,h,i,i,i,i,i,i,j,j,j,j,j,j,j,j,j,k,k,l,l,l,l,l,l,m,m,m,m,m,m,n,n,n,n,o,o,o,o,p,p,p,p,q,q,q,q,q,q,r,r,r,r,s,s,s,t,t,u,u,u,u,u,v,v,v,v,v,v,v,v,v,v,v,w,w,x,x,x,x,y,y,y,y,y,y,y,y,y,z,z,z,z\n",
      "+ bopmvxdub,cvco,ejvrhog,glvfc,gviqrxmbv,hbnsbji,ieqyrsckvg,ijnt,jmjfmsgy,lgxywgyznd,qiljbeuup,qwejmge,rjzizmlcp,upxqdevvl,ylycvn,yyykthovc,zqudja\n",
      " : Should be bopmvxdub,cvco,ejvrhog,glvfc,gviqrxmbv,hbnsbji,ieqyrsckvg,ijnt,jmjfmsgy,lgxywgyznd,qiljbeuup,qwejmge,rjzizmlcp,upxqdevvl,ylycvn,yyykthovc,zqudja\n",
      "\n",
      "======================================================================\n",
      "FAIL: runTest (mod.testing.test_alpha.<locals>.TestKnown)\n",
      "----------------------------------------------------------------------\n",
      "Traceback (most recent call last):\n",
      "  File \"C:\\Users\\Leticia Martinez\\Desktop\\IRONHACK\\Labs\\lab-functions\\mod\\testing.py\", line 187, in runTest\n",
      "    self.assertEqual(fn(self.input), self.output, f\"Should be {self.output}\")\n",
      "AssertionError: ',,,,,,,,,,,,,,,,,,b,b,b,c,c,c,c,d,e,e,g,g[82 chars],x,y' != 'grpvi,hcrjvl,iceo,iilktc,klrh,lrecg,oqbbx[19 chars]wbit'\n",
      "- ,,,,,,,,,,,,,,,,,,b,b,b,c,c,c,c,d,e,e,g,g,h,h,i,i,i,i,i,j,j,j,k,k,k,k,l,l,l,l,l,n,n,o,o,o,p,q,q,r,r,r,r,r,t,t,t,t,v,v,v,w,x,x,y\n",
      "+ grpvi,hcrjvl,iceo,iilktc,klrh,lrecg,oqbbx,tjkrvn,txnqjydokl,wbit\n",
      " : Should be grpvi,hcrjvl,iceo,iilktc,klrh,lrecg,oqbbx,tjkrvn,txnqjydokl,wbit\n",
      "\n",
      "======================================================================\n",
      "FAIL: runTest (mod.testing.test_alpha.<locals>.TestKnown)\n",
      "----------------------------------------------------------------------\n",
      "Traceback (most recent call last):\n",
      "  File \"C:\\Users\\Leticia Martinez\\Desktop\\IRONHACK\\Labs\\lab-functions\\mod\\testing.py\", line 187, in runTest\n",
      "    self.assertEqual(fn(self.input), self.output, f\"Should be {self.output}\")\n",
      "AssertionError: ',,,,,,,,,,,,,,,,,,,,,,,,,,,,a,a,a,a,a,b,b[204 chars],z,z' != 'anbbqa,eduoprapz,evsuiqu,ggrtdibo,hyhztee[80 chars]wbxo'\n",
      "- ,,,,,,,,,,,,,,,,,,,,,,,,,,,,a,a,a,a,a,b,b,b,b,b,b,c,c,d,d,d,d,d,d,e,e,e,e,e,e,e,e,e,f,f,f,f,g,g,g,g,g,h,h,h,i,i,i,i,k,k,k,k,k,k,l,l,l,l,m,m,m,n,n,n,o,o,o,o,o,p,p,p,p,q,q,q,q,q,q,q,r,r,r,r,r,s,s,s,s,t,t,t,u,u,u,u,v,v,v,v,w,w,w,w,x,x,x,y,y,y,y,z,z,z,z\n",
      "+ anbbqa,eduoprapz,evsuiqu,ggrtdibo,hyhzteed,igbe,kwcfmgocf,lelvqn,mielfps,pafqknavo,qkxhqkmgzb,qrxrekud,wkdydlrst,ywevs,yzwbxo\n",
      " : Should be anbbqa,eduoprapz,evsuiqu,ggrtdibo,hyhzteed,igbe,kwcfmgocf,lelvqn,mielfps,pafqknavo,qkxhqkmgzb,qrxrekud,wkdydlrst,ywevs,yzwbxo\n",
      "\n",
      "======================================================================\n",
      "FAIL: runTest (mod.testing.test_alpha.<locals>.TestKnown)\n",
      "----------------------------------------------------------------------\n",
      "Traceback (most recent call last):\n",
      "  File \"C:\\Users\\Leticia Martinez\\Desktop\\IRONHACK\\Labs\\lab-functions\\mod\\testing.py\", line 187, in runTest\n",
      "    self.assertEqual(fn(self.input), self.output, f\"Should be {self.output}\")\n",
      "AssertionError: ',,,,,,,,,,,,,,,,a,a,b,b,b,c,c,c,c,c,c,d,d[106 chars],y,z' != 'cybytnrq,gvqmxficjj,jllcwcjazf,juul,kpoxt[31 chars]uqbh'\n",
      "- ,,,,,,,,,,,,,,,,a,a,b,b,b,c,c,c,c,c,c,d,d,f,f,g,h,h,h,i,j,j,j,j,j,j,k,k,k,l,l,l,m,m,n,n,o,p,p,q,q,q,q,q,r,r,r,r,r,s,t,t,u,u,u,u,u,v,v,w,x,x,x,x,y,y,y,z\n",
      "+ cybytnrq,gvqmxficjj,jllcwcjazf,juul,kpoxtnxs,pmkvjcqhdy,qrdcr,rxkh,uraubuqbh\n",
      " : Should be cybytnrq,gvqmxficjj,jllcwcjazf,juul,kpoxtnxs,pmkvjcqhdy,qrdcr,rxkh,uraubuqbh\n",
      "\n",
      "======================================================================\n",
      "FAIL: runTest (mod.testing.test_alpha.<locals>.TestKnown)\n",
      "----------------------------------------------------------------------\n",
      "Traceback (most recent call last):\n",
      "  File \"C:\\Users\\Leticia Martinez\\Desktop\\IRONHACK\\Labs\\lab-functions\\mod\\testing.py\", line 187, in runTest\n",
      "    self.assertEqual(fn(self.input), self.output, f\"Should be {self.output}\")\n",
      "AssertionError: ',,,,,,,,,,,,,,,,,,,,,,,,,,,,,,,,,,,,,,,,,[350 chars],z,z' != 'adzuuldlk,bpgwqpbcxd,cspyccm,ctdbps,fqwxj[153 chars]cxqc'\n",
      "- ,,,,,,,,,,,,,,,,,,,,,,,,,,,,,,,,,,,,,,,,,,,,,,a,a,b,b,b,b,b,b,b,b,b,c,c,c,c,c,c,c,c,c,c,c,c,c,d,d,d,d,d,d,d,e,e,e,e,e,f,f,f,f,f,f,g,g,g,g,g,g,h,h,h,h,h,h,i,i,i,i,i,i,i,j,j,j,j,j,j,j,k,k,k,k,l,l,l,l,l,l,l,l,m,m,m,m,n,n,n,n,n,n,o,o,o,o,o,p,p,p,p,p,p,p,p,p,p,p,q,q,q,q,q,q,q,q,r,r,r,r,r,r,s,s,s,s,s,s,s,t,t,t,t,t,t,t,u,u,u,u,u,u,u,u,u,u,u,v,v,v,v,v,w,w,w,w,w,w,w,w,w,x,x,x,x,x,x,x,x,y,y,z,z,z,z,z,z\n",
      "+ adzuuldlk,bpgwqpbcxd,cspyccm,ctdbps,fqwxjwfs,grwfgadv,hjoxxr,htunpwq,ijjvvbv,kuscuw,nrmfcp,nubisebp,ocwinpufn,oxtxteil,prnd,pwelqqio,qbprl,tcmdgtzgel,tzzik,ubjfhmhkli,uhuq,ulrjzssbvw,xehcjzg,ycocxqc\n",
      " : Should be adzuuldlk,bpgwqpbcxd,cspyccm,ctdbps,fqwxjwfs,grwfgadv,hjoxxr,htunpwq,ijjvvbv,kuscuw,nrmfcp,nubisebp,ocwinpufn,oxtxteil,prnd,pwelqqio,qbprl,tcmdgtzgel,tzzik,ubjfhmhkli,uhuq,ulrjzssbvw,xehcjzg,ycocxqc\n",
      "\n",
      "======================================================================\n",
      "FAIL: runTest (mod.testing.test_alpha.<locals>.TestKnown)\n",
      "----------------------------------------------------------------------\n",
      "Traceback (most recent call last):\n",
      "  File \"C:\\Users\\Leticia Martinez\\Desktop\\IRONHACK\\Labs\\lab-functions\\mod\\testing.py\", line 187, in runTest\n",
      "    self.assertEqual(fn(self.input), self.output, f\"Should be {self.output}\")\n",
      "AssertionError: ',,,,,,,,,,,,,,,,,,,,,,,,,,,,,,,,,,,,,,,,,[364 chars],z,z' != 'atxzbx,cpibnmd,gkypjluix,grymkpa,hkbiui,l[160 chars]ybkx'\n",
      "- ,,,,,,,,,,,,,,,,,,,,,,,,,,,,,,,,,,,,,,,,,,,,,,a,a,a,a,a,a,a,a,b,b,b,b,b,b,b,b,b,b,c,c,c,c,d,d,d,d,d,e,e,e,e,e,e,f,f,g,g,g,g,g,g,g,g,g,g,h,h,h,h,h,h,i,i,i,i,i,i,i,j,j,j,j,j,j,k,k,k,k,k,l,l,l,l,l,l,l,l,l,m,m,m,m,m,m,m,m,m,m,m,m,n,n,n,n,n,n,n,o,o,o,o,o,o,o,p,p,p,p,p,p,p,p,p,q,q,q,q,r,r,r,r,r,r,r,r,s,s,s,s,t,t,t,t,t,t,t,t,t,u,u,u,u,u,u,u,u,v,v,v,v,v,v,w,w,w,w,w,w,w,w,w,x,x,x,x,x,x,x,y,y,y,y,y,y,y,z,z,z,z,z,z,z\n",
      "+ atxzbx,cpibnmd,gkypjluix,grymkpa,hkbiui,ldgme,mahwwzx,mgbrehuol,mtuocluhod,muttmsuhsl,nmaylwrj,otql,qbccf,rpulzgbjdj,rzmyem,ttnqoymajw,viravspl,wovsfbvvp,xpbvwgnd,xwgbgn,ywpanrgn,zaepqetiwt,zohijk,zrgeybkx\n",
      " : Should be atxzbx,cpibnmd,gkypjluix,grymkpa,hkbiui,ldgme,mahwwzx,mgbrehuol,mtuocluhod,muttmsuhsl,nmaylwrj,otql,qbccf,rpulzgbjdj,rzmyem,ttnqoymajw,viravspl,wovsfbvvp,xpbvwgnd,xwgbgn,ywpanrgn,zaepqetiwt,zohijk,zrgeybkx\n",
      "\n",
      "======================================================================\n",
      "FAIL: runTest (mod.testing.test_alpha.<locals>.TestKnown)\n",
      "----------------------------------------------------------------------\n",
      "Traceback (most recent call last):\n",
      "  File \"C:\\Users\\Leticia Martinez\\Desktop\\IRONHACK\\Labs\\lab-functions\\mod\\testing.py\", line 187, in runTest\n",
      "    self.assertEqual(fn(self.input), self.output, f\"Should be {self.output}\")\n",
      "AssertionError: ',,,,,,a,b,b,c,e,e,f,g,i,i,i,i,i,j,m,m,n,o,o,o,p,r,t,w,w,y,z,z' != 'fzemycwz,nbpeao,obii,ogtimjwiri'\n",
      "- ,,,,,,a,b,b,c,e,e,f,g,i,i,i,i,i,j,m,m,n,o,o,o,p,r,t,w,w,y,z,z\n",
      "+ fzemycwz,nbpeao,obii,ogtimjwiri\n",
      " : Should be fzemycwz,nbpeao,obii,ogtimjwiri\n",
      "\n",
      "======================================================================\n",
      "FAIL: runTest (mod.testing.test_alpha.<locals>.TestKnown)\n",
      "----------------------------------------------------------------------\n",
      "Traceback (most recent call last):\n",
      "  File \"C:\\Users\\Leticia Martinez\\Desktop\\IRONHACK\\Labs\\lab-functions\\mod\\testing.py\", line 187, in runTest\n",
      "    self.assertEqual(fn(self.input), self.output, f\"Should be {self.output}\")\n",
      "AssertionError: ',,,,,,,,,,,,,,a,a,a,a,a,a,b,b,c,c,d,d,d,d[102 chars],z,z' != 'dsbna,dzqzcaqkpr,emswocaddu,eqvaaubyvi,tu[29 chars]ywhu'\n",
      "- ,,,,,,,,,,,,,,a,a,a,a,a,a,b,b,c,c,d,d,d,d,d,e,e,h,h,i,i,i,j,j,k,k,m,m,m,n,o,o,o,o,p,q,q,q,q,q,r,s,s,t,t,t,t,u,u,u,u,u,u,u,v,v,v,w,w,w,w,y,y,y,y,z,z\n",
      "+ dsbna,dzqzcaqkpr,emswocaddu,eqvaaubyvi,tuhjtomk,umtwqji,uutqvdoaow,yiyywhu\n",
      " : Should be dsbna,dzqzcaqkpr,emswocaddu,eqvaaubyvi,tuhjtomk,umtwqji,uutqvdoaow,yiyywhu\n",
      "\n"
     ]
    },
    {
     "name": "stderr",
     "output_type": "stream",
     "text": [
      "======================================================================\n",
      "FAIL: runTest (mod.testing.test_alpha.<locals>.TestKnown)\n",
      "----------------------------------------------------------------------\n",
      "Traceback (most recent call last):\n",
      "  File \"C:\\Users\\Leticia Martinez\\Desktop\\IRONHACK\\Labs\\lab-functions\\mod\\testing.py\", line 187, in runTest\n",
      "    self.assertEqual(fn(self.input), self.output, f\"Should be {self.output}\")\n",
      "AssertionError: ',,,,,,,,,,,,,,,,,,,,,,,,,,a,a,a,a,a,a,b,b[170 chars],y,z' != 'bbfwfi,breyxmp,cfxsk,hhoumoanaq,hykxav,nq[63 chars]ecci'\n",
      "- ,,,,,,,,,,,,,,,,,,,,,,,,,,a,a,a,a,a,a,b,b,b,b,b,c,c,c,c,c,c,e,e,e,e,f,f,f,g,g,h,h,h,h,i,i,i,i,i,j,j,k,k,k,k,l,l,l,l,l,l,l,m,m,m,m,m,m,n,n,n,n,o,o,o,p,p,p,p,q,q,q,q,q,r,r,r,s,t,t,t,u,u,u,u,u,u,v,v,w,w,w,x,x,x,x,y,y,z\n",
      "+ bbfwfi,breyxmp,cfxsk,hhoumoanaq,hykxav,nqajx,oakgli,pvlaec,quulti,rqblnbp,rumhulmi,twjpkleczq,umgcmnl,wtecci\n",
      " : Should be bbfwfi,breyxmp,cfxsk,hhoumoanaq,hykxav,nqajx,oakgli,pvlaec,quulti,rqblnbp,rumhulmi,twjpkleczq,umgcmnl,wtecci\n",
      "\n",
      "======================================================================\n",
      "FAIL: runTest (mod.testing.test_alpha.<locals>.TestKnown)\n",
      "----------------------------------------------------------------------\n",
      "Traceback (most recent call last):\n",
      "  File \"C:\\Users\\Leticia Martinez\\Desktop\\IRONHACK\\Labs\\lab-functions\\mod\\testing.py\", line 187, in runTest\n",
      "    self.assertEqual(fn(self.input), self.output, f\"Should be {self.output}\")\n",
      "AssertionError: ',,,,,,,,,,,,,,,,,,,,a,a,a,a,b,c,d,d,d,e,e[112 chars],z,z' != 'axtpukio,begjr,fpayeht,hsvpvx,iklp,jyoqxl[34 chars]pxdq'\n",
      "- ,,,,,,,,,,,,,,,,,,,,a,a,a,a,b,c,d,d,d,e,e,e,f,g,g,h,h,i,i,i,j,j,k,k,l,l,m,m,n,o,o,o,p,p,p,p,p,p,p,q,q,r,r,r,r,s,s,s,t,t,t,u,u,u,v,v,v,w,w,x,x,x,x,x,y,y,y,z,z\n",
      "+ axtpukio,begjr,fpayeht,hsvpvx,iklp,jyoqxlc,paazx,pmnior,tmdsry,vegsr,wduuzwpxdq\n",
      " : Should be axtpukio,begjr,fpayeht,hsvpvx,iklp,jyoqxlc,paazx,pmnior,tmdsry,vegsr,wduuzwpxdq\n",
      "\n",
      "======================================================================\n",
      "FAIL: runTest (mod.testing.test_alpha.<locals>.TestKnown)\n",
      "----------------------------------------------------------------------\n",
      "Traceback (most recent call last):\n",
      "  File \"C:\\Users\\Leticia Martinez\\Desktop\\IRONHACK\\Labs\\lab-functions\\mod\\testing.py\", line 187, in runTest\n",
      "    self.assertEqual(fn(self.input), self.output, f\"Should be {self.output}\")\n",
      "AssertionError: ',,,,,,,,,,,,,,,,,,,,,,,,,,,,,,,,,,a,a,a,a[234 chars],z,z' != 'aizehzceap,dcggujvsn,ejjy,etilrlz,fktfwrb[95 chars]zcoe'\n",
      "- ,,,,,,,,,,,,,,,,,,,,,,,,,,,,,,,,,,a,a,a,a,b,b,c,c,c,d,d,d,d,d,d,d,d,e,e,e,e,e,e,e,e,e,e,f,f,f,f,f,g,g,g,h,h,h,h,i,i,i,i,i,i,i,j,j,j,j,j,j,j,k,k,k,k,k,l,l,m,m,m,m,m,n,n,n,n,n,n,n,o,o,o,o,o,p,p,q,r,r,r,r,s,s,s,s,s,s,t,t,t,u,u,u,u,u,u,u,v,v,v,v,v,v,v,w,w,w,w,x,x,x,x,y,y,z,z,z,z,z,z\n",
      "+ aizehzceap,dcggujvsn,ejjy,etilrlz,fktfwrbjv,inoa,ionqk,irdmveh,jhzfdmn,nfmv,owjb,pegdnysae,ukvosjwxu,umess,uvdsxkhfii,uwzedrnm,xxtdukvd,zcoe\n",
      " : Should be aizehzceap,dcggujvsn,ejjy,etilrlz,fktfwrbjv,inoa,ionqk,irdmveh,jhzfdmn,nfmv,owjb,pegdnysae,ukvosjwxu,umess,uvdsxkhfii,uwzedrnm,xxtdukvd,zcoe\n",
      "\n",
      "======================================================================\n",
      "FAIL: runTest (mod.testing.test_alpha.<locals>.TestKnown)\n",
      "----------------------------------------------------------------------\n",
      "Traceback (most recent call last):\n",
      "  File \"C:\\Users\\Leticia Martinez\\Desktop\\IRONHACK\\Labs\\lab-functions\\mod\\testing.py\", line 187, in runTest\n",
      "    self.assertEqual(fn(self.input), self.output, f\"Should be {self.output}\")\n",
      "AssertionError: ',,,,,,,,,,,,,,,,a,b,c,c,d,d,d,d,d,e,e,f,f[102 chars],z,z' != 'doxpizlwb,fdnscps,olrix,ruvqsline,szulhde[29 chars]xold'\n",
      "- ,,,,,,,,,,,,,,,,a,b,c,c,d,d,d,d,d,e,e,f,f,h,i,i,i,i,k,k,k,l,l,l,l,l,l,m,n,n,o,o,o,o,p,p,q,q,q,r,r,r,s,s,s,s,s,t,t,t,u,u,u,v,v,v,w,w,w,x,x,x,x,y,z,z\n",
      "+ doxpizlwb,fdnscps,olrix,ruvqsline,szulhdem,tkkyvavd,tufqrs,wktqlico,xwxold\n",
      " : Should be doxpizlwb,fdnscps,olrix,ruvqsline,szulhdem,tkkyvavd,tufqrs,wktqlico,xwxold\n",
      "\n",
      "======================================================================\n",
      "FAIL: runTest (mod.testing.test_alpha.<locals>.TestKnown)\n",
      "----------------------------------------------------------------------\n",
      "Traceback (most recent call last):\n",
      "  File \"C:\\Users\\Leticia Martinez\\Desktop\\IRONHACK\\Labs\\lab-functions\\mod\\testing.py\", line 187, in runTest\n",
      "    self.assertEqual(fn(self.input), self.output, f\"Should be {self.output}\")\n",
      "AssertionError: ',,,,,,,,,,,,,,,,,,,,,,,,,,,,,,,,,,,,,,a,a[274 chars],z,z' != 'bfiwgwfev,dbyqkcloff,domndzrhhd,hxeo,jlpo[115 chars]ypeh'\n",
      "- ,,,,,,,,,,,,,,,,,,,,,,,,,,,,,,,,,,,,,,a,a,a,a,a,a,b,b,b,b,b,b,c,c,c,c,c,d,d,d,d,d,e,e,e,e,e,e,e,f,f,f,f,f,f,f,f,f,g,g,g,g,g,g,h,h,h,h,h,h,h,h,i,i,i,i,j,j,j,k,k,k,l,l,l,l,l,l,l,m,m,m,m,m,m,n,n,n,n,o,o,o,o,o,o,o,o,o,o,p,p,p,p,p,q,q,q,q,r,r,r,s,s,s,s,s,s,t,t,t,u,u,u,u,u,v,v,v,v,v,w,w,w,w,w,x,x,x,x,x,x,y,y,y,y,y,z,z,z,z,z\n",
      "+ bfiwgwfev,dbyqkcloff,domndzrhhd,hxeo,jlpof,lmgbl,nblkgz,nsyj,tmouaacso,uphrhc,upufjoega,vusoczrq,wczap,wxsabwmqs,xekh,xhfble,xiagftqf,xvmmieglso,ydvoitnzvy,ypeh\n",
      " : Should be bfiwgwfev,dbyqkcloff,domndzrhhd,hxeo,jlpof,lmgbl,nblkgz,nsyj,tmouaacso,uphrhc,upufjoega,vusoczrq,wczap,wxsabwmqs,xekh,xhfble,xiagftqf,xvmmieglso,ydvoitnzvy,ypeh\n",
      "\n",
      "======================================================================\n",
      "FAIL: runTest (mod.testing.test_alpha.<locals>.TestKnown)\n",
      "----------------------------------------------------------------------\n",
      "Traceback (most recent call last):\n",
      "  File \"C:\\Users\\Leticia Martinez\\Desktop\\IRONHACK\\Labs\\lab-functions\\mod\\testing.py\", line 187, in runTest\n",
      "    self.assertEqual(fn(self.input), self.output, f\"Should be {self.output}\")\n",
      "AssertionError: ',,,,,,,,,,,,,,,,,,,,,,,,,,,,,,,,,,,,a,a,a[274 chars],z,z' != 'axmqgqool,cdkpqs,coegmxttjg,dbgrunwgpm,dx[115 chars]xzhl'\n",
      "- ,,,,,,,,,,,,,,,,,,,,,,,,,,,,,,,,,,,,a,a,a,b,b,b,b,c,c,c,c,d,d,d,d,d,d,d,d,e,e,e,e,e,e,f,g,g,g,g,g,g,g,g,g,h,h,h,i,i,i,i,i,j,j,j,j,k,k,k,k,l,l,l,m,m,m,m,m,m,m,n,n,n,n,n,o,o,o,o,o,o,p,p,p,p,p,p,p,p,p,q,q,q,q,q,q,q,r,r,r,r,r,s,s,s,s,s,s,t,t,t,t,t,t,u,u,u,v,v,v,w,w,w,w,w,w,x,x,x,x,x,x,x,x,x,x,x,x,x,y,y,y,y,y,y,y,y,z,z,z,z\n",
      "+ axmqgqool,cdkpqs,coegmxttjg,dbgrunwgpm,dxqhigkp,enrssmhxob,enwpa,fmbatn,ikcd,ndmuydxgoq,pjiymrx,qpyxxgevjv,selryebwc,vtgxd,xdqsuyk,xpwpwiw,xyoiztjts,ypzz,yrxzhl\n",
      " : Should be axmqgqool,cdkpqs,coegmxttjg,dbgrunwgpm,dxqhigkp,enrssmhxob,enwpa,fmbatn,ikcd,ndmuydxgoq,pjiymrx,qpyxxgevjv,selryebwc,vtgxd,xdqsuyk,xpwpwiw,xyoiztjts,ypzz,yrxzhl\n",
      "\n",
      "======================================================================\n",
      "FAIL: runTest (mod.testing.test_alpha.<locals>.TestKnown)\n",
      "----------------------------------------------------------------------\n",
      "Traceback (most recent call last):\n",
      "  File \"C:\\Users\\Leticia Martinez\\Desktop\\IRONHACK\\Labs\\lab-functions\\mod\\testing.py\", line 187, in runTest\n",
      "    self.assertEqual(fn(self.input), self.output, f\"Should be {self.output}\")\n",
      "AssertionError: ',,,,,,,,,,,,,,,,,,,,,,,,,,,,,,,,a,a,a,a,a[238 chars],z,z' != 'aexwdlc,aswxwwf,bmjscz,fcrsqutvdg,gbswsju[97 chars]mzxn'\n",
      "- ,,,,,,,,,,,,,,,,,,,,,,,,,,,,,,,,a,a,a,a,a,b,b,b,b,b,b,b,c,c,c,c,c,c,d,d,e,e,e,e,e,f,f,f,g,g,g,g,g,h,h,j,j,k,k,k,l,l,l,l,l,l,m,m,m,m,m,m,n,n,n,n,p,p,q,q,q,q,q,r,r,r,r,r,r,s,s,s,s,s,s,s,s,s,s,s,s,s,t,t,t,t,t,u,u,u,u,u,u,v,v,v,w,w,w,w,w,x,x,x,x,x,x,x,x,y,y,y,y,y,y,z,z,z,z,z,z,z,z,z,z,z\n",
      "+ aexwdlc,aswxwwf,bmjscz,fcrsqutvdg,gbswsjulpt,kneaqy,rbrvfazsl,sglqszcsrh,ugebhntms,uzkrtspszc,xbzll,xqmma,xuxunqyze,xzgte,yrkyb,yvysczb,zmmzxn\n",
      " : Should be aexwdlc,aswxwwf,bmjscz,fcrsqutvdg,gbswsjulpt,kneaqy,rbrvfazsl,sglqszcsrh,ugebhntms,uzkrtspszc,xbzll,xqmma,xuxunqyze,xzgte,yrkyb,yvysczb,zmmzxn\n",
      "\n",
      "======================================================================\n",
      "FAIL: runTest (mod.testing.test_alpha.<locals>.TestKnown)\n",
      "----------------------------------------------------------------------\n",
      "Traceback (most recent call last):\n",
      "  File \"C:\\Users\\Leticia Martinez\\Desktop\\IRONHACK\\Labs\\lab-functions\\mod\\testing.py\", line 187, in runTest\n",
      "    self.assertEqual(fn(self.input), self.output, f\"Should be {self.output}\")\n",
      "AssertionError: ',,,,,,,,,,,,,,,,,,,,,,,,,,,,,,a,a,b,b,b,b[212 chars],z,z' != 'bzrqbsxu,camximytw,cvefbdkoe,dsuobgspe,ls[84 chars]bjtm'\n",
      "- ,,,,,,,,,,,,,,,,,,,,,,,,,,,,,,a,a,b,b,b,b,b,b,c,c,c,c,c,c,d,d,d,d,d,e,e,e,e,f,f,g,g,g,g,h,i,i,j,j,j,j,j,j,k,k,k,k,l,l,l,l,l,l,l,m,m,m,m,m,m,m,n,n,n,n,n,o,o,o,o,o,o,o,o,p,p,q,q,q,q,q,r,r,s,s,s,s,s,s,s,t,t,t,t,t,t,u,u,u,u,v,v,v,v,v,v,v,v,w,w,w,x,x,x,x,y,y,z,z\n",
      "+ bzrqbsxu,camximytw,cvefbdkoe,dsuobgspe,lsqmjy,lzqgjvoj,mnacfig,nkck,ohgor,otxnplsm,qdtdnxlvn,qwesub,tcvl,utomv,vdjsckwlov,vljbjtm\n",
      " : Should be bzrqbsxu,camximytw,cvefbdkoe,dsuobgspe,lsqmjy,lzqgjvoj,mnacfig,nkck,ohgor,otxnplsm,qdtdnxlvn,qwesub,tcvl,utomv,vdjsckwlov,vljbjtm\n",
      "\n"
     ]
    },
    {
     "name": "stderr",
     "output_type": "stream",
     "text": [
      "======================================================================\n",
      "FAIL: runTest (mod.testing.test_alpha.<locals>.TestKnown)\n",
      "----------------------------------------------------------------------\n",
      "Traceback (most recent call last):\n",
      "  File \"C:\\Users\\Leticia Martinez\\Desktop\\IRONHACK\\Labs\\lab-functions\\mod\\testing.py\", line 187, in runTest\n",
      "    self.assertEqual(fn(self.input), self.output, f\"Should be {self.output}\")\n",
      "AssertionError: ',,,,,,,,a,a,c,c,c,c,d,d,d,e,f,g,g,g,h,i,i[36 chars],z,z' != 'cqgzlcivi,fhqa,jddcyamwr,lezipng,mcdjjzig'\n",
      "- ,,,,,,,,a,a,c,c,c,c,d,d,d,e,f,g,g,g,h,i,i,i,i,j,j,j,l,l,m,m,n,p,q,q,r,v,w,y,z,z,z\n",
      "+ cqgzlcivi,fhqa,jddcyamwr,lezipng,mcdjjzig\n",
      " : Should be cqgzlcivi,fhqa,jddcyamwr,lezipng,mcdjjzig\n",
      "\n",
      "======================================================================\n",
      "FAIL: runTest (mod.testing.test_alpha.<locals>.TestKnown)\n",
      "----------------------------------------------------------------------\n",
      "Traceback (most recent call last):\n",
      "  File \"C:\\Users\\Leticia Martinez\\Desktop\\IRONHACK\\Labs\\lab-functions\\mod\\testing.py\", line 187, in runTest\n",
      "    self.assertEqual(fn(self.input), self.output, f\"Should be {self.output}\")\n",
      "AssertionError: ',,,,,,,,,,,,,,,,,,,,,,,,,,,,,,,,,,,,,,,,,[372 chars],z,z' != 'bdji,brcfojclut,ceejsh,eefnxhhv,eembf,elb[164 chars]gmtg'\n",
      "- ,,,,,,,,,,,,,,,,,,,,,,,,,,,,,,,,,,,,,,,,,,,,,,,,a,a,a,a,a,a,a,b,b,b,b,c,c,c,c,c,c,c,c,c,d,d,d,d,d,d,e,e,e,e,e,e,e,e,e,e,f,f,f,f,f,f,f,f,f,f,f,f,g,g,g,g,g,g,g,g,g,g,g,h,h,h,h,h,h,h,h,h,i,i,i,i,i,i,i,i,i,j,j,j,j,j,j,j,j,j,j,k,k,k,k,l,l,l,l,l,l,l,l,l,m,m,m,m,m,n,n,n,o,o,o,o,p,p,p,p,p,p,q,q,q,q,q,q,r,r,r,r,r,s,s,s,s,s,s,s,t,t,t,t,t,t,t,t,t,t,u,u,u,u,u,v,v,v,v,v,v,v,w,w,w,w,w,w,w,x,x,x,x,x,x,y,y,y,y,y,y,y,z,z,z,z,z,z,z\n",
      "+ bdji,brcfojclut,ceejsh,eefnxhhv,eembf,elbwqtsank,fpfqxvioll,gkzfjg,gpvwcmhpak,gwrdhuzq,ifiwdynak,izgxtdvhpw,jzewmw,jzjeizf,lduiyauc,lods,pcgv,stiytl,tfgxszsq,tjhf,traxrcgve,vagmyt,xyolhicjrq,yasjlufcp,yhfqgmtg\n",
      " : Should be bdji,brcfojclut,ceejsh,eefnxhhv,eembf,elbwqtsank,fpfqxvioll,gkzfjg,gpvwcmhpak,gwrdhuzq,ifiwdynak,izgxtdvhpw,jzewmw,jzjeizf,lduiyauc,lods,pcgv,stiytl,tfgxszsq,tjhf,traxrcgve,vagmyt,xyolhicjrq,yasjlufcp,yhfqgmtg\n",
      "\n",
      "======================================================================\n",
      "FAIL: runTest (mod.testing.test_alpha.<locals>.TestKnown)\n",
      "----------------------------------------------------------------------\n",
      "Traceback (most recent call last):\n",
      "  File \"C:\\Users\\Leticia Martinez\\Desktop\\IRONHACK\\Labs\\lab-functions\\mod\\testing.py\", line 187, in runTest\n",
      "    self.assertEqual(fn(self.input), self.output, f\"Should be {self.output}\")\n",
      "AssertionError: ',,,,,,,,a,a,b,b,c,d,d,e,e,g,i,i,j,k,k,k,l[34 chars],z,z' != 'aptukb,gvzkrjpw,kczsesi,rivltdav,weplrdb'\n",
      "- ,,,,,,,,a,a,b,b,c,d,d,e,e,g,i,i,j,k,k,k,l,l,p,p,p,r,r,r,s,s,t,t,u,v,v,v,w,w,z,z\n",
      "+ aptukb,gvzkrjpw,kczsesi,rivltdav,weplrdb\n",
      " : Should be aptukb,gvzkrjpw,kczsesi,rivltdav,weplrdb\n",
      "\n",
      "======================================================================\n",
      "FAIL: runTest (mod.testing.test_alpha.<locals>.TestKnown)\n",
      "----------------------------------------------------------------------\n",
      "Traceback (most recent call last):\n",
      "  File \"C:\\Users\\Leticia Martinez\\Desktop\\IRONHACK\\Labs\\lab-functions\\mod\\testing.py\", line 187, in runTest\n",
      "    self.assertEqual(fn(self.input), self.output, f\"Should be {self.output}\")\n",
      "AssertionError: ',,,,,,,,,,,,,,,,,,,,,,,,,,,,a,a,a,b,b,b,b[190 chars],z,z' != 'bbhwoeqgn,eonfdgob,fvxldssm,gboa,jalb,kli[73 chars]bxbq'\n",
      "- ,,,,,,,,,,,,,,,,,,,,,,,,,,,,a,a,a,b,b,b,b,b,b,b,b,c,c,c,d,d,d,d,e,e,e,e,f,f,f,f,f,g,g,g,g,g,h,h,h,h,i,i,i,i,j,j,k,k,l,l,l,l,l,l,m,m,m,n,n,n,n,n,o,o,o,o,o,o,o,o,o,o,p,p,p,p,p,p,q,q,q,q,q,r,r,s,s,s,s,s,t,t,t,u,u,v,w,w,w,x,x,x,y,y,y,z,z,z\n",
      "+ bbhwoeqgn,eonfdgob,fvxldssm,gboa,jalb,klit,newpfonc,nhpozxy,oilpsqm,omwrh,pdcqbtlso,rkfdoc,tqsgagpzu,uiflipzyej,yhbxbq\n",
      " : Should be bbhwoeqgn,eonfdgob,fvxldssm,gboa,jalb,klit,newpfonc,nhpozxy,oilpsqm,omwrh,pdcqbtlso,rkfdoc,tqsgagpzu,uiflipzyej,yhbxbq\n",
      "\n",
      "======================================================================\n",
      "FAIL: runTest (mod.testing.test_alpha.<locals>.TestKnown)\n",
      "----------------------------------------------------------------------\n",
      "Traceback (most recent call last):\n",
      "  File \"C:\\Users\\Leticia Martinez\\Desktop\\IRONHACK\\Labs\\lab-functions\\mod\\testing.py\", line 187, in runTest\n",
      "    self.assertEqual(fn(self.input), self.output, f\"Should be {self.output}\")\n",
      "AssertionError: ',,,,,,,,,,,,,,,,,,,,,,,,,,,,,,,,,,,,,,,,,[314 chars],z,z' != 'blngqqnw,bybgjy,fjbwhcxle,fowlobnsq,gxspl[135 chars]fbqw'\n",
      "- ,,,,,,,,,,,,,,,,,,,,,,,,,,,,,,,,,,,,,,,,,,a,a,a,a,a,b,b,b,b,b,b,b,b,b,c,c,c,c,c,c,c,d,d,d,d,d,d,e,e,e,e,f,f,f,f,f,g,g,g,g,g,g,g,h,h,h,h,h,i,i,i,i,i,i,i,i,j,j,j,j,j,k,k,k,k,k,k,l,l,l,l,l,l,l,m,m,m,m,m,m,m,m,n,n,n,n,n,n,n,n,n,o,o,o,o,o,o,p,p,p,p,p,p,p,q,q,q,q,q,q,q,q,r,r,r,r,s,s,s,t,t,t,t,u,u,u,u,u,u,u,v,v,v,v,v,w,w,w,w,w,x,x,x,x,x,x,y,y,y,y,y,y,y,z,z,z,z,z,z\n",
      "+ blngqqnw,bybgjy,fjbwhcxle,fowlobnsq,gxsplou,htdeea,idudzobic,imug,kmaio,lkgu,muwfh,ngialqp,nxuanttr,pmdiifjbnm,qdpcvk,rrtkkhoh,sdavcivzcy,xpmbpn,xvqku,yxgvmepmqy,znyczcyjz,zrjlfbqw\n",
      " : Should be blngqqnw,bybgjy,fjbwhcxle,fowlobnsq,gxsplou,htdeea,idudzobic,imug,kmaio,lkgu,muwfh,ngialqp,nxuanttr,pmdiifjbnm,qdpcvk,rrtkkhoh,sdavcivzcy,xpmbpn,xvqku,yxgvmepmqy,znyczcyjz,zrjlfbqw\n",
      "\n",
      "======================================================================\n",
      "FAIL: runTest (mod.testing.test_alpha.<locals>.TestKnown)\n",
      "----------------------------------------------------------------------\n",
      "Traceback (most recent call last):\n",
      "  File \"C:\\Users\\Leticia Martinez\\Desktop\\IRONHACK\\Labs\\lab-functions\\mod\\testing.py\", line 187, in runTest\n",
      "    self.assertEqual(fn(self.input), self.output, f\"Should be {self.output}\")\n",
      "AssertionError: ',,,,,,,,,,,,,,,,,,,,,,,,,,,,,,,,,,,,,,,,a[278 chars],z,z' != 'capr,dezvwiwmc,fiuerscjr,fmar,gaqksd,hqiz[117 chars]iymz'\n",
      "- ,,,,,,,,,,,,,,,,,,,,,,,,,,,,,,,,,,,,,,,,a,a,a,a,a,a,a,b,b,b,b,b,b,b,c,c,c,c,c,c,d,d,e,e,e,e,f,f,f,g,g,g,g,g,h,h,h,h,i,i,i,i,i,i,i,i,i,j,j,j,j,k,k,k,k,k,k,k,l,l,l,l,m,m,m,m,m,m,m,n,n,n,n,n,n,n,n,n,o,o,o,o,p,p,p,q,q,q,q,r,r,r,r,r,r,r,r,r,s,s,s,s,t,t,t,u,u,u,u,u,u,u,v,v,v,v,w,w,w,w,w,x,x,x,x,x,y,y,y,y,y,y,y,z,z,z,z,z,z,z,z,z\n",
      "+ capr,dezvwiwmc,fiuerscjr,fmar,gaqksd,hqizuack,hsbubnx,hymn,iibmnx,jalowicq,jmrrvyzb,jpnbu,kcfa,mkrx,nxszwnz,ralvuu,unoybgbhkn,xggl,ygiyieetw,zkqyzvrtop,zlnktoiymz\n",
      " : Should be capr,dezvwiwmc,fiuerscjr,fmar,gaqksd,hqizuack,hsbubnx,hymn,iibmnx,jalowicq,jmrrvyzb,jpnbu,kcfa,mkrx,nxszwnz,ralvuu,unoybgbhkn,xggl,ygiyieetw,zkqyzvrtop,zlnktoiymz\n",
      "\n",
      "======================================================================\n",
      "FAIL: runTest (mod.testing.test_alpha.<locals>.TestKnown)\n",
      "----------------------------------------------------------------------\n",
      "Traceback (most recent call last):\n",
      "  File \"C:\\Users\\Leticia Martinez\\Desktop\\IRONHACK\\Labs\\lab-functions\\mod\\testing.py\", line 187, in runTest\n",
      "    self.assertEqual(fn(self.input), self.output, f\"Should be {self.output}\")\n",
      "AssertionError: ',,,,,,,,,,,,,,,,,,,,,,,,,,,,a,a,a,a,a,b,b[170 chars],z,z' != 'aavbxzt,fkgggn,jqrxdezp,nyrqjymceo,okxdh,[63 chars]zovs'\n",
      "- ,,,,,,,,,,,,,,,,,,,,,,,,,,,,a,a,a,a,a,b,b,c,c,d,d,d,e,e,e,e,e,f,g,g,g,g,h,h,h,i,i,i,i,j,j,j,j,k,k,k,l,l,m,n,n,o,o,o,o,o,o,o,p,p,p,p,q,q,r,r,r,s,s,s,s,s,t,t,t,u,u,u,v,v,v,v,v,w,w,w,w,x,x,x,x,x,x,x,y,y,y,y,y,y,z,z,z,z\n",
      "+ aavbxzt,fkgggn,jqrxdezp,nyrqjymceo,okxdh,paxeutos,puxi,pvda,sywsa,wevwgo,wilv,xtxbychlj,ykiy,zorsuohjei,zovs\n",
      " : Should be aavbxzt,fkgggn,jqrxdezp,nyrqjymceo,okxdh,paxeutos,puxi,pvda,sywsa,wevwgo,wilv,xtxbychlj,ykiy,zorsuohjei,zovs\n",
      "\n",
      "======================================================================\n",
      "FAIL: runTest (mod.testing.test_alpha.<locals>.TestKnown)\n",
      "----------------------------------------------------------------------\n",
      "Traceback (most recent call last):\n",
      "  File \"C:\\Users\\Leticia Martinez\\Desktop\\IRONHACK\\Labs\\lab-functions\\mod\\testing.py\", line 187, in runTest\n",
      "    self.assertEqual(fn(self.input), self.output, f\"Should be {self.output}\")\n",
      "AssertionError: ',,,,,,,,,,,,,,,,,,,,,,,,,,,,,,,,,,,,,,,,,[326 chars],z,z' != 'acpz,aoqph,ayncskck,cfcho,dbnjo,djpdmsxu,[141 chars]znag'\n",
      "- ,,,,,,,,,,,,,,,,,,,,,,,,,,,,,,,,,,,,,,,,,,,,,,a,a,a,a,a,a,a,a,a,a,a,a,b,b,b,b,c,c,c,c,c,c,c,c,c,c,d,d,d,d,d,d,d,e,e,e,e,e,e,e,e,f,f,f,f,g,g,g,h,h,h,h,h,i,i,i,i,j,j,j,k,k,k,k,k,k,l,l,l,l,m,m,m,m,m,m,m,n,n,n,n,n,n,n,n,n,n,n,n,n,n,o,o,o,o,o,o,p,p,p,p,p,q,q,q,r,r,r,r,r,s,s,s,s,s,s,s,s,t,t,t,t,t,u,u,u,u,u,u,u,u,v,v,v,v,v,w,w,w,w,x,x,x,x,x,x,x,x,x,x,y,y,y,y,y,z,z,z,z,z,z,z,z\n",
      "+ acpz,aoqph,ayncskck,cfcho,dbnjo,djpdmsxu,encwmwvoae,faznqrxwsu,gylgmv,hlstunseu,iuncncvf,jzed,kuxas,kxrhmuxnmy,niip,nnaeyt,qaxaaflzui,rkvxbstop,tbdrc,tckn,wmbyvr,xelxoex,znadshemdz,zznag\n",
      " : Should be acpz,aoqph,ayncskck,cfcho,dbnjo,djpdmsxu,encwmwvoae,faznqrxwsu,gylgmv,hlstunseu,iuncncvf,jzed,kuxas,kxrhmuxnmy,niip,nnaeyt,qaxaaflzui,rkvxbstop,tbdrc,tckn,wmbyvr,xelxoex,znadshemdz,zznag\n",
      "\n"
     ]
    },
    {
     "name": "stderr",
     "output_type": "stream",
     "text": [
      "======================================================================\n",
      "FAIL: runTest (mod.testing.test_alpha.<locals>.TestKnown)\n",
      "----------------------------------------------------------------------\n",
      "Traceback (most recent call last):\n",
      "  File \"C:\\Users\\Leticia Martinez\\Desktop\\IRONHACK\\Labs\\lab-functions\\mod\\testing.py\", line 187, in runTest\n",
      "    self.assertEqual(fn(self.input), self.output, f\"Should be {self.output}\")\n",
      "AssertionError: ',,,,,,,,,,,,,,,,,,,,,,,,a,a,a,a,a,a,b,b,c[170 chars],z,z' != 'awrlngteq,cprcm,dzjuzmeriz,ezhduvf,fiuqes[63 chars]asya'\n",
      "- ,,,,,,,,,,,,,,,,,,,,,,,,a,a,a,a,a,a,b,b,c,c,c,c,c,d,d,d,d,d,e,e,e,e,e,e,f,f,f,g,h,h,h,i,i,i,i,j,j,j,k,l,l,l,m,m,m,n,o,o,o,o,p,p,p,p,q,q,q,q,q,r,r,r,r,r,s,s,s,s,s,s,t,t,t,t,t,u,u,u,u,v,w,w,w,x,x,x,y,y,y,z,z,z,z,z,z,z\n",
      "+ awrlngteq,cprcm,dzjuzmeriz,ezhduvf,fiuqes,iocatxdbr,ptowfro,pxtz,qlismuea,syldcja,tqdshczoqh,wbypes,zxjkasya\n",
      " : Should be awrlngteq,cprcm,dzjuzmeriz,ezhduvf,fiuqes,iocatxdbr,ptowfro,pxtz,qlismuea,syldcja,tqdshczoqh,wbypes,zxjkasya\n",
      "\n",
      "======================================================================\n",
      "FAIL: runTest (mod.testing.test_alpha.<locals>.TestKnown)\n",
      "----------------------------------------------------------------------\n",
      "Traceback (most recent call last):\n",
      "  File \"C:\\Users\\Leticia Martinez\\Desktop\\IRONHACK\\Labs\\lab-functions\\mod\\testing.py\", line 187, in runTest\n",
      "    self.assertEqual(fn(self.input), self.output, f\"Should be {self.output}\")\n",
      "AssertionError: ',,,,,,,,a,a,a,a,e,f,g,i,i,k,k,l,l,m,m,o,q,q,u,u,v,v,w,x,x' != 'aaol,kqma,vuquam,xkgfwei,xvil'\n",
      "- ,,,,,,,,a,a,a,a,e,f,g,i,i,k,k,l,l,m,m,o,q,q,u,u,v,v,w,x,x\n",
      "+ aaol,kqma,vuquam,xkgfwei,xvil\n",
      " : Should be aaol,kqma,vuquam,xkgfwei,xvil\n",
      "\n",
      "======================================================================\n",
      "FAIL: runTest (mod.testing.test_alpha.<locals>.TestKnown)\n",
      "----------------------------------------------------------------------\n",
      "Traceback (most recent call last):\n",
      "  File \"C:\\Users\\Leticia Martinez\\Desktop\\IRONHACK\\Labs\\lab-functions\\mod\\testing.py\", line 187, in runTest\n",
      "    self.assertEqual(fn(self.input), self.output, f\"Should be {self.output}\")\n",
      "AssertionError: ',,,,,,,,a,a,c,c,c,d,d,f,f,h,i,i,j,j,k,k,k[46 chars],y,y' != 'canjkkpmy,irfydkyas,jmlfporh,nlmikxcm,qnqrducx'\n",
      "- ,,,,,,,,a,a,c,c,c,d,d,f,f,h,i,i,j,j,k,k,k,k,l,l,m,m,m,m,n,n,n,o,p,p,q,q,r,r,r,s,u,x,x,y,y,y\n",
      "+ canjkkpmy,irfydkyas,jmlfporh,nlmikxcm,qnqrducx\n",
      " : Should be canjkkpmy,irfydkyas,jmlfporh,nlmikxcm,qnqrducx\n",
      "\n",
      "======================================================================\n",
      "FAIL: runTest (mod.testing.test_alpha.<locals>.TestKnown)\n",
      "----------------------------------------------------------------------\n",
      "Traceback (most recent call last):\n",
      "  File \"C:\\Users\\Leticia Martinez\\Desktop\\IRONHACK\\Labs\\lab-functions\\mod\\testing.py\", line 187, in runTest\n",
      "    self.assertEqual(fn(self.input), self.output, f\"Should be {self.output}\")\n",
      "AssertionError: ',,,,,,,,,,,,,,,,,,,,,,,,,,,,,,,,,,,,a,a,a[288 chars],z,z' != 'brskkrcy,bsxu,bwbmexfreb,chkzonvli,eohnfr[122 chars]onzo'\n",
      "- ,,,,,,,,,,,,,,,,,,,,,,,,,,,,,,,,,,,,a,a,a,a,a,b,b,b,b,b,b,b,b,b,b,c,c,c,c,d,d,d,d,d,d,d,e,e,e,e,e,e,e,f,f,f,g,g,g,h,h,h,h,h,h,h,i,i,i,i,i,i,j,j,j,j,k,k,k,k,k,k,k,k,k,l,l,l,l,l,l,m,m,m,m,n,n,n,n,n,o,o,o,o,o,p,p,p,p,p,p,p,p,p,p,q,q,q,q,r,r,r,r,r,r,r,r,r,r,r,s,s,s,s,s,s,t,t,t,u,u,u,v,v,v,v,w,w,w,w,w,w,x,x,x,x,x,y,y,y,y,y,z,z,z,z,z,z,z\n",
      "+ brskkrcy,bsxu,bwbmexfreb,chkzonvli,eohnfrvdri,ewtbo,exwsjrpp,fmlbbpuy,gippalixv,idpwcs,jehyyadg,klpcqirlj,nwdpzvhkzg,rrtb,wdrhapnxeu,yrktp,zaqmddkqm,zksqakj,zshlhbonzo\n",
      " : Should be brskkrcy,bsxu,bwbmexfreb,chkzonvli,eohnfrvdri,ewtbo,exwsjrpp,fmlbbpuy,gippalixv,idpwcs,jehyyadg,klpcqirlj,nwdpzvhkzg,rrtb,wdrhapnxeu,yrktp,zaqmddkqm,zksqakj,zshlhbonzo\n",
      "\n",
      "======================================================================\n",
      "FAIL: runTest (mod.testing.test_alpha.<locals>.TestKnown)\n",
      "----------------------------------------------------------------------\n",
      "Traceback (most recent call last):\n",
      "  File \"C:\\Users\\Leticia Martinez\\Desktop\\IRONHACK\\Labs\\lab-functions\\mod\\testing.py\", line 187, in runTest\n",
      "    self.assertEqual(fn(self.input), self.output, f\"Should be {self.output}\")\n",
      "AssertionError: ',,,,,,,,,,,,,,,,a,a,a,b,b,b,c,d,d,d,e,e,f[106 chars],z,z' != 'agsnyxd,bsdnftoxm,fnoqyebhxq,jocpf,londsz[31 chars]veai'\n",
      "- ,,,,,,,,,,,,,,,,a,a,a,b,b,b,c,d,d,d,e,e,f,f,f,f,g,h,h,h,i,j,l,l,m,n,n,n,n,n,o,o,o,o,o,p,p,p,p,q,q,q,r,r,s,s,s,s,t,t,v,v,v,x,x,x,x,x,x,x,x,x,y,y,y,y,z,z\n",
      "+ agsnyxd,bsdnftoxm,fnoqyebhxq,jocpf,londszzxo,shxhxplp,vrxr,xbqtfxv,yaypnveai\n",
      " : Should be agsnyxd,bsdnftoxm,fnoqyebhxq,jocpf,londszzxo,shxhxplp,vrxr,xbqtfxv,yaypnveai\n",
      "\n",
      "======================================================================\n",
      "FAIL: runTest (mod.testing.test_alpha.<locals>.TestKnown)\n",
      "----------------------------------------------------------------------\n",
      "Traceback (most recent call last):\n",
      "  File \"C:\\Users\\Leticia Martinez\\Desktop\\IRONHACK\\Labs\\lab-functions\\mod\\testing.py\", line 187, in runTest\n",
      "    self.assertEqual(fn(self.input), self.output, f\"Should be {self.output}\")\n",
      "AssertionError: ',,,,,,,,,,,,,,,,,,,,,,,,,,,,,,,,,,,,,,a,a[272 chars],z,z' != 'aixtfxpi,aocnurdhbi,bxgxqm,fvsyy,iymxbw,j[114 chars]tidz'\n",
      "- ,,,,,,,,,,,,,,,,,,,,,,,,,,,,,,,,,,,,,,a,a,a,a,a,a,b,b,b,b,b,c,c,c,c,d,d,d,d,d,e,e,e,e,f,f,f,f,f,f,g,g,g,g,g,g,h,h,h,h,h,h,i,i,i,i,i,i,i,i,i,i,j,j,j,j,k,l,l,l,l,m,m,m,m,m,m,n,n,n,n,n,n,o,o,o,o,o,o,o,o,p,p,p,p,p,q,q,q,q,q,q,q,r,r,r,r,r,r,s,s,s,s,t,t,t,t,t,t,t,t,u,u,u,u,v,v,v,w,w,w,w,w,x,x,x,x,x,x,x,y,y,y,y,y,y,y,y,z,z\n",
      "+ aixtfxpi,aocnurdhbi,bxgxqm,fvsyy,iymxbw,jfgvroo,jmqe,lfqsnqv,mnup,mpcwgrqcd,oihyda,ollgifoaua,pyxw,qigyphhwye,rnfr,tdslgmrtk,tzontcteob,uhbtnseqaw,xjihji,ytidz\n",
      " : Should be aixtfxpi,aocnurdhbi,bxgxqm,fvsyy,iymxbw,jfgvroo,jmqe,lfqsnqv,mnup,mpcwgrqcd,oihyda,ollgifoaua,pyxw,qigyphhwye,rnfr,tdslgmrtk,tzontcteob,uhbtnseqaw,xjihji,ytidz\n",
      "\n",
      "======================================================================\n",
      "FAIL: runTest (mod.testing.test_alpha.<locals>.TestKnown)\n",
      "----------------------------------------------------------------------\n",
      "Traceback (most recent call last):\n",
      "  File \"C:\\Users\\Leticia Martinez\\Desktop\\IRONHACK\\Labs\\lab-functions\\mod\\testing.py\", line 187, in runTest\n",
      "    self.assertEqual(fn(self.input), self.output, f\"Should be {self.output}\")\n",
      "AssertionError: ',,,,,,,,,,,,,,a,b,b,d,d,e,e,e,e,e,f,f,f,g[86 chars],z,z' != 'eezyfrttfa,jhxtniyr,mittn,tbsgjtk,ujzdmwf[21 chars]eegk'\n",
      "- ,,,,,,,,,,,,,,a,b,b,d,d,e,e,e,e,e,f,f,f,g,g,h,h,i,i,j,j,j,j,k,k,k,m,m,m,n,n,n,r,r,s,s,t,t,t,t,t,t,t,u,u,u,v,v,w,x,x,y,y,y,y,y,z,z,z\n",
      "+ eezyfrttfa,jhxtniyr,mittn,tbsgjtk,ujzdmwf,vkubum,xjnshz,yyvdeyeegk\n",
      " : Should be eezyfrttfa,jhxtniyr,mittn,tbsgjtk,ujzdmwf,vkubum,xjnshz,yyvdeyeegk\n",
      "\n",
      "======================================================================\n",
      "FAIL: runTest (mod.testing.test_alpha.<locals>.TestKnown)\n",
      "----------------------------------------------------------------------\n",
      "Traceback (most recent call last):\n",
      "  File \"C:\\Users\\Leticia Martinez\\Desktop\\IRONHACK\\Labs\\lab-functions\\mod\\testing.py\", line 187, in runTest\n",
      "    self.assertEqual(fn(self.input), self.output, f\"Should be {self.output}\")\n",
      "AssertionError: ',,,,,,,,,,,,,,,,,,,,,,,,,,,,,,,,,,,,a,a,a[276 chars],z,z' != 'frrlceuud,gkntsxcr,hakxtnepzr,hcnt,jejbsl[116 chars]ckff'\n",
      "- ,,,,,,,,,,,,,,,,,,,,,,,,,,,,,,,,,,,,a,a,a,b,b,b,b,b,b,b,c,c,c,c,c,d,d,d,e,e,e,e,e,e,e,e,e,e,f,f,f,f,f,f,g,g,g,g,h,h,h,i,i,i,i,j,j,j,j,j,j,j,k,k,k,k,k,k,k,k,l,l,l,l,l,l,l,l,l,l,m,m,m,n,n,n,n,n,n,n,o,o,p,p,q,q,q,q,q,q,r,r,r,r,r,r,r,s,s,s,s,s,s,t,t,t,t,t,t,t,t,t,t,t,u,u,u,u,u,u,u,v,v,v,w,w,w,w,w,x,x,x,x,x,x,x,y,y,z,z,z,z,z\n",
      "+ frrlceuud,gkntsxcr,hakxtnepzr,hcnt,jejbsllu,kncel,kztjqa,lmetkq,ndetuk,odivf,qslimwlsft,rjbrri,sewylxisb,tumunttx,vwbxgevwol,wkfjlubyxb,xjaqpeeqj,zqthg,zzbngckff\n",
      " : Should be frrlceuud,gkntsxcr,hakxtnepzr,hcnt,jejbsllu,kncel,kztjqa,lmetkq,ndetuk,odivf,qslimwlsft,rjbrri,sewylxisb,tumunttx,vwbxgevwol,wkfjlubyxb,xjaqpeeqj,zqthg,zzbngckff\n",
      "\n",
      "======================================================================\n",
      "FAIL: runTest (mod.testing.test_alpha.<locals>.TestKnown)\n",
      "----------------------------------------------------------------------\n",
      "Traceback (most recent call last):\n",
      "  File \"C:\\Users\\Leticia Martinez\\Desktop\\IRONHACK\\Labs\\lab-functions\\mod\\testing.py\", line 187, in runTest\n",
      "    self.assertEqual(fn(self.input), self.output, f\"Should be {self.output}\")\n",
      "AssertionError: ',,,,,,,,,,,,a,a,b,b,b,c,c,d,e,e,f,h,h,h,h[48 chars],y,y' != 'bphxhqxf,ceca,dpqamvl,kinp,qunnbyre,rlhshr,ybhp'\n",
      "- ,,,,,,,,,,,,a,a,b,b,b,c,c,d,e,e,f,h,h,h,h,h,i,k,l,l,m,n,n,n,p,p,p,p,q,q,q,r,r,r,s,u,v,x,x,y,y\n",
      "+ bphxhqxf,ceca,dpqamvl,kinp,qunnbyre,rlhshr,ybhp\n",
      " : Should be bphxhqxf,ceca,dpqamvl,kinp,qunnbyre,rlhshr,ybhp\n",
      "\n"
     ]
    },
    {
     "name": "stderr",
     "output_type": "stream",
     "text": [
      "======================================================================\n",
      "FAIL: runTest (mod.testing.test_alpha.<locals>.TestKnown)\n",
      "----------------------------------------------------------------------\n",
      "Traceback (most recent call last):\n",
      "  File \"C:\\Users\\Leticia Martinez\\Desktop\\IRONHACK\\Labs\\lab-functions\\mod\\testing.py\", line 187, in runTest\n",
      "    self.assertEqual(fn(self.input), self.output, f\"Should be {self.output}\")\n",
      "AssertionError: ',,,,,,,,,,,,,,b,b,b,c,c,d,d,e,e,e,f,f,f,f[88 chars],z,z' != 'bdzfyef,fvbo,husrerrjqq,jhjpgrqiu,mylcyg,[22 chars]doiz'\n",
      "- ,,,,,,,,,,,,,,b,b,b,c,c,d,d,e,e,e,f,f,f,f,g,g,g,g,h,h,i,i,i,j,j,j,k,l,l,l,m,m,o,o,p,p,p,q,q,q,q,r,r,r,r,s,s,t,u,u,u,u,v,w,w,y,y,y,z,z\n",
      "+ bdzfyef,fvbo,husrerrjqq,jhjpgrqiu,mylcyg,scqmkgltu,wfulgpe,wibpdoiz\n",
      " : Should be bdzfyef,fvbo,husrerrjqq,jhjpgrqiu,mylcyg,scqmkgltu,wfulgpe,wibpdoiz\n",
      "\n",
      "======================================================================\n",
      "FAIL: runTest (mod.testing.test_alpha.<locals>.TestKnown)\n",
      "----------------------------------------------------------------------\n",
      "Traceback (most recent call last):\n",
      "  File \"C:\\Users\\Leticia Martinez\\Desktop\\IRONHACK\\Labs\\lab-functions\\mod\\testing.py\", line 187, in runTest\n",
      "    self.assertEqual(fn(self.input), self.output, f\"Should be {self.output}\")\n",
      "AssertionError: ',,,,,,,,,,,,,,,,,,,,,,,,,,,,,,a,a,a,a,a,a[226 chars],z,z' != 'bglaxheq,btsiwmxwr,fplitxrzo,gblafmo,hklk[91 chars]xnbz'\n",
      "- ,,,,,,,,,,,,,,,,,,,,,,,,,,,,,,a,a,a,a,a,a,b,b,b,b,c,c,c,d,d,d,d,d,d,d,e,e,f,f,f,f,g,g,g,g,h,h,h,h,h,h,h,h,i,i,i,i,i,j,j,j,j,k,k,k,l,l,l,l,l,l,l,l,l,m,m,m,m,m,m,n,n,o,o,o,o,o,p,q,q,q,q,r,r,r,r,r,r,r,s,s,s,s,s,s,t,t,t,t,t,t,u,u,v,v,v,w,w,w,w,w,w,w,x,x,x,x,x,x,x,x,x,y,z,z,z\n",
      "+ bglaxheq,btsiwmxwr,fplitxrzo,gblafmo,hklkmlnx,ivcdrma,jshrlcs,jxuhgiwj,mlhfxdahtv,msldoa,osywhovcel,tddfutqhr,tkxid,wsgjr,xdaqrww,zqxnbz\n",
      " : Should be bglaxheq,btsiwmxwr,fplitxrzo,gblafmo,hklkmlnx,ivcdrma,jshrlcs,jxuhgiwj,mlhfxdahtv,msldoa,osywhovcel,tddfutqhr,tkxid,wsgjr,xdaqrww,zqxnbz\n",
      "\n",
      "======================================================================\n",
      "FAIL: runTest (mod.testing.test_alpha.<locals>.TestKnown)\n",
      "----------------------------------------------------------------------\n",
      "Traceback (most recent call last):\n",
      "  File \"C:\\Users\\Leticia Martinez\\Desktop\\IRONHACK\\Labs\\lab-functions\\mod\\testing.py\", line 187, in runTest\n",
      "    self.assertEqual(fn(self.input), self.output, f\"Should be {self.output}\")\n",
      "AssertionError: ',,,,,,,,,,,,,,,,,,,,,,,,a,a,a,a,b,b,c,c,d[144 chars],z,z' != 'augw,dhyx,fszfxxhb,hkydc,jdyvaej,nlmn,pvp[50 chars]howh'\n",
      "- ,,,,,,,,,,,,,,,,,,,,,,,,a,a,a,a,b,b,c,c,d,d,d,e,e,e,e,f,f,f,f,f,f,g,h,h,h,h,h,i,i,i,j,j,j,k,k,l,l,l,m,n,n,n,o,o,o,p,p,q,q,q,q,r,s,s,t,u,u,u,u,u,v,v,v,w,w,w,w,w,x,x,x,x,x,x,x,x,y,y,y,y,z,z,z\n",
      "+ augw,dhyx,fszfxxhb,hkydc,jdyvaej,nlmn,pvpxeoonzf,qkxtifli,qujual,qxexueqbw,wuvfy,xirwsafc,zhowh\n",
      " : Should be augw,dhyx,fszfxxhb,hkydc,jdyvaej,nlmn,pvpxeoonzf,qkxtifli,qujual,qxexueqbw,wuvfy,xirwsafc,zhowh\n",
      "\n",
      "======================================================================\n",
      "FAIL: runTest (mod.testing.test_alpha.<locals>.TestKnown)\n",
      "----------------------------------------------------------------------\n",
      "Traceback (most recent call last):\n",
      "  File \"C:\\Users\\Leticia Martinez\\Desktop\\IRONHACK\\Labs\\lab-functions\\mod\\testing.py\", line 187, in runTest\n",
      "    self.assertEqual(fn(self.input), self.output, f\"Should be {self.output}\")\n",
      "AssertionError: ',,,,,,,,,,,,,,,,,,a,b,b,b,c,d,d,d,d,d,e,e[112 chars],y,z' != 'bpnecxl,ehfbl,ertuyxy,hwjipdie,jhiva,jibm[34 chars]zxqq'\n",
      "- ,,,,,,,,,,,,,,,,,,a,b,b,b,c,d,d,d,d,d,e,e,e,e,e,f,f,f,h,h,h,h,i,i,i,i,i,i,j,j,j,l,l,l,m,m,n,o,o,o,p,p,p,q,q,q,r,s,t,t,t,t,t,u,u,u,v,v,w,w,w,x,x,x,x,x,y,y,y,z\n",
      "+ bpnecxl,ehfbl,ertuyxy,hwjipdie,jhiva,jibm,mpwxstoyv,odiuttf,utodfdhl,xdqwiezxqq\n",
      " : Should be bpnecxl,ehfbl,ertuyxy,hwjipdie,jhiva,jibm,mpwxstoyv,odiuttf,utodfdhl,xdqwiezxqq\n",
      "\n",
      "======================================================================\n",
      "FAIL: runTest (mod.testing.test_alpha.<locals>.TestKnown)\n",
      "----------------------------------------------------------------------\n",
      "Traceback (most recent call last):\n",
      "  File \"C:\\Users\\Leticia Martinez\\Desktop\\IRONHACK\\Labs\\lab-functions\\mod\\testing.py\", line 187, in runTest\n",
      "    self.assertEqual(fn(self.input), self.output, f\"Should be {self.output}\")\n",
      "AssertionError: ',,,,,,b,e,f,f,g,l,l,m,n,n,n,n,o,o,p,p,p,r,r,s,s,s,t,t,u,w,w,x' != 'gnnptnofpb,powllrm,snwfru,sxtse'\n",
      "- ,,,,,,b,e,f,f,g,l,l,m,n,n,n,n,o,o,p,p,p,r,r,s,s,s,t,t,u,w,w,x\n",
      "+ gnnptnofpb,powllrm,snwfru,sxtse\n",
      " : Should be gnnptnofpb,powllrm,snwfru,sxtse\n",
      "\n",
      "======================================================================\n",
      "FAIL: runTest (mod.testing.test_alpha.<locals>.TestKnown)\n",
      "----------------------------------------------------------------------\n",
      "Traceback (most recent call last):\n",
      "  File \"C:\\Users\\Leticia Martinez\\Desktop\\IRONHACK\\Labs\\lab-functions\\mod\\testing.py\", line 187, in runTest\n",
      "    self.assertEqual(fn(self.input), self.output, f\"Should be {self.output}\")\n",
      "AssertionError: ',,,,,,,,,,,,,,,,,,,,,,,,,,,,,,,,,,,,,,,,,[360 chars],z,z' != 'ckwkygczpr,efctncopth,emwibvpe,enbw,fkbql[158 chars]zkas'\n",
      "- ,,,,,,,,,,,,,,,,,,,,,,,,,,,,,,,,,,,,,,,,,,,,,,,,a,a,a,a,a,a,b,b,b,b,b,b,c,c,c,c,c,c,c,d,d,d,d,d,d,e,e,e,e,e,e,e,e,e,e,e,e,f,f,f,f,g,g,g,g,h,h,h,h,h,h,h,h,h,h,h,h,i,i,i,i,j,j,j,k,k,k,k,k,k,k,k,l,l,l,l,l,l,l,l,m,m,m,m,m,m,m,m,n,n,n,n,n,n,o,o,o,o,o,p,p,p,p,p,p,p,q,q,q,q,q,q,q,q,q,r,r,r,r,r,r,r,r,s,s,s,t,t,t,t,t,t,u,u,u,u,u,u,v,v,v,v,v,v,v,v,w,w,w,w,w,w,w,w,w,w,x,x,x,x,x,x,x,y,y,y,y,y,z,z,z,z,z,z,z,z,z,z,z\n",
      "+ ckwkygczpr,efctncopth,emwibvpe,enbw,fkbqlehpvq,fqkltdex,haqj,hdwr,mcevfzwugn,mjuvrrdvwp,ozmkizzor,qhqbzmhn,qrdskxtnbu,scdhzdek,taqp,tulb,viochal,vlma,wehi,wljmxvxph,yhlzele,ymhu,yrrwzw,yxugonxqxa,zgezkas\n",
      " : Should be ckwkygczpr,efctncopth,emwibvpe,enbw,fkbqlehpvq,fqkltdex,haqj,hdwr,mcevfzwugn,mjuvrrdvwp,ozmkizzor,qhqbzmhn,qrdskxtnbu,scdhzdek,taqp,tulb,viochal,vlma,wehi,wljmxvxph,yhlzele,ymhu,yrrwzw,yxugonxqxa,zgezkas\n",
      "\n",
      "======================================================================\n",
      "FAIL: runTest (mod.testing.test_alpha.<locals>.TestKnown)\n",
      "----------------------------------------------------------------------\n",
      "Traceback (most recent call last):\n",
      "  File \"C:\\Users\\Leticia Martinez\\Desktop\\IRONHACK\\Labs\\lab-functions\\mod\\testing.py\", line 187, in runTest\n",
      "    self.assertEqual(fn(self.input), self.output, f\"Should be {self.output}\")\n",
      "AssertionError: ',,,,,,,,,,,,,,a,b,b,b,c,d,d,d,e,g,g,g,g,i[72 chars],z,z' != 'cdmppu,drbzgrpv,ggmrvr,kyxpttzlr,lsiev,rb[14 chars]bttj'\n",
      "- ,,,,,,,,,,,,,,a,b,b,b,c,d,d,d,e,g,g,g,g,i,j,j,k,l,l,m,m,n,o,p,p,p,p,r,r,r,r,r,r,r,r,s,s,t,t,t,t,u,v,v,v,v,x,y,y,z,z,z\n",
      "+ cdmppu,drbzgrpv,ggmrvr,kyxpttzlr,lsiev,rbogj,yvnrs,zadrbttj\n",
      " : Should be cdmppu,drbzgrpv,ggmrvr,kyxpttzlr,lsiev,rbogj,yvnrs,zadrbttj\n",
      "\n",
      "======================================================================\n",
      "FAIL: runTest (mod.testing.test_alpha.<locals>.TestKnown)\n",
      "----------------------------------------------------------------------\n",
      "Traceback (most recent call last):\n",
      "  File \"C:\\Users\\Leticia Martinez\\Desktop\\IRONHACK\\Labs\\lab-functions\\mod\\testing.py\", line 187, in runTest\n",
      "    self.assertEqual(fn(self.input), self.output, f\"Should be {self.output}\")\n",
      "AssertionError: ',,,,,,,,,,a,b,b,c,c,c,d,d,e,e,g,g,h,h,h,h[38 chars],v,z' != 'bdeh,ccgrqkpm,hcleuv,htmaqgnlz,nuupb,ppdht'\n",
      "- ,,,,,,,,,,a,b,b,c,c,c,d,d,e,e,g,g,h,h,h,h,k,l,l,m,m,n,n,p,p,p,p,q,q,r,t,t,u,u,u,v,z\n",
      "+ bdeh,ccgrqkpm,hcleuv,htmaqgnlz,nuupb,ppdht\n",
      " : Should be bdeh,ccgrqkpm,hcleuv,htmaqgnlz,nuupb,ppdht\n",
      "\n",
      "======================================================================\n",
      "FAIL: runTest (mod.testing.test_alpha.<locals>.TestKnown)\n",
      "----------------------------------------------------------------------\n",
      "Traceback (most recent call last):\n",
      "  File \"C:\\Users\\Leticia Martinez\\Desktop\\IRONHACK\\Labs\\lab-functions\\mod\\testing.py\", line 187, in runTest\n",
      "    self.assertEqual(fn(self.input), self.output, f\"Should be {self.output}\")\n",
      "AssertionError: ',,,,,,,,,,,,,,,,,,,,,,,,,,,,,,,,a,a,a,a,b[234 chars],z,z' != 'adixuxjqd,cqogri,cvzel,cxqgzliouf,fsjmmue[95 chars]nqqm'\n",
      "- ,,,,,,,,,,,,,,,,,,,,,,,,,,,,,,,,a,a,a,a,b,b,b,b,c,c,c,c,c,c,d,d,d,d,d,d,e,e,e,e,f,f,f,f,f,f,g,g,g,g,g,h,h,h,h,i,i,i,i,j,j,j,j,j,k,k,k,l,l,l,l,m,m,m,m,m,n,n,n,n,n,n,o,o,o,o,o,o,o,p,p,p,p,p,q,q,q,q,q,q,r,r,r,r,s,s,s,s,s,t,t,t,u,u,u,u,u,v,v,v,v,v,w,w,x,x,x,x,x,x,x,x,x,x,y,y,y,z,z,z\n",
      "+ adixuxjqd,cqogri,cvzel,cxqgzliouf,fsjmmueldf,fvwibatjc,gmcmxss,hqkopxvx,hrvobtwged,njhdsk,nxypb,oxxfxpf,pzougeb,rhantap,rnnlv,syjokucd,ynqqm\n",
      " : Should be adixuxjqd,cqogri,cvzel,cxqgzliouf,fsjmmueldf,fvwibatjc,gmcmxss,hqkopxvx,hrvobtwged,njhdsk,nxypb,oxxfxpf,pzougeb,rhantap,rnnlv,syjokucd,ynqqm\n",
      "\n"
     ]
    },
    {
     "name": "stderr",
     "output_type": "stream",
     "text": [
      "======================================================================\n",
      "FAIL: runTest (mod.testing.test_alpha.<locals>.TestKnown)\n",
      "----------------------------------------------------------------------\n",
      "Traceback (most recent call last):\n",
      "  File \"C:\\Users\\Leticia Martinez\\Desktop\\IRONHACK\\Labs\\lab-functions\\mod\\testing.py\", line 187, in runTest\n",
      "    self.assertEqual(fn(self.input), self.output, f\"Should be {self.output}\")\n",
      "AssertionError: ',,,,,,,,a,b,b,c,c,d,d,d,d,e,e,e,e,f,f,g,g[34 chars],x,x' != 'bebg,cedsgddhx,ejisd,jaxhsojfwt,wfcnujue'\n",
      "- ,,,,,,,,a,b,b,c,c,d,d,d,d,e,e,e,e,f,f,g,g,h,h,i,j,j,j,j,n,o,s,s,s,t,u,u,w,w,x,x\n",
      "+ bebg,cedsgddhx,ejisd,jaxhsojfwt,wfcnujue\n",
      " : Should be bebg,cedsgddhx,ejisd,jaxhsojfwt,wfcnujue\n",
      "\n",
      "======================================================================\n",
      "FAIL: runTest (mod.testing.test_alpha.<locals>.TestKnown)\n",
      "----------------------------------------------------------------------\n",
      "Traceback (most recent call last):\n",
      "  File \"C:\\Users\\Leticia Martinez\\Desktop\\IRONHACK\\Labs\\lab-functions\\mod\\testing.py\", line 187, in runTest\n",
      "    self.assertEqual(fn(self.input), self.output, f\"Should be {self.output}\")\n",
      "AssertionError: ',,,,,,,,,,,,,,,,,,,,,,,,,,,,,,,,,,,,a,a,a[274 chars],z,z' != 'ahfko,aweztuz,binmktu,bkeskuth,bnmko,fxtu[115 chars]xrtk'\n",
      "- ,,,,,,,,,,,,,,,,,,,,,,,,,,,,,,,,,,,,a,a,a,a,b,b,b,b,b,b,b,c,c,c,d,d,d,d,d,e,e,e,e,e,e,e,e,f,f,f,f,f,g,g,h,h,h,h,h,h,h,i,i,i,i,j,j,j,j,j,j,j,k,k,k,k,k,k,k,k,l,l,l,l,l,l,m,m,m,m,m,m,m,n,n,n,n,n,n,n,n,o,o,o,o,o,o,o,p,p,p,q,q,q,q,q,q,r,r,r,r,r,r,r,r,s,s,s,s,t,t,t,t,t,t,t,t,u,u,u,u,u,u,u,u,v,w,w,w,w,x,x,x,x,x,x,y,y,z,z,z,z\n",
      "+ ahfko,aweztuz,binmktu,bkeskuth,bnmko,fxtu,hcjqeit,hrdngj,jetwms,jhcnrqpbch,ljsznitmlw,oewfqnyajb,ohzumd,okrkd,rflnlbmpd,rxxneuxxu,sqbpqaio,uqldmlrjfr,veeogyxrtk\n",
      " : Should be ahfko,aweztuz,binmktu,bkeskuth,bnmko,fxtu,hcjqeit,hrdngj,jetwms,jhcnrqpbch,ljsznitmlw,oewfqnyajb,ohzumd,okrkd,rflnlbmpd,rxxneuxxu,sqbpqaio,uqldmlrjfr,veeogyxrtk\n",
      "\n",
      "======================================================================\n",
      "FAIL: runTest (mod.testing.test_alpha.<locals>.TestKnown)\n",
      "----------------------------------------------------------------------\n",
      "Traceback (most recent call last):\n",
      "  File \"C:\\Users\\Leticia Martinez\\Desktop\\IRONHACK\\Labs\\lab-functions\\mod\\testing.py\", line 187, in runTest\n",
      "    self.assertEqual(fn(self.input), self.output, f\"Should be {self.output}\")\n",
      "AssertionError: ',,,,,,,,,,,,,,,,,,,,,,,,,,,,,,,,,,,,,,,,,[300 chars],z,z' != 'dclrjpoaz,djhzgettg,dtruwtizr,efmb,elazcc[128 chars]yuhj'\n",
      "- ,,,,,,,,,,,,,,,,,,,,,,,,,,,,,,,,,,,,,,,,,,a,a,a,a,a,a,a,a,b,b,c,c,c,c,c,c,d,d,d,d,d,e,e,e,e,e,e,e,f,f,f,f,f,f,g,g,g,g,h,h,h,h,h,i,i,i,i,j,j,j,j,j,j,j,k,k,k,k,k,k,k,l,l,l,l,l,l,l,m,m,m,m,m,n,n,n,n,n,n,n,o,o,o,o,p,p,p,p,p,q,q,q,q,q,r,r,r,r,r,r,r,s,s,s,s,s,s,t,t,t,t,t,t,t,t,u,u,u,u,u,u,u,u,v,v,w,w,w,w,w,w,w,x,x,x,x,x,y,y,y,y,y,z,z,z,z,z,z,z,z,z,z\n",
      "+ dclrjpoaz,djhzgettg,dtruwtizr,efmb,elazcconuz,ffnpzs,fyiw,gllnpzpuq,gnsje,hika,jkkmnome,jkvxxnyk,ksawti,rssc,sqbfal,trwhudcz,tryxzmud,uqqtzon,vxwuafj,wqaaepe,ylklhcrwmx,yuhj\n",
      " : Should be dclrjpoaz,djhzgettg,dtruwtizr,efmb,elazcconuz,ffnpzs,fyiw,gllnpzpuq,gnsje,hika,jkkmnome,jkvxxnyk,ksawti,rssc,sqbfal,trwhudcz,tryxzmud,uqqtzon,vxwuafj,wqaaepe,ylklhcrwmx,yuhj\n",
      "\n",
      "======================================================================\n",
      "FAIL: runTest (mod.testing.test_alpha.<locals>.TestKnown)\n",
      "----------------------------------------------------------------------\n",
      "Traceback (most recent call last):\n",
      "  File \"C:\\Users\\Leticia Martinez\\Desktop\\IRONHACK\\Labs\\lab-functions\\mod\\testing.py\", line 187, in runTest\n",
      "    self.assertEqual(fn(self.input), self.output, f\"Should be {self.output}\")\n",
      "AssertionError: ',,,,,,,,,,,,,,a,a,c,c,d,e,e,e,e,e,f,f,f,f[82 chars],y,y' != 'cgfrfwpepk,fkwxsynpjq,fnhau,irea,jmswj,se[19 chars]tssd'\n",
      "- ,,,,,,,,,,,,,,a,a,c,c,d,e,e,e,e,e,f,f,f,f,f,g,g,h,i,j,j,j,k,k,k,l,l,m,n,n,o,p,p,p,q,r,r,s,s,s,s,s,s,s,t,t,u,u,v,w,w,w,x,x,y,y,y\n",
      "+ cgfrfwpepk,fkwxsynpjq,fnhau,irea,jmswj,seouslevlf,tksy,xcgyetssd\n",
      " : Should be cgfrfwpepk,fkwxsynpjq,fnhau,irea,jmswj,seouslevlf,tksy,xcgyetssd\n",
      "\n",
      "======================================================================\n",
      "FAIL: runTest (mod.testing.test_alpha.<locals>.TestKnown)\n",
      "----------------------------------------------------------------------\n",
      "Traceback (most recent call last):\n",
      "  File \"C:\\Users\\Leticia Martinez\\Desktop\\IRONHACK\\Labs\\lab-functions\\mod\\testing.py\", line 187, in runTest\n",
      "    self.assertEqual(fn(self.input), self.output, f\"Should be {self.output}\")\n",
      "AssertionError: ',,,,,,,,,,,,,,,,,,,,,,,,,,,,,,,,,,,,,,,,,[310 chars],z,z' != 'aekasbp,bepkipa,bghbvtikje,bxzgsf,clsrkqm[133 chars]xnrp'\n",
      "- ,,,,,,,,,,,,,,,,,,,,,,,,,,,,,,,,,,,,,,,,,,a,a,a,a,a,a,a,a,b,b,b,b,b,b,b,b,b,b,b,c,c,c,c,c,c,d,d,d,d,d,d,e,e,e,e,e,f,f,f,f,g,g,g,g,g,g,g,g,h,h,h,h,i,i,i,i,i,i,i,i,j,j,j,j,j,j,j,j,k,k,k,k,k,k,k,l,l,l,l,m,m,n,n,n,n,n,n,n,o,o,o,o,o,o,p,p,p,p,p,p,p,p,p,q,q,q,q,q,r,r,r,r,r,r,r,r,r,s,s,s,s,s,s,s,s,t,t,t,t,t,t,u,u,u,v,v,v,w,w,w,w,w,x,x,x,x,x,x,y,y,y,y,y,z,z,z,z\n",
      "+ aekasbp,bepkipa,bghbvtikje,bxzgsf,clsrkqmag,cymqjub,feldjb,gckroodjpd,gtcyuet,hbfjnwskv,npyztszaho,nribqln,pdlnxrh,pdoc,ribzix,riorfyjwar,tigd,tissqkjv,ugaa,wxyqos,xbjwwpngc,xnrp\n",
      " : Should be aekasbp,bepkipa,bghbvtikje,bxzgsf,clsrkqmag,cymqjub,feldjb,gckroodjpd,gtcyuet,hbfjnwskv,npyztszaho,nribqln,pdlnxrh,pdoc,ribzix,riorfyjwar,tigd,tissqkjv,ugaa,wxyqos,xbjwwpngc,xnrp\n",
      "\n",
      "----------------------------------------------------------------------\n",
      "Ran 100 tests in 0.135s\n",
      "\n",
      "FAILED (failures=100)\n"
     ]
    }
   ],
   "source": [
    "# This will test your function \n",
    "test_alpha(sort_alpha)"
   ]
  },
  {
   "cell_type": "code",
   "execution_count": null,
   "metadata": {},
   "outputs": [],
   "source": []
  }
 ],
 "metadata": {
  "kernelspec": {
   "display_name": "Python 3 (ipykernel)",
   "language": "python",
   "name": "python3"
  },
  "language_info": {
   "codemirror_mode": {
    "name": "ipython",
    "version": 3
   },
   "file_extension": ".py",
   "mimetype": "text/x-python",
   "name": "python",
   "nbconvert_exporter": "python",
   "pygments_lexer": "ipython3",
   "version": "3.10.9"
  },
  "toc": {
   "base_numbering": 1,
   "nav_menu": {},
   "number_sections": true,
   "sideBar": true,
   "skip_h1_title": false,
   "title_cell": "Table of Contents",
   "title_sidebar": "Contents",
   "toc_cell": false,
   "toc_position": {},
   "toc_section_display": true,
   "toc_window_display": false
  }
 },
 "nbformat": 4,
 "nbformat_minor": 4
}
